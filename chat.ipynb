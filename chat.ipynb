{
 "cells": [
  {
   "cell_type": "code",
   "execution_count": 22,
   "id": "39b932b0",
   "metadata": {},
   "outputs": [],
   "source": [
    "import os\n",
    "from openai import OpenAI\n",
    "from pathlib import Path\n",
    "\n",
    "from slugify import slugify\n",
    "\n",
    "SYSTEM_PROMPTS = Path(\"src\")/\"llm\"/\"system_prompts\"\n",
    "USER_PROMPTS = Path(\"src\")/\"llm\"/\"user_prompts\"\n",
    "OUTPUT_DIR = Path(\"outputs\")\n",
    "\n",
    "from src.utils.config import settings\n",
    "from src.utils.logging import configure_logging, get_logger\n",
    "configure_logging(\n",
    "    log_level=\"INFO\",\n",
    "    json_format=False,\n",
    ")\n",
    "LOGGER = get_logger(\"notebook\")\n",
    "\n",
    "\n",
    "CLIENT = OpenAI(\n",
    "    base_url = f\"http://{settings.openai_api.host}:{settings.openai_api.port}/v1\",\n",
    "    api_key = f\"{settings.openai_api.api_key}\"\n",
    ")\n",
    "\n",
    "\n"
   ]
  },
  {
   "cell_type": "code",
   "execution_count": 27,
   "id": "ac404e20",
   "metadata": {},
   "outputs": [
    {
     "name": "stderr",
     "output_type": "stream",
     "text": [
      "2025-04-22T06:45:04.784519Z [info     ] requesting gemma-3-12B-it-qat-GGUF at 0.0\n",
      "HTTP Request: POST http://10.0.0.4:11434/v1/chat/completions \"HTTP/1.1 200 OK\"\n",
      "2025-04-22T06:45:40.381323Z [info     ] wrote 5611 to outputs/tell-me-about-stocashtic-indicators/gemma-3-12B-it-qat-GGUF at 0.0 (1).md\n",
      "2025-04-22T06:45:40.382126Z [info     ] requesting gemma-3-12B-it-qat-GGUF at 1.3\n",
      "HTTP Request: POST http://10.0.0.4:11434/v1/chat/completions \"HTTP/1.1 200 OK\"\n",
      "2025-04-22T06:46:19.137906Z [info     ] wrote 6199 to outputs/tell-me-about-stocashtic-indicators/gemma-3-12B-it-qat-GGUF at 1.3 (1).md\n",
      "2025-04-22T06:46:19.138753Z [info     ] requesting gemma-3-12B-it-qat-GGUF at 2.0\n",
      "HTTP Request: POST http://10.0.0.4:11434/v1/chat/completions \"HTTP/1.1 200 OK\"\n",
      "2025-04-22T06:47:00.938613Z [info     ] wrote 7232 to outputs/tell-me-about-stocashtic-indicators/gemma-3-12B-it-qat-GGUF at 2.0 (1).md\n"
     ]
    }
   ],
   "source": [
    "models = [\n",
    "    # \"hf.co/lmstudio-community/gemma-3-4B-it-qat-GGUF\",\n",
    "    # \"hf.co/lmstudio-community/gemma-3-12b-it-GGUF:Q6_K\"\n",
    "    # \"hf.co/lmstudio-community/gemma-3-12b-it-GGUF\",\n",
    "    \"hf.co/lmstudio-community/gemma-3-12B-it-qat-GGUF\"\n",
    "]\n",
    "temperatures = [0.0, 1.3, 2.0]\n",
    "\n",
    "system_prompt = \"\"\n",
    "with open(SYSTEM_PROMPTS/\"general.md\") as file:\n",
    "    system_prompt = file.read()\n",
    "\n",
    "user_prompt = \"tell me about stocashtic indicators\"\n",
    "slug = slugify(user_prompt, max_length=40)\n",
    "\n",
    "for model in models:\n",
    "    model_name = Path(model).name\n",
    "    for i in range(1, 2):\n",
    "        for temperature in temperatures:\n",
    "            LOGGER.info(f\"requesting {model_name} at {temperature}\")\n",
    "            response = CLIENT.chat.completions.create(\n",
    "                messages=[\n",
    "                    {\n",
    "                        'role': 'system',\n",
    "                        'content': system_prompt\n",
    "                    },\n",
    "                    {\n",
    "                        \"role\": 'user',\n",
    "                        \"content\": user_prompt\n",
    "                    }\n",
    "                ],\n",
    "                model=model,\n",
    "                temperature=temperature\n",
    "            )\n",
    "            if len(response.choices) > 1:\n",
    "                LOGGER.warning(f\"generated {len(response.choices)} choices\")\n",
    "\n",
    "            output = response.choices[0].message.content\n",
    "\n",
    "            output_path = OUTPUT_DIR/slug\n",
    "            output_path.mkdir(exist_ok=True)\n",
    "            filename = f\"{model_name} at {temperature} ({i}).md\"\n",
    "            with open(output_path/filename, \"w\") as file:\n",
    "                file.write(output)\n",
    "            LOGGER.info(f\"wrote {len(output)} to {output_path}/{filename}\")\n",
    "\n",
    "\n",
    "\n",
    "\n"
   ]
  },
  {
   "cell_type": "code",
   "execution_count": 33,
   "id": "569e99c7",
   "metadata": {},
   "outputs": [
    {
     "data": {
      "text/plain": [
       "{'business_summary': '# Identity\\n\\nYou are a business analyst creating a comprehensive summary of a company based on its\\n10-K filing.\\n\\n## Instructions\\n\\nYour task is to create a clear, concise overview of the company that includes:\\n1. Core business model and revenue streams\\n2. Market position and competitive landscape\\n3. Key products and services\\n4. Growth strategy and future outlook\\n5. Major business segments and their performance\\n\\nFocus on providing a balanced, objective summary that captures the essential aspects of the\\nbusiness without subjective evaluation.\\n\\n## Format Requirements\\n\\nWrite your output in markdown format:\\n- Use hashtags (#, ##, ###, ####, #####) to indicate section headings.\\n- Use bold text to emphasize keywords or phrases (**something important**).\\n- Use italic text to emphasize phrasing (_must_, _always_, _etc_)\\n- Use hyphens (-) to indicate list items.\\n- Limit the length of list items to one sentence.\\n- Use backticks (`) to highlight equations, formulas, and code snippets\\n',\n",
       " 'management_discussion': \"# Identity\\n\\nYou are a management consultant evaluating the leadership team of a company based on their\\nManagement's Discussion and Analysis (MD&A) section of their 10-K filing.\\n\\n## Instructions\\n\\nYour goal is to assess the management team's:\\n1. Transparency and honesty in discussing challenges\\n2. Strategic thinking and forward planning\\n3. Execution capabilities based on past performance\\n4. Risk awareness and mitigation strategies\\n\\nProvide a balanced assessment that identifies both strengths and weaknesses, supporting\\neach observation with specific evidence from the text.\\n\\n## Format Requirements\\n\\nWrite your output in markdown format:\\n- Use hashtags (#, ##, ###, ####, #####) to indicate section headings.\\n- Use bold text to emphasize keywords or phrases (**something important**).\\n- Use italic text to emphasize phrasing (_must_, _always_, _etc_)\\n- Use hyphens (-) to indicate list items.\\n- Limit the length of list items to one sentence.\\n- Use backticks (`) to highlight equations, formulas, and code snippets\\n\",\n",
       " 'risk_analysis': \"# Identity\\n\\nYou are a financial analyst specializing in risk assessment. Your task is to analyze\\nthe risk factors section of a company's 10-K filing and provide a structured assessment.\\nFocus on identifying the most significant risks, changes from previous years, and how\\nthe company plans to mitigate these risks.\\n\\n## Instructions\\n\\nProvide your analysis in a clear, structured format with sections for:\\n1. Key Risk Categories\\n2. Most Significant Risks\\n3. Risk Trend Analysis (if historical data available)\\n4. Risk Mitigation Strategies\\n5. Overall Risk Assessment\\n\\nBase your analysis solely on the provided information without adding external knowledge.\\n\\n## Format Requirements\\n\\nWrite your output in markdown format:\\n- Use hashtags (#, ##, ###, ####, #####) to indicate section headings.\\n- Use bold text to emphasize keywords or phrases (**something important**).\\n- Use italic text to emphasize phrasing (_must_, _always_, _etc_)\\n- Use hyphens (-) to indicate list items.\\n- Limit the length of list items to one sentence.\\n- Use backticks (`) to highlight equations, formulas, and code snippets\\n\"}"
      ]
     },
     "execution_count": 33,
     "metadata": {},
     "output_type": "execute_result"
    }
   ],
   "source": [
    "from src.llm import SYSTEM_PROMPTS, USER_PROMPT_TEMPLATES\n",
    "SYSTEM_PROMPTS"
   ]
  },
  {
   "cell_type": "code",
   "execution_count": 34,
   "id": "85b6b8de",
   "metadata": {},
   "outputs": [
    {
     "data": {
      "text/plain": [
       "{'risk_analysis': \"\\nPlease analyze the following Risk Factors section from {company_name}'s {year} 10-K filing:\\n\\n{content}\\n\",\n",
       " 'management_assessment': \"\\nPlease analyze the following Management's Discussion and Analysis section from {company_name}'s {year} 10-K filing:\\n\\n{content}\\n\",\n",
       " 'business_summary': \"\\nPlease provide a business summary based on the following information from {company_name}'s {year} 10-K filing:\\n\\n{content}\\n\"}"
      ]
     },
     "execution_count": 34,
     "metadata": {},
     "output_type": "execute_result"
    }
   ],
   "source": [
    "USER_PROMPT_TEMPLATES"
   ]
  },
  {
   "cell_type": "code",
   "execution_count": 2,
   "id": "f531a0d3",
   "metadata": {},
   "outputs": [
    {
     "ename": "ArgumentError",
     "evalue": "'SchemaItem' object, such as a 'Column' or a 'Constraint' expected, got <class 'str'>",
     "output_type": "error",
     "traceback": [
      "\u001b[31m---------------------------------------------------------------------------\u001b[39m",
      "\u001b[31mAttributeError\u001b[39m                            Traceback (most recent call last)",
      "\u001b[36mFile \u001b[39m\u001b[32m~/symbology/.venv/lib/python3.13/site-packages/sqlalchemy/sql/schema.py:227\u001b[39m, in \u001b[36mSchemaItem._init_items\u001b[39m\u001b[34m(self, *args, **kw)\u001b[39m\n\u001b[32m    226\u001b[39m \u001b[38;5;28;01mtry\u001b[39;00m:\n\u001b[32m--> \u001b[39m\u001b[32m227\u001b[39m     spwd = \u001b[43mitem\u001b[49m\u001b[43m.\u001b[49m\u001b[43m_set_parent_with_dispatch\u001b[49m\n\u001b[32m    228\u001b[39m \u001b[38;5;28;01mexcept\u001b[39;00m \u001b[38;5;167;01mAttributeError\u001b[39;00m \u001b[38;5;28;01mas\u001b[39;00m err:\n",
      "\u001b[31mAttributeError\u001b[39m: type object 'str' has no attribute '_set_parent_with_dispatch'",
      "\nThe above exception was the direct cause of the following exception:\n",
      "\u001b[31mArgumentError\u001b[39m                             Traceback (most recent call last)",
      "\u001b[36mCell\u001b[39m\u001b[36m \u001b[39m\u001b[32mIn[2]\u001b[39m\u001b[32m, line 1\u001b[39m\n\u001b[32m----> \u001b[39m\u001b[32m1\u001b[39m \u001b[38;5;28;01mfrom\u001b[39;00m\u001b[38;5;250m \u001b[39m\u001b[34;01msrc\u001b[39;00m\u001b[34;01m.\u001b[39;00m\u001b[34;01mdatabase\u001b[39;00m\u001b[38;5;250m \u001b[39m\u001b[38;5;28;01mimport\u001b[39;00m init_db, get_document\n\u001b[32m      2\u001b[39m init_db(settings.database.url)\n\u001b[32m      4\u001b[39m document = get_document(document_id=\u001b[33m\"\u001b[39m\u001b[33m068074ef-7894-7165-8000-672624774154\u001b[39m\u001b[33m\"\u001b[39m)\n",
      "\u001b[36mFile \u001b[39m\u001b[32m~/symbology/src/database/__init__.py:23\u001b[39m\n\u001b[32m     13\u001b[39m \u001b[38;5;28;01mfrom\u001b[39;00m\u001b[38;5;250m \u001b[39m\u001b[34;01msrc\u001b[39;00m\u001b[34;01m.\u001b[39;00m\u001b[34;01mdatabase\u001b[39;00m\u001b[34;01m.\u001b[39;00m\u001b[34;01mcompanies\u001b[39;00m\u001b[38;5;250m \u001b[39m\u001b[38;5;28;01mimport\u001b[39;00m (\n\u001b[32m     14\u001b[39m     Company,\n\u001b[32m     15\u001b[39m     create_company,\n\u001b[32m   (...)\u001b[39m\u001b[32m     19\u001b[39m     update_company,\n\u001b[32m     20\u001b[39m )\n\u001b[32m     22\u001b[39m \u001b[38;5;66;03m# Completions\u001b[39;00m\n\u001b[32m---> \u001b[39m\u001b[32m23\u001b[39m \u001b[38;5;28;01mfrom\u001b[39;00m\u001b[38;5;250m \u001b[39m\u001b[34;01msrc\u001b[39;00m\u001b[34;01m.\u001b[39;00m\u001b[34;01mdatabase\u001b[39;00m\u001b[34;01m.\u001b[39;00m\u001b[34;01mcompletions\u001b[39;00m\u001b[38;5;250m \u001b[39m\u001b[38;5;28;01mimport\u001b[39;00m (\n\u001b[32m     24\u001b[39m     Completion,\n\u001b[32m     25\u001b[39m     create_completion,\n\u001b[32m     26\u001b[39m     delete_completion,\n\u001b[32m     27\u001b[39m     get_completion,\n\u001b[32m     28\u001b[39m     get_completion_ids,\n\u001b[32m     29\u001b[39m     update_completion,\n\u001b[32m     30\u001b[39m     get_completions_by_document,\n\u001b[32m     31\u001b[39m )\n\u001b[32m     33\u001b[39m \u001b[38;5;66;03m# Documents\u001b[39;00m\n\u001b[32m     34\u001b[39m \u001b[38;5;28;01mfrom\u001b[39;00m\u001b[38;5;250m \u001b[39m\u001b[34;01msrc\u001b[39;00m\u001b[34;01m.\u001b[39;00m\u001b[34;01mdatabase\u001b[39;00m\u001b[34;01m.\u001b[39;00m\u001b[34;01mdocuments\u001b[39;00m\u001b[38;5;250m \u001b[39m\u001b[38;5;28;01mimport\u001b[39;00m (\n\u001b[32m     35\u001b[39m     create_document,\n\u001b[32m     36\u001b[39m     delete_document,\n\u001b[32m   (...)\u001b[39m\u001b[32m     40\u001b[39m     update_document,\n\u001b[32m     41\u001b[39m )\n",
      "\u001b[36mFile \u001b[39m\u001b[32m~/symbology/src/database/completions.py:29\u001b[39m\n\u001b[32m     21\u001b[39m \u001b[38;5;66;03m# Association table for many-to-many relationship between Completion and Document\u001b[39;00m\n\u001b[32m     22\u001b[39m completion_document_association = Table(\n\u001b[32m     23\u001b[39m     \u001b[33m\"\u001b[39m\u001b[33mcompletion_document_association\u001b[39m\u001b[33m\"\u001b[39m,\n\u001b[32m     24\u001b[39m     Base.metadata,\n\u001b[32m     25\u001b[39m     Column(\u001b[33m\"\u001b[39m\u001b[33mcompletion_id\u001b[39m\u001b[33m\"\u001b[39m, ForeignKey(\u001b[33m\"\u001b[39m\u001b[33mcompletions.id\u001b[39m\u001b[33m\"\u001b[39m), primary_key=\u001b[38;5;28;01mTrue\u001b[39;00m),\n\u001b[32m     26\u001b[39m     Column(\u001b[33m\"\u001b[39m\u001b[33mdocument_id\u001b[39m\u001b[33m\"\u001b[39m, ForeignKey(\u001b[33m\"\u001b[39m\u001b[33mdocuments.id\u001b[39m\u001b[33m\"\u001b[39m), primary_key=\u001b[38;5;28;01mTrue\u001b[39;00m)\n\u001b[32m     27\u001b[39m )\n\u001b[32m---> \u001b[39m\u001b[32m29\u001b[39m \u001b[38;5;28;43;01mclass\u001b[39;49;00m\u001b[38;5;250;43m \u001b[39;49m\u001b[34;43;01mCompletion\u001b[39;49;00m\u001b[43m(\u001b[49m\u001b[43mBase\u001b[49m\u001b[43m)\u001b[49m\u001b[43m:\u001b[49m\n\u001b[32m     30\u001b[39m \u001b[38;5;250;43m    \u001b[39;49m\u001b[33;43;03m\"\"\"Completion model representing AI completions.\"\"\"\u001b[39;49;00m\n\u001b[32m     32\u001b[39m \u001b[43m    \u001b[49m\u001b[43m__tablename__\u001b[49m\u001b[43m \u001b[49m\u001b[43m=\u001b[49m\u001b[43m \u001b[49m\u001b[33;43m\"\u001b[39;49m\u001b[33;43mcompletions\u001b[39;49m\u001b[33;43m\"\u001b[39;49m\n",
      "\u001b[36mFile \u001b[39m\u001b[32m~/symbology/src/database/completions.py:61\u001b[39m, in \u001b[36mCompletion\u001b[39m\u001b[34m()\u001b[39m\n\u001b[32m     50\u001b[39m system_prompt: Mapped[Optional[\u001b[33m\"\u001b[39m\u001b[33mPrompt\u001b[39m\u001b[33m\"\u001b[39m]] = relationship(\n\u001b[32m     51\u001b[39m     \u001b[33m\"\u001b[39m\u001b[33mPrompt\u001b[39m\u001b[33m\"\u001b[39m,\n\u001b[32m     52\u001b[39m     foreign_keys=[system_prompt_id],\n\u001b[32m     53\u001b[39m     back_populates=\u001b[33m\"\u001b[39m\u001b[33msystem_completions\u001b[39m\u001b[33m\"\u001b[39m\n\u001b[32m     54\u001b[39m )\n\u001b[32m     55\u001b[39m user_prompt: Mapped[Optional[\u001b[33m\"\u001b[39m\u001b[33mPrompt\u001b[39m\u001b[33m\"\u001b[39m]] = relationship(\n\u001b[32m     56\u001b[39m     \u001b[33m\"\u001b[39m\u001b[33mPrompt\u001b[39m\u001b[33m\"\u001b[39m,\n\u001b[32m     57\u001b[39m     foreign_keys=[user_prompt_id],\n\u001b[32m     58\u001b[39m     back_populates=\u001b[33m\"\u001b[39m\u001b[33muser_completions\u001b[39m\u001b[33m\"\u001b[39m\n\u001b[32m     59\u001b[39m )\n\u001b[32m---> \u001b[39m\u001b[32m61\u001b[39m content: Mapped[Optional[\u001b[38;5;28mstr\u001b[39m]] = \u001b[43mmapped_column\u001b[49m\u001b[43m(\u001b[49m\u001b[38;5;28;43mstr\u001b[39;49m\u001b[43m,\u001b[49m\u001b[43m \u001b[49m\u001b[43mdefault\u001b[49m\u001b[43m=\u001b[49m\u001b[33;43m\"\u001b[39;49m\u001b[33;43m\"\u001b[39;49m\u001b[43m)\u001b[49m\n\u001b[32m     63\u001b[39m \u001b[38;5;66;03m# Extra Context\u001b[39;00m\n\u001b[32m     64\u001b[39m context_text: Mapped[List[Dict[\u001b[38;5;28mstr\u001b[39m, Any]]] = mapped_column(JSON, default=\u001b[38;5;28mlist\u001b[39m)\n",
      "\u001b[36mFile \u001b[39m\u001b[32m~/symbology/.venv/lib/python3.13/site-packages/sqlalchemy/orm/_orm_constructors.py:347\u001b[39m, in \u001b[36mmapped_column\u001b[39m\u001b[34m(__name_pos, __type_pos, init, repr, default, default_factory, compare, kw_only, hash, nullable, primary_key, deferred, deferred_group, deferred_raiseload, use_existing_column, name, type_, autoincrement, doc, key, index, unique, info, onupdate, insert_default, server_default, server_onupdate, active_history, quote, system, comment, sort_order, *args, **kw)\u001b[39m\n\u001b[32m     97\u001b[39m \u001b[38;5;28;01mdef\u001b[39;00m\u001b[38;5;250m \u001b[39m\u001b[34mmapped_column\u001b[39m(\n\u001b[32m     98\u001b[39m     __name_pos: Optional[\n\u001b[32m     99\u001b[39m         Union[\u001b[38;5;28mstr\u001b[39m, _TypeEngineArgument[Any], SchemaEventTarget]\n\u001b[32m   (...)\u001b[39m\u001b[32m    137\u001b[39m     **kw: Any,\n\u001b[32m    138\u001b[39m ) -> MappedColumn[Any]:\n\u001b[32m    139\u001b[39m \u001b[38;5;250m    \u001b[39m\u001b[33mr\u001b[39m\u001b[33;03m\"\"\"declare a new ORM-mapped :class:`_schema.Column` construct\u001b[39;00m\n\u001b[32m    140\u001b[39m \u001b[33;03m    for use within :ref:`Declarative Table <orm_declarative_table>`\u001b[39;00m\n\u001b[32m    141\u001b[39m \u001b[33;03m    configuration.\u001b[39;00m\n\u001b[32m   (...)\u001b[39m\u001b[32m    344\u001b[39m \n\u001b[32m    345\u001b[39m \u001b[33;03m    \"\"\"\u001b[39;00m\n\u001b[32m--> \u001b[39m\u001b[32m347\u001b[39m     \u001b[38;5;28;01mreturn\u001b[39;00m \u001b[43mMappedColumn\u001b[49m\u001b[43m(\u001b[49m\n\u001b[32m    348\u001b[39m \u001b[43m        \u001b[49m\u001b[43m__name_pos\u001b[49m\u001b[43m,\u001b[49m\n\u001b[32m    349\u001b[39m \u001b[43m        \u001b[49m\u001b[43m__type_pos\u001b[49m\u001b[43m,\u001b[49m\n\u001b[32m    350\u001b[39m \u001b[43m        \u001b[49m\u001b[43m*\u001b[49m\u001b[43margs\u001b[49m\u001b[43m,\u001b[49m\n\u001b[32m    351\u001b[39m \u001b[43m        \u001b[49m\u001b[43mname\u001b[49m\u001b[43m=\u001b[49m\u001b[43mname\u001b[49m\u001b[43m,\u001b[49m\n\u001b[32m    352\u001b[39m \u001b[43m        \u001b[49m\u001b[43mtype_\u001b[49m\u001b[43m=\u001b[49m\u001b[43mtype_\u001b[49m\u001b[43m,\u001b[49m\n\u001b[32m    353\u001b[39m \u001b[43m        \u001b[49m\u001b[43mautoincrement\u001b[49m\u001b[43m=\u001b[49m\u001b[43mautoincrement\u001b[49m\u001b[43m,\u001b[49m\n\u001b[32m    354\u001b[39m \u001b[43m        \u001b[49m\u001b[43minsert_default\u001b[49m\u001b[43m=\u001b[49m\u001b[43minsert_default\u001b[49m\u001b[43m,\u001b[49m\n\u001b[32m    355\u001b[39m \u001b[43m        \u001b[49m\u001b[43mattribute_options\u001b[49m\u001b[43m=\u001b[49m\u001b[43m_AttributeOptions\u001b[49m\u001b[43m(\u001b[49m\n\u001b[32m    356\u001b[39m \u001b[43m            \u001b[49m\u001b[43minit\u001b[49m\u001b[43m,\u001b[49m\u001b[43m \u001b[49m\u001b[38;5;28;43mrepr\u001b[39;49m\u001b[43m,\u001b[49m\u001b[43m \u001b[49m\u001b[43mdefault\u001b[49m\u001b[43m,\u001b[49m\u001b[43m \u001b[49m\u001b[43mdefault_factory\u001b[49m\u001b[43m,\u001b[49m\u001b[43m \u001b[49m\u001b[43mcompare\u001b[49m\u001b[43m,\u001b[49m\u001b[43m \u001b[49m\u001b[43mkw_only\u001b[49m\u001b[43m,\u001b[49m\u001b[43m \u001b[49m\u001b[38;5;28;43mhash\u001b[39;49m\n\u001b[32m    357\u001b[39m \u001b[43m        \u001b[49m\u001b[43m)\u001b[49m\u001b[43m,\u001b[49m\n\u001b[32m    358\u001b[39m \u001b[43m        \u001b[49m\u001b[43mdoc\u001b[49m\u001b[43m=\u001b[49m\u001b[43mdoc\u001b[49m\u001b[43m,\u001b[49m\n\u001b[32m    359\u001b[39m \u001b[43m        \u001b[49m\u001b[43mkey\u001b[49m\u001b[43m=\u001b[49m\u001b[43mkey\u001b[49m\u001b[43m,\u001b[49m\n\u001b[32m    360\u001b[39m \u001b[43m        \u001b[49m\u001b[43mindex\u001b[49m\u001b[43m=\u001b[49m\u001b[43mindex\u001b[49m\u001b[43m,\u001b[49m\n\u001b[32m    361\u001b[39m \u001b[43m        \u001b[49m\u001b[43munique\u001b[49m\u001b[43m=\u001b[49m\u001b[43munique\u001b[49m\u001b[43m,\u001b[49m\n\u001b[32m    362\u001b[39m \u001b[43m        \u001b[49m\u001b[43minfo\u001b[49m\u001b[43m=\u001b[49m\u001b[43minfo\u001b[49m\u001b[43m,\u001b[49m\n\u001b[32m    363\u001b[39m \u001b[43m        \u001b[49m\u001b[43mactive_history\u001b[49m\u001b[43m=\u001b[49m\u001b[43mactive_history\u001b[49m\u001b[43m,\u001b[49m\n\u001b[32m    364\u001b[39m \u001b[43m        \u001b[49m\u001b[43mnullable\u001b[49m\u001b[43m=\u001b[49m\u001b[43mnullable\u001b[49m\u001b[43m,\u001b[49m\n\u001b[32m    365\u001b[39m \u001b[43m        \u001b[49m\u001b[43monupdate\u001b[49m\u001b[43m=\u001b[49m\u001b[43monupdate\u001b[49m\u001b[43m,\u001b[49m\n\u001b[32m    366\u001b[39m \u001b[43m        \u001b[49m\u001b[43mprimary_key\u001b[49m\u001b[43m=\u001b[49m\u001b[43mprimary_key\u001b[49m\u001b[43m,\u001b[49m\n\u001b[32m    367\u001b[39m \u001b[43m        \u001b[49m\u001b[43mserver_default\u001b[49m\u001b[43m=\u001b[49m\u001b[43mserver_default\u001b[49m\u001b[43m,\u001b[49m\n\u001b[32m    368\u001b[39m \u001b[43m        \u001b[49m\u001b[43mserver_onupdate\u001b[49m\u001b[43m=\u001b[49m\u001b[43mserver_onupdate\u001b[49m\u001b[43m,\u001b[49m\n\u001b[32m    369\u001b[39m \u001b[43m        \u001b[49m\u001b[43muse_existing_column\u001b[49m\u001b[43m=\u001b[49m\u001b[43muse_existing_column\u001b[49m\u001b[43m,\u001b[49m\n\u001b[32m    370\u001b[39m \u001b[43m        \u001b[49m\u001b[43mquote\u001b[49m\u001b[43m=\u001b[49m\u001b[43mquote\u001b[49m\u001b[43m,\u001b[49m\n\u001b[32m    371\u001b[39m \u001b[43m        \u001b[49m\u001b[43mcomment\u001b[49m\u001b[43m=\u001b[49m\u001b[43mcomment\u001b[49m\u001b[43m,\u001b[49m\n\u001b[32m    372\u001b[39m \u001b[43m        \u001b[49m\u001b[43msystem\u001b[49m\u001b[43m=\u001b[49m\u001b[43msystem\u001b[49m\u001b[43m,\u001b[49m\n\u001b[32m    373\u001b[39m \u001b[43m        \u001b[49m\u001b[43mdeferred\u001b[49m\u001b[43m=\u001b[49m\u001b[43mdeferred\u001b[49m\u001b[43m,\u001b[49m\n\u001b[32m    374\u001b[39m \u001b[43m        \u001b[49m\u001b[43mdeferred_group\u001b[49m\u001b[43m=\u001b[49m\u001b[43mdeferred_group\u001b[49m\u001b[43m,\u001b[49m\n\u001b[32m    375\u001b[39m \u001b[43m        \u001b[49m\u001b[43mdeferred_raiseload\u001b[49m\u001b[43m=\u001b[49m\u001b[43mdeferred_raiseload\u001b[49m\u001b[43m,\u001b[49m\n\u001b[32m    376\u001b[39m \u001b[43m        \u001b[49m\u001b[43msort_order\u001b[49m\u001b[43m=\u001b[49m\u001b[43msort_order\u001b[49m\u001b[43m,\u001b[49m\n\u001b[32m    377\u001b[39m \u001b[43m        \u001b[49m\u001b[43m*\u001b[49m\u001b[43m*\u001b[49m\u001b[43mkw\u001b[49m\u001b[43m,\u001b[49m\n\u001b[32m    378\u001b[39m \u001b[43m    \u001b[49m\u001b[43m)\u001b[49m\n",
      "\u001b[36mFile \u001b[39m\u001b[32m~/symbology/.venv/lib/python3.13/site-packages/sqlalchemy/orm/properties.py:585\u001b[39m, in \u001b[36mMappedColumn.__init__\u001b[39m\u001b[34m(self, *arg, **kw)\u001b[39m\n\u001b[32m    582\u001b[39m \u001b[38;5;28mself\u001b[39m.active_history = kw.pop(\u001b[33m\"\u001b[39m\u001b[33mactive_history\u001b[39m\u001b[33m\"\u001b[39m, \u001b[38;5;28;01mFalse\u001b[39;00m)\n\u001b[32m    584\u001b[39m \u001b[38;5;28mself\u001b[39m._sort_order = kw.pop(\u001b[33m\"\u001b[39m\u001b[33msort_order\u001b[39m\u001b[33m\"\u001b[39m, _NoArg.NO_ARG)\n\u001b[32m--> \u001b[39m\u001b[32m585\u001b[39m \u001b[38;5;28mself\u001b[39m.column = cast(\u001b[33m\"\u001b[39m\u001b[33mColumn[_T]\u001b[39m\u001b[33m\"\u001b[39m, \u001b[43mColumn\u001b[49m\u001b[43m(\u001b[49m\u001b[43m*\u001b[49m\u001b[43marg\u001b[49m\u001b[43m,\u001b[49m\u001b[43m \u001b[49m\u001b[43m*\u001b[49m\u001b[43m*\u001b[49m\u001b[43mkw\u001b[49m\u001b[43m)\u001b[49m)\n\u001b[32m    586\u001b[39m \u001b[38;5;28mself\u001b[39m.foreign_keys = \u001b[38;5;28mself\u001b[39m.column.foreign_keys\n\u001b[32m    587\u001b[39m \u001b[38;5;28mself\u001b[39m._has_nullable = \u001b[33m\"\u001b[39m\u001b[33mnullable\u001b[39m\u001b[33m\"\u001b[39m \u001b[38;5;129;01min\u001b[39;00m kw \u001b[38;5;129;01mand\u001b[39;00m kw.get(\u001b[33m\"\u001b[39m\u001b[33mnullable\u001b[39m\u001b[33m\"\u001b[39m) \u001b[38;5;129;01mnot\u001b[39;00m \u001b[38;5;129;01min\u001b[39;00m (\n\u001b[32m    588\u001b[39m     \u001b[38;5;28;01mNone\u001b[39;00m,\n\u001b[32m    589\u001b[39m     SchemaConst.NULL_UNSPECIFIED,\n\u001b[32m    590\u001b[39m )\n",
      "\u001b[36mFile \u001b[39m\u001b[32m~/symbology/.venv/lib/python3.13/site-packages/sqlalchemy/sql/schema.py:2168\u001b[39m, in \u001b[36mColumn.__init__\u001b[39m\u001b[34m(***failed resolving arguments***)\u001b[39m\n\u001b[32m   2165\u001b[39m         l_args.append(server_onupdate)\n\u001b[32m   2166\u001b[39m \u001b[38;5;28mself\u001b[39m.server_onupdate = server_onupdate\n\u001b[32m-> \u001b[39m\u001b[32m2168\u001b[39m \u001b[38;5;28;43mself\u001b[39;49m\u001b[43m.\u001b[49m\u001b[43m_init_items\u001b[49m\u001b[43m(\u001b[49m\u001b[43m*\u001b[49m\u001b[43mcast\u001b[49m\u001b[43m(\u001b[49m\u001b[43m_typing_Sequence\u001b[49m\u001b[43m[\u001b[49m\u001b[43mSchemaItem\u001b[49m\u001b[43m]\u001b[49m\u001b[43m,\u001b[49m\u001b[43m \u001b[49m\u001b[43ml_args\u001b[49m\u001b[43m)\u001b[49m\u001b[43m)\u001b[49m\n\u001b[32m   2170\u001b[39m util.set_creation_order(\u001b[38;5;28mself\u001b[39m)\n\u001b[32m   2172\u001b[39m \u001b[38;5;28;01mif\u001b[39;00m info \u001b[38;5;129;01mis\u001b[39;00m \u001b[38;5;129;01mnot\u001b[39;00m \u001b[38;5;28;01mNone\u001b[39;00m:\n",
      "\u001b[36mFile \u001b[39m\u001b[32m~/symbology/.venv/lib/python3.13/site-packages/sqlalchemy/sql/schema.py:229\u001b[39m, in \u001b[36mSchemaItem._init_items\u001b[39m\u001b[34m(self, *args, **kw)\u001b[39m\n\u001b[32m    227\u001b[39m     spwd = item._set_parent_with_dispatch\n\u001b[32m    228\u001b[39m \u001b[38;5;28;01mexcept\u001b[39;00m \u001b[38;5;167;01mAttributeError\u001b[39;00m \u001b[38;5;28;01mas\u001b[39;00m err:\n\u001b[32m--> \u001b[39m\u001b[32m229\u001b[39m     \u001b[38;5;28;01mraise\u001b[39;00m exc.ArgumentError(\n\u001b[32m    230\u001b[39m         \u001b[33m\"\u001b[39m\u001b[33m'\u001b[39m\u001b[33mSchemaItem\u001b[39m\u001b[33m'\u001b[39m\u001b[33m object, such as a \u001b[39m\u001b[33m'\u001b[39m\u001b[33mColumn\u001b[39m\u001b[33m'\u001b[39m\u001b[33m or a \u001b[39m\u001b[33m\"\u001b[39m\n\u001b[32m    231\u001b[39m         \u001b[33mf\u001b[39m\u001b[33m\"\u001b[39m\u001b[33m'\u001b[39m\u001b[33mConstraint\u001b[39m\u001b[33m'\u001b[39m\u001b[33m expected, got \u001b[39m\u001b[38;5;132;01m{\u001b[39;00mitem\u001b[38;5;132;01m!r}\u001b[39;00m\u001b[33m\"\u001b[39m\n\u001b[32m    232\u001b[39m     ) \u001b[38;5;28;01mfrom\u001b[39;00m\u001b[38;5;250m \u001b[39m\u001b[34;01merr\u001b[39;00m\n\u001b[32m    233\u001b[39m \u001b[38;5;28;01melse\u001b[39;00m:\n\u001b[32m    234\u001b[39m     spwd(\u001b[38;5;28mself\u001b[39m, **kw)\n",
      "\u001b[31mArgumentError\u001b[39m: 'SchemaItem' object, such as a 'Column' or a 'Constraint' expected, got <class 'str'>"
     ]
    }
   ],
   "source": [
    "from src.database import init_db, get_document\n",
    "init_db(settings.database.url)\n",
    "\n",
    "document = get_document(document_id=\"068074ef-7894-7165-8000-672624774154\")"
   ]
  },
  {
   "cell_type": "code",
   "execution_count": null,
   "id": "674923ae",
   "metadata": {},
   "outputs": [],
   "source": []
  }
 ],
 "metadata": {
  "kernelspec": {
   "display_name": ".venv",
   "language": "python",
   "name": "python3"
  },
  "language_info": {
   "codemirror_mode": {
    "name": "ipython",
    "version": 3
   },
   "file_extension": ".py",
   "mimetype": "text/x-python",
   "name": "python",
   "nbconvert_exporter": "python",
   "pygments_lexer": "ipython3",
   "version": "3.13.2"
  }
 },
 "nbformat": 4,
 "nbformat_minor": 5
}
