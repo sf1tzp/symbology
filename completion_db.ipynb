{
 "cells": [
  {
   "cell_type": "code",
   "execution_count": 1,
   "id": "2fa153cb",
   "metadata": {},
   "outputs": [
    {
     "name": "stderr",
     "output_type": "stream",
     "text": [
      "2025-06-28T18:15:39.669244Z [info     ] database_initialized           status=success\n",
      "HTTP Request: GET http://10.0.0.4:11434/api/ps \"HTTP/1.1 200 OK\"\n",
      "2025-06-28T18:15:39.683047Z [info     ] ollama_initialzied             status=success\n",
      "2025-06-28T18:15:39.696173Z [info     ] retrieved_company_by_ticker    company_id=0685e3e7-c4c5-7522-8000-7417d23b7385 ticker=ACHR\n",
      "2025-06-28T18:15:39.698016Z [info     ] retrieved_filings_by_company   company_id=0685e3e7-c4c5-7522-8000-7417d23b7385 count=5\n",
      "2025-06-28T18:15:39.701047Z [info     ] retrieved_documents_by_filing  count=2 filing_id=0685e3e8-1f56-74e4-8000-f041f0dee00e\n",
      "2025-06-28T18:15:39.702817Z [info     ] retrieved_documents_by_filing  count=3 filing_id=0685e3e8-898a-702a-8000-dc02dacf7deb\n",
      "2025-06-28T18:15:39.703937Z [info     ] retrieved_documents_by_filing  count=3 filing_id=0685e3e8-ef7e-7d1b-8000-b17e50f690ca\n",
      "2025-06-28T18:15:39.704981Z [info     ] retrieved_documents_by_filing  count=3 filing_id=0685e3e9-6686-7c53-8000-bd8442530694\n",
      "2025-06-28T18:15:39.706046Z [info     ] retrieved_documents_by_filing  count=3 filing_id=0685e3e9-b4ac-72db-8000-956082b0c2a6\n"
     ]
    }
   ],
   "source": [
    "import os\n",
    "\n",
    "import json\n",
    "\n",
    "from ollama import Client, chat\n",
    "\n",
    "from src.database.base import init_db\n",
    "from src.database.companies import get_company_by_ticker\n",
    "from src.database.filings import get_filings_by_company\n",
    "from src.database.documents import get_documents_by_filing, DocumentType\n",
    "\n",
    "\n",
    "from src.llm.prompts import format_document_messages, format_aggregate_messages, PromptRole\n",
    "from src.llm.client import init_client, get_chat_response\n",
    "\n",
    "from src.utils.config import settings\n",
    "from src.utils.logging import configure_logging, get_logger\n",
    "\n",
    "TICKER = \"ACHR\"\n",
    "MODEL = \"qwen3\"\n",
    "\n",
    "os.makedirs(f'outputs/{TICKER}', exist_ok=True)\n",
    "\n",
    "configure_logging()\n",
    "logger = get_logger(name=\"notebook\")\n",
    "_, _ = init_db(settings.database.url)\n",
    "\n",
    "client = init_client(settings.openai_api.url)\n",
    "_ = client.ps()\n",
    "logger.info(\"ollama_initialzied\", status=\"success\")\n",
    "\n",
    "company = get_company_by_ticker(TICKER)\n",
    "filings = get_filings_by_company(company_id=company.id)\n",
    "for filing in filings:\n",
    "    documents = get_documents_by_filing(filing.id)\n",
    "    for document in documents:\n",
    "        pass\n",
    "\n"
   ]
  },
  {
   "cell_type": "code",
   "execution_count": null,
   "id": "f8d4f151",
   "metadata": {},
   "outputs": [],
   "source": [
    "messages = format_document_messages(document)\n",
    "response = get_chat_response(client, MODEL, messages)\n",
    "response"
   ]
  },
  {
   "cell_type": "code",
   "execution_count": null,
   "id": "db89ffa9",
   "metadata": {},
   "outputs": [
    {
     "data": {
      "text/plain": [
       "UUID('0685e3e9-b9e6-71a5-8000-843872aa046c')"
      ]
     },
     "execution_count": 3,
     "metadata": {},
     "output_type": "execute_result"
    }
   ],
   "source": [
    "response.created_at\n",
    "response.done_reason\n",
    "response.total_duration\n",
    "document.id"
   ]
  },
  {
   "cell_type": "code",
   "execution_count": null,
   "id": "afaca784",
   "metadata": {},
   "outputs": [],
   "source": [
    "from src.llm.prompts import DOCUMENT_PROMPTS, AGGREGATE_PROMPT\n",
    "\n"
   ]
  },
  {
   "cell_type": "markdown",
   "id": "34022df6",
   "metadata": {},
   "source": [
    "## Database Migration\n",
    "\n",
    "The error `UndefinedColumn: column prompts.content does not exist` indicates that we need to add the missing `content` column to the `prompts` table. Let's run the SQL command to add this column:"
   ]
  },
  {
   "cell_type": "code",
   "execution_count": null,
   "id": "76c65fc9",
   "metadata": {},
   "outputs": [
    {
     "name": "stdout",
     "output_type": "stream",
     "text": [
      "Error executing SQL: (psycopg2.errors.DuplicateColumn) column \"content\" of relation \"prompts\" already exists\n",
      "\n",
      "[SQL: ALTER TABLE prompts ADD COLUMN content TEXT;]\n",
      "(Background on this error at: https://sqlalche.me/e/20/f405)\n"
     ]
    }
   ],
   "source": [
    "from sqlalchemy import text\n",
    "from src.database.base import get_db_session\n",
    "\n",
    "# Get a session\n",
    "session = get_db_session()\n",
    "\n",
    "# Add the missing content column to the prompts table\n",
    "sql = text(\"ALTER TABLE prompts ADD COLUMN content TEXT;\")\n",
    "\n",
    "try:\n",
    "    session.execute(sql)\n",
    "    session.commit()\n",
    "    print(\"Successfully added 'content' column to the prompts table.\")\n",
    "except Exception as e:\n",
    "    session.rollback()\n",
    "    print(f\"Error executing SQL: {e}\")"
   ]
  },
  {
   "cell_type": "markdown",
   "id": "b8499836",
   "metadata": {},
   "source": [
    "## Additional Database Migration\n",
    "\n",
    "Let's check what columns currently exist in the prompts table, and then remove any that are no longer needed (like template_vars and default_vars):"
   ]
  },
  {
   "cell_type": "code",
   "execution_count": null,
   "id": "581828e5",
   "metadata": {},
   "outputs": [
    {
     "name": "stdout",
     "output_type": "stream",
     "text": [
      "Current columns in prompts table:\n",
      " - id: UUID\n",
      " - name: VARCHAR(255)\n",
      " - description: TEXT\n",
      " - role: VARCHAR(9)\n",
      " - content: TEXT\n"
     ]
    }
   ],
   "source": [
    "from sqlalchemy import text, inspect\n",
    "from src.database.base import get_db_session, engine\n",
    "\n",
    "# First, let's check the existing columns in the prompts table\n",
    "inspector = inspect(engine)\n",
    "columns = inspector.get_columns('prompts')\n",
    "print(\"Current columns in prompts table:\")\n",
    "for col in columns:\n",
    "    print(f\" - {col['name']}: {col['type']}\")"
   ]
  },
  {
   "cell_type": "code",
   "execution_count": null,
   "id": "df5737df",
   "metadata": {},
   "outputs": [
    {
     "name": "stdout",
     "output_type": "stream",
     "text": [
      "template_vars column doesn't exist\n",
      "default_vars column doesn't exist\n",
      "template column doesn't exist\n",
      "Database schema update completed successfully.\n"
     ]
    }
   ],
   "source": [
    "from sqlalchemy import text, inspect\n",
    "from src.database.base import get_db_session, engine\n",
    "\n",
    "# Get a session\n",
    "session = get_db_session()\n",
    "\n",
    "# Remove template_vars and default_vars columns if they exist\n",
    "try:\n",
    "    # Check if columns exist before dropping them\n",
    "    inspector = inspect(engine)\n",
    "    columns = [col['name'] for col in inspector.get_columns('prompts')]\n",
    "\n",
    "    if 'template_vars' in columns:\n",
    "        session.execute(text(\"ALTER TABLE prompts DROP COLUMN template_vars;\"))\n",
    "        print(\"Dropped template_vars column\")\n",
    "    else:\n",
    "        print(\"template_vars column doesn't exist\")\n",
    "\n",
    "    if 'default_vars' in columns:\n",
    "        session.execute(text(\"ALTER TABLE prompts DROP COLUMN default_vars;\"))\n",
    "        print(\"Dropped default_vars column\")\n",
    "    else:\n",
    "        print(\"default_vars column doesn't exist\")\n",
    "\n",
    "    if 'template' in columns:\n",
    "        session.execute(text(\"ALTER TABLE prompts DROP COLUMN template;\"))\n",
    "        print(\"Dropped template column\")\n",
    "    else:\n",
    "        print(\"template column doesn't exist\")\n",
    "\n",
    "    session.commit()\n",
    "    print(\"Database schema update completed successfully.\")\n",
    "except Exception as e:\n",
    "    session.rollback()\n",
    "    print(f\"Error executing SQL: {e}\")"
   ]
  },
  {
   "cell_type": "markdown",
   "id": "167261ec",
   "metadata": {},
   "source": [
    "Now let's try creating a prompt again with our updated schema:"
   ]
  },
  {
   "cell_type": "code",
   "execution_count": null,
   "id": "ccf4b728",
   "metadata": {},
   "outputs": [],
   "source": [
    "# from src.database.prompts import create_prompt, PromptRole\n",
    "\n",
    "# name = \"aggregate_prompt\"\n",
    "# content = AGGREGATE_PROMPT\n",
    "\n",
    "# # Create a new prompt in the database\n",
    "# prompt_data = {\n",
    "#     'name': name,\n",
    "#     'description': 'Prompt for aggregating document analysis',\n",
    "#     'role': PromptRole.SYSTEM,\n",
    "#     'content': content\n",
    "# }\n",
    "\n",
    "# try:\n",
    "#     prompt = create_prompt(prompt_data)\n",
    "#     print(f\"Created prompt with ID: {prompt.id}\")\n",
    "# except ValueError as e:\n",
    "#     print(f\"Error: {e}\")\n",
    "# for doc_type in DOCUMENT_PROMPTS:\n",
    "#     name = doc_type.value\n",
    "#     content = DOCUMENT_PROMPTS[doc_type]\n",
    "#     prompt_data = {\n",
    "#         'name': name,\n",
    "#         'role': PromptRole.SYSTEM,\n",
    "#         'content': content\n",
    "#     }\n",
    "\n",
    "#     try:\n",
    "#         prompt = create_prompt(prompt_data)\n",
    "#         print(f\"Created prompt with ID: {prompt.id}\")\n",
    "#     except ValueError as e:\n",
    "#         print(f\"Error: {e}\")"
   ]
  },
  {
   "cell_type": "code",
   "execution_count": null,
   "id": "f518f985",
   "metadata": {},
   "outputs": [],
   "source": [
    "# available objects:\n",
    "# company (Company)\n",
    "# filing (Filing)\n",
    "# document (Document)\n",
    "# response (raw llm response. Has creation timestamp and duration fields)\n",
    "# prompt (name matches document.document_type)"
   ]
  },
  {
   "cell_type": "markdown",
   "id": "38fbee64",
   "metadata": {},
   "source": [
    "## Completions Table Migration\n",
    "\n",
    "The completions table is missing a crucial field to store the actual text content of the LLM response. Let's add a `content` column to store this data:"
   ]
  },
  {
   "cell_type": "markdown",
   "id": "169ab827",
   "metadata": {},
   "source": [
    "## Aggregates Table Migration\n",
    "\n",
    "The aggregates table is missing key columns for company association and document type. Let's add these columns:"
   ]
  },
  {
   "cell_type": "code",
   "execution_count": null,
   "id": "9aa72a28",
   "metadata": {},
   "outputs": [
    {
     "name": "stdout",
     "output_type": "stream",
     "text": [
      "Current columns in aggregates table: ['id', 'created_at', 'total_duration', 'content', 'system_prompt_id', 'model', 'temperature', 'top_p', 'num_ctx', 'company_id']\n",
      "The 'company_id' column already exists in the aggregates table.\n",
      "document_type_enum type already exists (shared with documents table).\n",
      "Successfully added 'document_type' column to the aggregates table.\n"
     ]
    }
   ],
   "source": [
    "from sqlalchemy import text, inspect\n",
    "from src.database.base import get_db_session, engine\n",
    "\n",
    "# Get a session\n",
    "session = get_db_session()\n",
    "\n",
    "# First, let's check if the columns already exist in aggregates table\n",
    "inspector = inspect(engine)\n",
    "columns = [col['name'] for col in inspector.get_columns('aggregates')]\n",
    "print(\"Current columns in aggregates table:\", columns)\n",
    "\n",
    "# Add the company_id column if it doesn't exist\n",
    "if 'company_id' not in columns:\n",
    "    try:\n",
    "        sql = text(\"ALTER TABLE aggregates ADD COLUMN company_id UUID REFERENCES companies(id) ON DELETE CASCADE;\")\n",
    "        session.execute(sql)\n",
    "        # Add index for performance\n",
    "\n",
    "        sql_index = text(\"CREATE INDEX idx_aggregates_company_id ON aggregates(company_id);\")\n",
    "        session.execute(sql_index)\n",
    "        session.commit()\n",
    "        print(\"Successfully added 'company_id' column and index to the aggregates table.\")\n",
    "    except Exception as e:\n",
    "        session.rollback()\n",
    "        print(f\"Error adding company_id column: {e}\")\n",
    "else:\n",
    "    print(\"The 'company_id' column already exists in the aggregates table.\")\n",
    "\n",
    "# Add the document_type column if it doesn't exist\n",
    "if 'document_type' not in columns:\n",
    "    # First, ensure we have a clean transaction\n",
    "    session.rollback()\n",
    "\n",
    "    # Check if the enum type already exists (it should since documents.py uses it)\n",
    "    enum_exists_query = text(\"\"\"\n",
    "        SELECT EXISTS (\n",
    "            SELECT 1 FROM pg_type\n",
    "            WHERE typname = 'document_type_enum'\n",
    "        );\n",
    "    \"\"\")\n",
    "\n",
    "    enum_exists = session.execute(enum_exists_query).scalar()\n",
    "\n",
    "    if not enum_exists:\n",
    "        # Create enum with the same values as DocumentType enum in documents.py\n",
    "        try:\n",
    "            sql_enum = text(\"CREATE TYPE document_type_enum AS ENUM ('management_discussion', 'risk_factors', 'business_description');\")\n",
    "            session.execute(sql_enum)\n",
    "            session.commit()\n",
    "            print(\"Created document_type_enum type.\")\n",
    "        except Exception as e:\n",
    "            session.rollback()\n",
    "            print(f\"Error creating enum type: {e}\")\n",
    "    else:\n",
    "        print(\"document_type_enum type already exists (shared with documents table).\")\n",
    "\n",
    "    # Now add the column using the existing enum type\n",
    "    try:\n",
    "        sql = text(\"ALTER TABLE aggregates ADD COLUMN document_type document_type_enum;\")\n",
    "        session.execute(sql)\n",
    "        session.commit()\n",
    "        print(\"Successfully added 'document_type' column to the aggregates table.\")\n",
    "    except Exception as e:\n",
    "        session.rollback()\n",
    "        print(f\"Error adding document_type column: {e}\")\n",
    "else:\n",
    "    print(\"The 'document_type' column already exists in the aggregates table.\")"
   ]
  },
  {
   "cell_type": "code",
   "execution_count": null,
   "id": "c9c5c029",
   "metadata": {},
   "outputs": [
    {
     "name": "stdout",
     "output_type": "stream",
     "text": [
      "Current columns in completions table: ['id', 'system_prompt_id', 'user_prompt_id', 'context_text', 'model', 'temperature', 'top_p', 'content', 'created_at', 'total_duration', 'num_ctx']\n",
      "The 'content' column already exists in the completions table.\n",
      "The 'created_at' column already exists in the completions table.\n",
      "The 'total_duration' column already exists in the completions table.\n",
      "The 'num_ctx' column already exists in the completions table.\n",
      "Successfully removed 'context_text' column from the completions table.\n"
     ]
    }
   ],
   "source": [
    "from sqlalchemy import text\n",
    "from src.database.base import get_db_session, engine\n",
    "\n",
    "# Get a session\n",
    "session = get_db_session()\n",
    "\n",
    "# First, let's check if the column already exists\n",
    "inspector = inspect(engine)\n",
    "columns = [col['name'] for col in inspector.get_columns('completions')]\n",
    "print(\"Current columns in completions table:\", columns)\n",
    "\n",
    "# Add the content column to the completions table if it doesn't exist\n",
    "if 'content' not in columns:\n",
    "    try:\n",
    "        sql = text(\"ALTER TABLE completions ADD COLUMN content TEXT;\")\n",
    "        session.execute(sql)\n",
    "        session.commit()\n",
    "        print(\"Successfully added 'content' column to the completions table.\")\n",
    "    except Exception as e:\n",
    "        session.rollback()\n",
    "        print(f\"Error executing SQL: {e}\")\n",
    "else:\n",
    "    print(\"The 'content' column already exists in the completions table.\")\n",
    "\n",
    "# Add the created_at column to the completions table if it doesn't exist\n",
    "if 'created_at' not in columns:\n",
    "    try:\n",
    "        sql = text(\"ALTER TABLE completions ADD COLUMN created_at TIMESTAMP;\")\n",
    "        session.execute(sql)\n",
    "        session.commit()\n",
    "        print(\"Successfully added 'created_at' column to the completions table.\")\n",
    "    except Exception as e:\n",
    "        session.rollback()\n",
    "        print(f\"Error executing SQL: {e}\")\n",
    "else:\n",
    "    print(\"The 'created_at' column already exists in the completions table.\")\n",
    "\n",
    "# and total_duration (int)\n",
    "if 'total_duration' not in columns:\n",
    "    try:\n",
    "        sql = text(\"ALTER TABLE completions ADD COLUMN total_duration INT;\")\n",
    "        session.execute(sql)\n",
    "        session.commit()\n",
    "        print(\"Successfully added 'total_duration' column to the completions table.\")\n",
    "    except Exception as e:\n",
    "        session.rollback()\n",
    "        print(f\"Error executing SQL: {e}\")\n",
    "else:\n",
    "    print(\"The 'total_duration' column already exists in the completions table.\")\n",
    "\n",
    "# and num_ctx (int)\n",
    "if 'num_ctx' not in columns:\n",
    "    try:\n",
    "        sql = text(\"ALTER TABLE completions ADD COLUMN num_ctx INT;\")\n",
    "        session.execute(sql)\n",
    "        session.commit()\n",
    "        print(\"Successfully added 'num_ctx' column to the completions table.\")\n",
    "    except Exception as e:\n",
    "        session.rollback()\n",
    "        print(f\"Error executing SQL: {e}\")\n",
    "else:\n",
    "    print(\"The 'num_ctx' column already exists in the completions table.\")\n",
    "\n",
    "# and remove context_texts\n",
    "if 'context_text' in columns:\n",
    "    try:\n",
    "        sql = text(\"ALTER TABLE completions DROP COLUMN context_text;\")\n",
    "        session.execute(sql)\n",
    "        session.commit()\n",
    "        print(\"Successfully removed 'context_text' column from the completions table.\")\n",
    "    except Exception as e:\n",
    "        session.rollback()\n",
    "        print(f\"Error executing SQL: {e}\")\n",
    "else:\n",
    "    print(\"The 'context_text' column does not exist in the completions table.\")"
   ]
  },
  {
   "cell_type": "code",
   "execution_count": null,
   "id": "26d0db1e",
   "metadata": {},
   "outputs": [
    {
     "name": "stderr",
     "output_type": "stream",
     "text": [
      "2025-06-28T15:32:18.247557Z [info     ] retrieved_prompt_by_name       name=management_discussion prompt_id=06860055-5f9e-750c-8000-e57ce7b47741\n",
      "2025-06-28T15:32:18.253794Z [info     ] created_completion             completion_id=068600b0-23fc-70f9-8000-2e276628b0cb model=qwen3\n",
      "2025-06-28T15:32:18.253794Z [info     ] created_completion             completion_id=068600b0-23fc-70f9-8000-2e276628b0cb model=qwen3\n"
     ]
    },
    {
     "name": "stdout",
     "output_type": "stream",
     "text": [
      "Created completion record with ID: 068600b0-23fc-70f9-8000-2e276628b0cb\n",
      "Associated with document: Archer Aviation Inc. 10-K 2025-02-28 - Management Discussion\n",
      "Model: qwen3, Duration: 83.00 seconds\n",
      "Content length: 8549 characters\n"
     ]
    }
   ],
   "source": [
    "# Now let's update our completion creation code to include the content\n",
    "from src.database.completions import create_completion\n",
    "\n",
    "# Extract necessary details from the response\n",
    "created_at = response.created_at\n",
    "total_duration = response.total_duration / 1e9  # Convert from nanoseconds to seconds\n",
    "content = response.message.content  # Extract the actual content of the response\n",
    "\n",
    "from src.database.prompts import get_prompt_by_name\n",
    "from src.llm.models import MODEL_CONFIG\n",
    "\n",
    "prompt = get_prompt_by_name(document.document_type.value)\n",
    "\n",
    "# Prepare completion data with content\n",
    "completion_data = {\n",
    "    'model': MODEL,\n",
    "    'document_ids': [document.id],  # Associate with the current document\n",
    "    'system_prompt_id': prompt.id,  # Link to the prompt used\n",
    "    'total_duration': total_duration,\n",
    "    'created_at': created_at,\n",
    "    'temperature': 0.7,  # Default or you can use specific values if available\n",
    "    'num_ctx': MODEL_CONFIG[MODEL][\"ctx\"],\n",
    "    'content': content,  # Add the actual response content\n",
    "}\n",
    "\n",
    "# Create the completion record\n",
    "try:\n",
    "    completion = create_completion(completion_data)\n",
    "    print(f\"Created completion record with ID: {completion.id}\")\n",
    "    print(f\"Associated with document: {document.document_name}\")\n",
    "    print(f\"Model: {completion.model}, Duration: {completion.total_duration:.2f} seconds\")\n",
    "    print(f\"Content length: {len(completion.content) if hasattr(completion, 'content') else 'N/A'} characters\")\n",
    "except Exception as e:\n",
    "    print(f\"Error creating completion: {e}\")"
   ]
  },
  {
   "cell_type": "code",
   "execution_count": null,
   "id": "c0cb5b81",
   "metadata": {},
   "outputs": [],
   "source": []
  },
  {
   "cell_type": "code",
   "execution_count": null,
   "id": "097eb8d0",
   "metadata": {},
   "outputs": [],
   "source": []
  }
 ],
 "metadata": {
  "kernelspec": {
   "display_name": ".venv",
   "language": "python",
   "name": "python3"
  },
  "language_info": {
   "codemirror_mode": {
    "name": "ipython",
    "version": 3
   },
   "file_extension": ".py",
   "mimetype": "text/x-python",
   "name": "python",
   "nbconvert_exporter": "python",
   "pygments_lexer": "ipython3",
   "version": "3.13.2"
  }
 },
 "nbformat": 4,
 "nbformat_minor": 5
}
