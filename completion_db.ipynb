{
 "cells": [
  {
   "cell_type": "code",
   "execution_count": 1,
   "id": "2fa153cb",
   "metadata": {},
   "outputs": [
    {
     "name": "stderr",
     "output_type": "stream",
     "text": [
      "2025-06-28T15:26:33.767170Z [info     ] database_initialized           status=success\n",
      "HTTP Request: GET http://10.0.0.4:11434/api/ps \"HTTP/1.1 200 OK\"\n",
      "2025-06-28T15:26:33.780990Z [info     ] ollama_initialzied             status=success\n",
      "HTTP Request: GET http://10.0.0.4:11434/api/ps \"HTTP/1.1 200 OK\"\n",
      "2025-06-28T15:26:33.780990Z [info     ] ollama_initialzied             status=success\n",
      "2025-06-28T15:26:33.791324Z [info     ] retrieved_company_by_ticker    company_id=0685e3e7-c4c5-7522-8000-7417d23b7385 ticker=ACHR\n",
      "2025-06-28T15:26:33.792832Z [info     ] retrieved_filings_by_company   company_id=0685e3e7-c4c5-7522-8000-7417d23b7385 count=5\n",
      "2025-06-28T15:26:33.795309Z [info     ] retrieved_documents_by_filing  count=2 filing_id=0685e3e8-1f56-74e4-8000-f041f0dee00e\n",
      "2025-06-28T15:26:33.796561Z [info     ] retrieved_documents_by_filing  count=3 filing_id=0685e3e8-898a-702a-8000-dc02dacf7deb\n",
      "2025-06-28T15:26:33.797629Z [info     ] retrieved_documents_by_filing  count=3 filing_id=0685e3e8-ef7e-7d1b-8000-b17e50f690ca\n",
      "2025-06-28T15:26:33.799097Z [info     ] retrieved_documents_by_filing  count=3 filing_id=0685e3e9-6686-7c53-8000-bd8442530694\n",
      "2025-06-28T15:26:33.800255Z [info     ] retrieved_documents_by_filing  count=3 filing_id=0685e3e9-b4ac-72db-8000-956082b0c2a6\n",
      "2025-06-28T15:26:33.791324Z [info     ] retrieved_company_by_ticker    company_id=0685e3e7-c4c5-7522-8000-7417d23b7385 ticker=ACHR\n",
      "2025-06-28T15:26:33.792832Z [info     ] retrieved_filings_by_company   company_id=0685e3e7-c4c5-7522-8000-7417d23b7385 count=5\n",
      "2025-06-28T15:26:33.795309Z [info     ] retrieved_documents_by_filing  count=2 filing_id=0685e3e8-1f56-74e4-8000-f041f0dee00e\n",
      "2025-06-28T15:26:33.796561Z [info     ] retrieved_documents_by_filing  count=3 filing_id=0685e3e8-898a-702a-8000-dc02dacf7deb\n",
      "2025-06-28T15:26:33.797629Z [info     ] retrieved_documents_by_filing  count=3 filing_id=0685e3e8-ef7e-7d1b-8000-b17e50f690ca\n",
      "2025-06-28T15:26:33.799097Z [info     ] retrieved_documents_by_filing  count=3 filing_id=0685e3e9-6686-7c53-8000-bd8442530694\n",
      "2025-06-28T15:26:33.800255Z [info     ] retrieved_documents_by_filing  count=3 filing_id=0685e3e9-b4ac-72db-8000-956082b0c2a6\n"
     ]
    }
   ],
   "source": [
    "import os\n",
    "\n",
    "import json\n",
    "\n",
    "from ollama import Client, chat\n",
    "from src.database.base import init_db\n",
    "from src.database.companies import get_company_by_ticker\n",
    "from src.database.filings import get_filings_by_company\n",
    "from src.database.documents import get_documents_by_filing, DocumentType\n",
    "\n",
    "from src.llm.prompts import format_document_messages, format_aggregate_messages, PromptRole\n",
    "from src.llm.client import init_client, get_chat_response\n",
    "\n",
    "from src.utils.config import settings\n",
    "from src.utils.logging import configure_logging, get_logger\n",
    "\n",
    "TICKER = \"ACHR\"\n",
    "MODEL = \"qwen3\"\n",
    "\n",
    "os.makedirs(f'outputs/{TICKER}', exist_ok=True)\n",
    "\n",
    "configure_logging()\n",
    "logger = get_logger(name=\"notebook\")\n",
    "_, _ = init_db(settings.database.url)\n",
    "\n",
    "client = init_client(settings.openai_api.url)\n",
    "_ = client.ps()\n",
    "logger.info(\"ollama_initialzied\", status=\"success\")\n",
    "\n",
    "company = get_company_by_ticker(TICKER)\n",
    "filings = get_filings_by_company(company_id=company.id)\n",
    "for filing in filings:\n",
    "    documents = get_documents_by_filing(filing.id)\n",
    "    for document in documents:\n",
    "        pass\n",
    "\n"
   ]
  },
  {
   "cell_type": "code",
   "execution_count": 2,
   "id": "f8d4f151",
   "metadata": {},
   "outputs": [
    {
     "name": "stderr",
     "output_type": "stream",
     "text": [
      "HTTP Request: POST http://10.0.0.4:11434/api/chat \"HTTP/1.1 200 OK\"\n"
     ]
    },
    {
     "data": {
      "text/plain": [
       "ChatResponse(model='qwen3:14b', created_at='2025-06-28T15:27:56.825229052Z', done=True, done_reason='stop', total_duration=83016538119, load_duration=1894251035, prompt_eval_count=7503, prompt_eval_duration=10890900288, eval_count=1669, eval_duration=70215564546, message=Message(role='assistant', content='<think>\\nOkay, let me try to work through this analysis step by step. The user wants me to evaluate the leadership team of Archer based on their MD&A section of the 10-K filing. The four aspects to assess are transparency and honesty in discussing challenges, strategic thinking and forward planning, execution capabilities based on past performance, and risk awareness and mitigation strategies.\\n\\nFirst, I need to go through the MD&A section carefully. Let me start by reading through the overview and the sections on revenue, operating expenses, liquidity, etc. The company is in the advanced aviation sector, developing eVTOL aircraft like Midnight and a defense variant with Anduril. They haven\\'t generated revenue yet, which is a key point. \\n\\nTransparency and honesty: The company is upfront about not having generated revenue and the challenges they face in certification and manufacturing. They mention potential delays and the need for additional capital. They also discuss the risks related to their warrants and the impact on financials. That seems honest.\\n\\nStrategic thinking: They have a clear plan, expanding into defense with Anduril, building a manufacturing facility in Georgia, and aiming for commercial operations in Abu Dhabi. They mention partnerships and collaborations, which shows strategic alliances. However, their reliance on equity financing and the fact that they have not achieved revenue yet might indicate some gaps in execution or strategic planning, but the plan itself seems well thought out.\\n\\nExecution capabilities: The increase in R&D expenses and the fact that they\\'ve built a facility but haven\\'t started production yet. They have a lot of investment in R&D, which is necessary for their industry, but the question is whether they are executing efficiently. The decrease in G&A expenses due to warrant charges might be a one-time effect, but the overall trend is increasing R&D, which is expected given their stage.\\n\\nRisk awareness: They discuss various risks in the risk factors section, like certification delays, regulatory hurdles, and reliance on financing. They mention their credit agreements, ATM programs, and PIPE financings as ways to manage cash flow. They also note the impact of warrant liabilities and the potential for changes in fair value affecting their financials. This shows they are aware of the risks and have mitigation strategies in place through financing and partnerships.\\n\\nNow, I need to structure this into strengths and weaknesses for each of the four areas, using specific examples from the text. Make sure each point is supported by the MD&A content. For example, under transparency, the mention of not having revenue and potential delays is a strength. Under strategic thinking, the partnerships and facility are strengths. Weaknesses might include the heavy reliance on financing and the lack of revenue despite significant investment. Risk awareness is a strength as they outline various risks and have financing in place. Execution might be a mixed area, with high R&D investment but no revenue yet.\\n</think>\\n\\n### **Assessment of Archer\\'s Leadership Team Based on MD&A Section of the 10-K**\\n\\n---\\n\\n#### **1. Transparency and Honesty in Discussing Challenges**  \\n**Strengths:**  \\n- **Frank Acknowledgment of Financial and Operational Risks:** The company explicitly states that it has not generated revenue from its planned business lines and is still in the phase of designing, developing, certifying, and manufacturing its eVTOL aircraft. This transparency is critical for investor trust.  \\n- **Disclosure of Certification Delays and Regulatory Risks:** Archer acknowledges that delays in certification or regulatory approvals could require additional capital and impact timelines. This honesty aligns with the risks outlined in the \"Critical Accounting Policies\" section.  \\n- **Honesty About Financial Dependencies:** The company openly discusses its reliance on equity financing (e.g., ATM programs, PIPE financings) and debt (e.g., notes payable) to fund operations, emphasizing that revenue generation is not yet a reality.  \\n\\n**Weaknesses:**  \\n- **Limited Detail on Mitigation Strategies for Certification Risks:** While risks are acknowledged, the MD&A does not elaborate on specific steps to address certification delays (e.g., partnerships with regulators, accelerated testing).  \\n\\n---\\n\\n#### **2. Strategic Thinking and Forward Planning**  \\n**Strengths:**  \\n- **Clear Long-Term Vision:** Archer has a well-defined roadmap, including expansion into defense with Anduril, construction of a manufacturing facility in Georgia, and targeting commercial operations in Abu Dhabi. This demonstrates strategic alignment with market opportunities.  \\n- **Diversification of Revenue Streams:** The company is pursuing both commercial (e.g., Midnight) and defense (e.g., partnership with Stellantis) segments, reducing dependency on a single market.  \\n- **Leveraging Partnerships:** Collaborations with Stellantis, Anduril, and others are highlighted, indicating a strategic focus on ecosystem building and resource sharing.  \\n\\n**Weaknesses:**  \\n- **Over-Reliance on Equity Financing:** The company has raised significant capital through PIPE financings and ATM programs (e.g., $68.0 million from the Second ATM Program, $590.1 million from the 2024 PIPE Financings). While necessary, this raises concerns about long-term sustainability and dilution of shareholder value.  \\n- **Unclear Timelines for Revenue Generation:** Despite substantial investment, there is no clear timeline for when revenue from commercial operations (e.g., Midnight) will materialize, which may signal gaps in execution planning.  \\n\\n---\\n\\n#### **3. Execution Capabilities Based on Past Performance**  \\n**Strengths:**  \\n- **Significant R&D Investment:** The company has allocated substantial resources to R&D (e.g., $108.8 million in stock-based compensation in 2024), reflecting a commitment to innovation in the eVTOL sector.  \\n- **Infrastructure Development:** The construction of a manufacturing facility in Georgia is a tangible execution milestone, supported by capital investments (e.g., $82.0 million in investing activities in 2024).  \\n\\n**Weaknesses:**  \\n- **No Revenue Despite Heavy Investment:** Despite years of R&D and infrastructure spending, the company has not yet achieved revenue, raising questions about the efficiency of execution or the realism of timelines.  \\n- **High Operating Cash Burn:** Net cash used in operating activities was $368.6 million in 2024, indicating significant financial strain and a lack of progress toward profitability.  \\n\\n---\\n\\n#### **4. Risk Awareness and Mitigation Strategies**  \\n**Strengths:**  \\n- **Comprehensive Risk Disclosure:** The MD&A explicitly outlines risks such as certification delays, regulatory hurdles, and reliance on financing. These are consistent with the \"Critical Accounting Policies\" section, which highlights the volatility of warrant liabilities.  \\n- **Diversified Financing Strategy:** The company has multiple financing mechanisms in place (e.g., ATM programs, PIPE financings, debt) to manage cash flow, reducing dependency on any single source.  \\n- **Proactive Management of Warrant Liabilities:** The company acknowledges the impact of warrant liabilities on its financials and adjusts for these in its cash flow statements, showing awareness of accounting risks.  \\n\\n**Weaknesses:**  \\n- **Limited Mitigation for Market Risks:** While regulatory and financial risks are addressed, the MD&A does not discuss risks related to market adoption of eVTOL technology or competition from other companies in the sector.  \\n- **Dependence on Stellantis:** The company has raised significant capital from Stellantis (e.g., $55.0 million from the Stellantis Forward Purchase Agreement). This could create dependency and potential conflicts of interest if Stellantis’s priorities diverge from Archer’s.  \\n\\n---\\n\\n### **Conclusion**  \\nArcher’s leadership team demonstrates **strong transparency** and **strategic vision**, particularly in diversifying revenue streams and building partnerships. However, **execution challenges** (e.g., lack of revenue despite heavy investment) and **over-reliance on financing** highlight areas for improvement. The company’s **risk awareness** is commendable, but broader market and competitive risks are under-discussed. Overall, the leadership team is proactive in addressing known challenges but may need to refine execution strategies and diversify beyond equity financing to ensure long-term sustainability.', images=None, tool_calls=None))"
      ]
     },
     "execution_count": 2,
     "metadata": {},
     "output_type": "execute_result"
    }
   ],
   "source": [
    "messages = format_document_messages(document)\n",
    "response = get_chat_response(client, MODEL, messages)\n",
    "response"
   ]
  },
  {
   "cell_type": "code",
   "execution_count": 3,
   "id": "db89ffa9",
   "metadata": {},
   "outputs": [
    {
     "data": {
      "text/plain": [
       "UUID('0685e3e9-b9e6-71a5-8000-843872aa046c')"
      ]
     },
     "execution_count": 3,
     "metadata": {},
     "output_type": "execute_result"
    }
   ],
   "source": [
    "response.created_at\n",
    "response.done_reason\n",
    "response.total_duration\n",
    "document.id"
   ]
  },
  {
   "cell_type": "code",
   "execution_count": 4,
   "id": "afaca784",
   "metadata": {},
   "outputs": [],
   "source": [
    "from src.llm.prompts import DOCUMENT_PROMPTS, AGGREGATE_PROMPT\n",
    "\n"
   ]
  },
  {
   "cell_type": "markdown",
   "id": "34022df6",
   "metadata": {},
   "source": [
    "## Database Migration\n",
    "\n",
    "The error `UndefinedColumn: column prompts.content does not exist` indicates that we need to add the missing `content` column to the `prompts` table. Let's run the SQL command to add this column:"
   ]
  },
  {
   "cell_type": "code",
   "execution_count": 5,
   "id": "76c65fc9",
   "metadata": {},
   "outputs": [
    {
     "name": "stdout",
     "output_type": "stream",
     "text": [
      "Error executing SQL: (psycopg2.errors.DuplicateColumn) column \"content\" of relation \"prompts\" already exists\n",
      "\n",
      "[SQL: ALTER TABLE prompts ADD COLUMN content TEXT;]\n",
      "(Background on this error at: https://sqlalche.me/e/20/f405)\n"
     ]
    }
   ],
   "source": [
    "from sqlalchemy import text\n",
    "from src.database.base import get_db_session\n",
    "\n",
    "# Get a session\n",
    "session = get_db_session()\n",
    "\n",
    "# Add the missing content column to the prompts table\n",
    "sql = text(\"ALTER TABLE prompts ADD COLUMN content TEXT;\")\n",
    "\n",
    "try:\n",
    "    session.execute(sql)\n",
    "    session.commit()\n",
    "    print(\"Successfully added 'content' column to the prompts table.\")\n",
    "except Exception as e:\n",
    "    session.rollback()\n",
    "    print(f\"Error executing SQL: {e}\")"
   ]
  },
  {
   "cell_type": "markdown",
   "id": "b8499836",
   "metadata": {},
   "source": [
    "## Additional Database Migration\n",
    "\n",
    "Let's check what columns currently exist in the prompts table, and then remove any that are no longer needed (like template_vars and default_vars):"
   ]
  },
  {
   "cell_type": "code",
   "execution_count": 6,
   "id": "581828e5",
   "metadata": {},
   "outputs": [
    {
     "name": "stdout",
     "output_type": "stream",
     "text": [
      "Current columns in prompts table:\n",
      " - id: UUID\n",
      " - name: VARCHAR(255)\n",
      " - description: TEXT\n",
      " - role: VARCHAR(9)\n",
      " - content: TEXT\n"
     ]
    }
   ],
   "source": [
    "from sqlalchemy import text, inspect\n",
    "from src.database.base import get_db_session, engine\n",
    "\n",
    "# First, let's check the existing columns in the prompts table\n",
    "inspector = inspect(engine)\n",
    "columns = inspector.get_columns('prompts')\n",
    "print(\"Current columns in prompts table:\")\n",
    "for col in columns:\n",
    "    print(f\" - {col['name']}: {col['type']}\")"
   ]
  },
  {
   "cell_type": "code",
   "execution_count": 7,
   "id": "df5737df",
   "metadata": {},
   "outputs": [
    {
     "name": "stdout",
     "output_type": "stream",
     "text": [
      "template_vars column doesn't exist\n",
      "default_vars column doesn't exist\n",
      "template column doesn't exist\n",
      "Database schema update completed successfully.\n"
     ]
    }
   ],
   "source": [
    "from sqlalchemy import text, inspect\n",
    "from src.database.base import get_db_session, engine\n",
    "\n",
    "# Get a session\n",
    "session = get_db_session()\n",
    "\n",
    "# Remove template_vars and default_vars columns if they exist\n",
    "try:\n",
    "    # Check if columns exist before dropping them\n",
    "    inspector = inspect(engine)\n",
    "    columns = [col['name'] for col in inspector.get_columns('prompts')]\n",
    "\n",
    "    if 'template_vars' in columns:\n",
    "        session.execute(text(\"ALTER TABLE prompts DROP COLUMN template_vars;\"))\n",
    "        print(\"Dropped template_vars column\")\n",
    "    else:\n",
    "        print(\"template_vars column doesn't exist\")\n",
    "\n",
    "    if 'default_vars' in columns:\n",
    "        session.execute(text(\"ALTER TABLE prompts DROP COLUMN default_vars;\"))\n",
    "        print(\"Dropped default_vars column\")\n",
    "    else:\n",
    "        print(\"default_vars column doesn't exist\")\n",
    "\n",
    "    if 'template' in columns:\n",
    "        session.execute(text(\"ALTER TABLE prompts DROP COLUMN template;\"))\n",
    "        print(\"Dropped template column\")\n",
    "    else:\n",
    "        print(\"template column doesn't exist\")\n",
    "\n",
    "    session.commit()\n",
    "    print(\"Database schema update completed successfully.\")\n",
    "except Exception as e:\n",
    "    session.rollback()\n",
    "    print(f\"Error executing SQL: {e}\")"
   ]
  },
  {
   "cell_type": "markdown",
   "id": "167261ec",
   "metadata": {},
   "source": [
    "Now let's try creating a prompt again with our updated schema:"
   ]
  },
  {
   "cell_type": "code",
   "execution_count": 8,
   "id": "ccf4b728",
   "metadata": {},
   "outputs": [],
   "source": [
    "# from src.database.prompts import create_prompt, PromptRole\n",
    "\n",
    "# name = \"aggregate_prompt\"\n",
    "# content = AGGREGATE_PROMPT\n",
    "\n",
    "# # Create a new prompt in the database\n",
    "# prompt_data = {\n",
    "#     'name': name,\n",
    "#     'description': 'Prompt for aggregating document analysis',\n",
    "#     'role': PromptRole.SYSTEM,\n",
    "#     'content': content\n",
    "# }\n",
    "\n",
    "# try:\n",
    "#     prompt = create_prompt(prompt_data)\n",
    "#     print(f\"Created prompt with ID: {prompt.id}\")\n",
    "# except ValueError as e:\n",
    "#     print(f\"Error: {e}\")\n",
    "# for doc_type in DOCUMENT_PROMPTS:\n",
    "#     name = doc_type.value\n",
    "#     content = DOCUMENT_PROMPTS[doc_type]\n",
    "#     prompt_data = {\n",
    "#         'name': name,\n",
    "#         'role': PromptRole.SYSTEM,\n",
    "#         'content': content\n",
    "#     }\n",
    "\n",
    "#     try:\n",
    "#         prompt = create_prompt(prompt_data)\n",
    "#         print(f\"Created prompt with ID: {prompt.id}\")\n",
    "#     except ValueError as e:\n",
    "#         print(f\"Error: {e}\")"
   ]
  },
  {
   "cell_type": "code",
   "execution_count": 9,
   "id": "f518f985",
   "metadata": {},
   "outputs": [],
   "source": [
    "# available objects:\n",
    "# company (Company)\n",
    "# filing (Filing)\n",
    "# document (Document)\n",
    "# response (raw llm response. Has creation timestamp and duration fields)\n",
    "# prompt (name matches document.document_type)"
   ]
  },
  {
   "cell_type": "markdown",
   "id": "38fbee64",
   "metadata": {},
   "source": [
    "## Completions Table Migration\n",
    "\n",
    "The completions table is missing a crucial field to store the actual text content of the LLM response. Let's add a `content` column to store this data:"
   ]
  },
  {
   "cell_type": "code",
   "execution_count": 22,
   "id": "c9c5c029",
   "metadata": {},
   "outputs": [
    {
     "name": "stdout",
     "output_type": "stream",
     "text": [
      "Current columns in completions table: ['id', 'system_prompt_id', 'user_prompt_id', 'context_text', 'model', 'temperature', 'top_p', 'content', 'created_at', 'total_duration', 'num_ctx']\n",
      "The 'content' column already exists in the completions table.\n",
      "The 'created_at' column already exists in the completions table.\n",
      "The 'total_duration' column already exists in the completions table.\n",
      "The 'num_ctx' column already exists in the completions table.\n",
      "Successfully removed 'context_text' column from the completions table.\n"
     ]
    }
   ],
   "source": [
    "from sqlalchemy import text\n",
    "from src.database.base import get_db_session, engine\n",
    "\n",
    "# Get a session\n",
    "session = get_db_session()\n",
    "\n",
    "# First, let's check if the column already exists\n",
    "inspector = inspect(engine)\n",
    "columns = [col['name'] for col in inspector.get_columns('completions')]\n",
    "print(\"Current columns in completions table:\", columns)\n",
    "\n",
    "# Add the content column to the completions table if it doesn't exist\n",
    "if 'content' not in columns:\n",
    "    try:\n",
    "        sql = text(\"ALTER TABLE completions ADD COLUMN content TEXT;\")\n",
    "        session.execute(sql)\n",
    "        session.commit()\n",
    "        print(\"Successfully added 'content' column to the completions table.\")\n",
    "    except Exception as e:\n",
    "        session.rollback()\n",
    "        print(f\"Error executing SQL: {e}\")\n",
    "else:\n",
    "    print(\"The 'content' column already exists in the completions table.\")\n",
    "\n",
    "# Add the created_at column to the completions table if it doesn't exist\n",
    "if 'created_at' not in columns:\n",
    "    try:\n",
    "        sql = text(\"ALTER TABLE completions ADD COLUMN created_at TIMESTAMP;\")\n",
    "        session.execute(sql)\n",
    "        session.commit()\n",
    "        print(\"Successfully added 'created_at' column to the completions table.\")\n",
    "    except Exception as e:\n",
    "        session.rollback()\n",
    "        print(f\"Error executing SQL: {e}\")\n",
    "else:\n",
    "    print(\"The 'created_at' column already exists in the completions table.\")\n",
    "\n",
    "# and total_duration (int)\n",
    "if 'total_duration' not in columns:\n",
    "    try:\n",
    "        sql = text(\"ALTER TABLE completions ADD COLUMN total_duration INT;\")\n",
    "        session.execute(sql)\n",
    "        session.commit()\n",
    "        print(\"Successfully added 'total_duration' column to the completions table.\")\n",
    "    except Exception as e:\n",
    "        session.rollback()\n",
    "        print(f\"Error executing SQL: {e}\")\n",
    "else:\n",
    "    print(\"The 'total_duration' column already exists in the completions table.\")\n",
    "\n",
    "# and num_ctx (int)\n",
    "if 'num_ctx' not in columns:\n",
    "    try:\n",
    "        sql = text(\"ALTER TABLE completions ADD COLUMN num_ctx INT;\")\n",
    "        session.execute(sql)\n",
    "        session.commit()\n",
    "        print(\"Successfully added 'num_ctx' column to the completions table.\")\n",
    "    except Exception as e:\n",
    "        session.rollback()\n",
    "        print(f\"Error executing SQL: {e}\")\n",
    "else:\n",
    "    print(\"The 'num_ctx' column already exists in the completions table.\")\n",
    "\n",
    "# and remove context_texts\n",
    "if 'context_text' in columns:\n",
    "    try:\n",
    "        sql = text(\"ALTER TABLE completions DROP COLUMN context_text;\")\n",
    "        session.execute(sql)\n",
    "        session.commit()\n",
    "        print(\"Successfully removed 'context_text' column from the completions table.\")\n",
    "    except Exception as e:\n",
    "        session.rollback()\n",
    "        print(f\"Error executing SQL: {e}\")\n",
    "else:\n",
    "    print(\"The 'context_text' column does not exist in the completions table.\")"
   ]
  },
  {
   "cell_type": "code",
   "execution_count": null,
   "id": "26d0db1e",
   "metadata": {},
   "outputs": [
    {
     "name": "stderr",
     "output_type": "stream",
     "text": [
      "2025-06-28T15:32:18.247557Z [info     ] retrieved_prompt_by_name       name=management_discussion prompt_id=06860055-5f9e-750c-8000-e57ce7b47741\n",
      "2025-06-28T15:32:18.253794Z [info     ] created_completion             completion_id=068600b0-23fc-70f9-8000-2e276628b0cb model=qwen3\n",
      "2025-06-28T15:32:18.253794Z [info     ] created_completion             completion_id=068600b0-23fc-70f9-8000-2e276628b0cb model=qwen3\n"
     ]
    },
    {
     "name": "stdout",
     "output_type": "stream",
     "text": [
      "Created completion record with ID: 068600b0-23fc-70f9-8000-2e276628b0cb\n",
      "Associated with document: Archer Aviation Inc. 10-K 2025-02-28 - Management Discussion\n",
      "Model: qwen3, Duration: 83.00 seconds\n",
      "Content length: 8549 characters\n"
     ]
    }
   ],
   "source": [
    "# Now let's update our completion creation code to include the content\n",
    "from src.database.completions import create_completion\n",
    "\n",
    "# Extract necessary details from the response\n",
    "created_at = response.created_at\n",
    "total_duration = response.total_duration / 1e9  # Convert from nanoseconds to seconds\n",
    "content = response.message.content  # Extract the actual content of the response\n",
    "\n",
    "from src.database.prompts import get_prompt_by_name\n",
    "from src.llm.models import MODEL_CONFIG\n",
    "\n",
    "prompt = get_prompt_by_name(document.document_type.value)\n",
    "\n",
    "# Prepare completion data with content\n",
    "completion_data = {\n",
    "    'model': MODEL,\n",
    "    'document_ids': [document.id],  # Associate with the current document\n",
    "    'system_prompt_id': prompt.id,  # Link to the prompt used\n",
    "    'total_duration': total_duration,\n",
    "    'created_at': created_at,\n",
    "    'temperature': 0.7,  # Default or you can use specific values if available\n",
    "    'num_ctx': MODEL_CONFIG[MODEL][\"ctx\"],\n",
    "    'content': content,  # Add the actual response content\n",
    "}\n",
    "\n",
    "# Create the completion record\n",
    "try:\n",
    "    completion = create_completion(completion_data)\n",
    "    print(f\"Created completion record with ID: {completion.id}\")\n",
    "    print(f\"Associated with document: {document.document_name}\")\n",
    "    print(f\"Model: {completion.model}, Duration: {completion.total_duration:.2f} seconds\")\n",
    "    print(f\"Content length: {len(completion.content) if hasattr(completion, 'content') else 'N/A'} characters\")\n",
    "except Exception as e:\n",
    "    print(f\"Error creating completion: {e}\")"
   ]
  },
  {
   "cell_type": "code",
   "execution_count": null,
   "id": "c0cb5b81",
   "metadata": {},
   "outputs": [],
   "source": []
  },
  {
   "cell_type": "code",
   "execution_count": null,
   "id": "097eb8d0",
   "metadata": {},
   "outputs": [],
   "source": []
  }
 ],
 "metadata": {
  "kernelspec": {
   "display_name": ".venv",
   "language": "python",
   "name": "python3"
  },
  "language_info": {
   "codemirror_mode": {
    "name": "ipython",
    "version": 3
   },
   "file_extension": ".py",
   "mimetype": "text/x-python",
   "name": "python",
   "nbconvert_exporter": "python",
   "pygments_lexer": "ipython3",
   "version": "3.13.2"
  }
 },
 "nbformat": 4,
 "nbformat_minor": 5
}
