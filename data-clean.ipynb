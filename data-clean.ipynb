{
 "cells": [
  {
   "cell_type": "markdown",
   "id": "6b7af2c6",
   "metadata": {},
   "source": [
    "# Database Exploration Notebook\n",
    "\n",
    "This notebook provides tools for exploring the symbology database using pandas.\n",
    "Use this to find companies with missing fields, abnormal filing results, and other data quality issues."
   ]
  },
  {
   "cell_type": "code",
   "execution_count": null,
   "id": "ba5379ca",
   "metadata": {},
   "outputs": [],
   "source": [
    "# Import required libraries\n",
    "import pandas as pd\n",
    "import numpy as np\n",
    "import matplotlib.pyplot as plt\n",
    "import seaborn as sns\n",
    "from sqlalchemy import create_engine, text\n",
    "import warnings\n",
    "\n",
    "# Import project-specific modules\n",
    "import sys\n",
    "import os\n",
    "sys.path.append('/home/steven/symbology/src')\n",
    "\n",
    "from utils.config import settings\n",
    "from database.base import init_db, get_db_session\n",
    "from database.utils import (\n",
    "    explore_table_schema,\n",
    "    analyze_missing_data,\n",
    "    find_duplicates,\n",
    "    get_companies_with_missing_fields,\n",
    "    analyze_companies_data_quality,\n",
    "    analyze_filing_patterns,\n",
    "    get_data_quality_summary,\n",
    "    quick_query,\n",
    "    search_companies,\n",
    "    get_company_details,\n",
    "    plot_missing_data_heatmap,\n",
    "    get_counts_for_companies\n",
    ")\n",
    "\n",
    "warnings.filterwarnings('ignore')\n",
    "plt.style.use('default')\n",
    "\n",
    "print(\"Libraries imported successfully!\")"
   ]
  },
  {
   "cell_type": "code",
   "execution_count": null,
   "id": "4ce8da8d",
   "metadata": {},
   "outputs": [],
   "source": [
    "# Initialize database connection\n",
    "engine, session = init_db(settings.database.url)\n",
    "\n",
    "# Create pandas-friendly engine for direct SQL queries\n",
    "pd_engine = create_engine(settings.database.url)\n",
    "\n",
    "print(f\"Connected to database: {settings.database.database_name}\")\n",
    "print(f\"Host: {settings.database.host}:{settings.database.port}\")\n",
    "\n",
    "# Test connection\n",
    "with pd_engine.connect() as conn:\n",
    "    result = conn.execute(text(\"SELECT version();\"))\n",
    "    version = result.fetchone()[0]\n",
    "    print(f\"PostgreSQL version: {version[:50]}...\")"
   ]
  },
  {
   "cell_type": "markdown",
   "id": "0732edd1",
   "metadata": {},
   "source": [
    "## Database Schema Exploration\n",
    "\n",
    "Let's start by exploring the database structure to understand what tables and columns are available."
   ]
  },
  {
   "cell_type": "code",
   "execution_count": null,
   "id": "dfa98ea1",
   "metadata": {},
   "outputs": [],
   "source": [
    "# Get list of all tables\n",
    "tables_query = \"\"\"\n",
    "SELECT table_name, table_type\n",
    "FROM information_schema.tables\n",
    "WHERE table_schema = 'public'\n",
    "ORDER BY table_name;\n",
    "\"\"\"\n",
    "\n",
    "tables_df = pd.read_sql(tables_query, pd_engine)\n",
    "print(\"Available tables:\")\n",
    "print(tables_df.to_string(index=False))"
   ]
  },
  {
   "cell_type": "code",
   "execution_count": null,
   "id": "1c1a102d",
   "metadata": {},
   "outputs": [],
   "source": [
    "# Display schema for all tables\n",
    "for table in tables_df['table_name']:\n",
    "    print(f\"\\n{'='*60}\")\n",
    "    print(f\"Schema for table: {table}\")\n",
    "    print(f\"{'='*60}\")\n",
    "    schema_df = explore_table_schema(table)\n",
    "    print(schema_df.to_string(index=False))\n",
    "\n",
    "    # Get row count\n",
    "    count_query = f\"SELECT COUNT(*) as row_count FROM {table};\"\n",
    "    count_df = pd.read_sql(count_query, pd_engine)\n",
    "    print(f\"\\nRow count: {count_df['row_count'].iloc[0]:,}\")"
   ]
  },
  {
   "cell_type": "markdown",
   "id": "400b7aef",
   "metadata": {},
   "source": [
    "## Data Quality Analysis\n",
    "\n",
    "Now let's create functions to identify data quality issues like missing fields, duplicates, and anomalies."
   ]
  },
  {
   "cell_type": "code",
   "execution_count": null,
   "id": "e97ee17d",
   "metadata": {},
   "outputs": [],
   "source": [
    "# Analyze data quality for all tables\n",
    "data_quality_results = {}\n",
    "\n",
    "for table in tables_df['table_name']:\n",
    "    try:\n",
    "        print(f\"\\n{'#'*60}\")\n",
    "        print(f\"Analyzing table: {table}\")\n",
    "        print(f\"{'#'*60}\")\n",
    "\n",
    "        # Missing data analysis\n",
    "        df, missing_stats = analyze_missing_data(table)\n",
    "\n",
    "        if df is not None:\n",
    "            # Duplicate analysis\n",
    "            duplicates = find_duplicates(table)\n",
    "\n",
    "            data_quality_results[table] = {\n",
    "                'dataframe': df,\n",
    "                'missing_stats': missing_stats,\n",
    "                'duplicates': duplicates\n",
    "            }\n",
    "        else:\n",
    "            data_quality_results[table] = {\n",
    "                'dataframe': None,\n",
    "                'missing_stats': None,\n",
    "                'duplicates': None\n",
    "            }\n",
    "\n",
    "    except Exception as e:\n",
    "        print(f\"Error analyzing {table}: {str(e)}\")\n",
    "        continue"
   ]
  },
  {
   "cell_type": "markdown",
   "id": "9cadc030",
   "metadata": {},
   "source": [
    "## Company-Specific Analysis\n",
    "\n",
    "Let's analyze companies and their filing data using the utility functions."
   ]
  },
  {
   "cell_type": "code",
   "execution_count": null,
   "id": "7c06d7d3",
   "metadata": {},
   "outputs": [],
   "source": [
    "# Generate data quality summary\n",
    "print(\"Data Quality Summary:\")\n",
    "print(\"=\"*40)\n",
    "quality_summary = get_data_quality_summary()\n",
    "print(quality_summary)"
   ]
  },
  {
   "cell_type": "code",
   "execution_count": null,
   "id": "60c98824",
   "metadata": {},
   "outputs": [],
   "source": [
    "# Run companies-specific analysis\n",
    "companies_analysis = analyze_companies_data_quality()"
   ]
  },
  {
   "cell_type": "code",
   "execution_count": null,
   "id": "36fbf235",
   "metadata": {},
   "outputs": [],
   "source": [
    "# Analyze filing patterns\n",
    "filing_analysis = analyze_filing_patterns()"
   ]
  },
  {
   "cell_type": "code",
   "execution_count": null,
   "id": "30528532",
   "metadata": {},
   "outputs": [],
   "source": [
    "# Example: Quick data exploration\n",
    "# Look at companies missing summaries\n",
    "missing_summaries = get_companies_with_missing_fields('summary')\n",
    "print(f\"Companies missing summaries: {len(missing_summaries)}\")\n",
    "if not missing_summaries.empty:\n",
    "    print(\"\\nSample companies missing summaries:\")\n",
    "    print(missing_summaries[['tickers', 'display_name']].head(3).to_string(index=False))"
   ]
  },
  {
   "cell_type": "code",
   "execution_count": null,
   "id": "424d1ccd",
   "metadata": {},
   "outputs": [],
   "source": [
    "# Get filing, document, aggregate counts, and summary status for companies missing summaries\n",
    "if not missing_summaries.empty:\n",
    "    print(\"\\nFiling, Document, Aggregate Counts, and Summary Status for Companies Missing Summaries:\")\n",
    "    print(\"=\"*90)\n",
    "\n",
    "    # Convert company IDs to a list of strings\n",
    "    company_ids = [str(company_id) for company_id in missing_summaries['id'].tolist()]\n",
    "\n",
    "    # Use the utility function to get filing, document, aggregate counts, and summary status\n",
    "    filing_doc_counts = get_counts_for_companies(company_ids)\n",
    "\n",
    "    if not filing_doc_counts.empty:\n",
    "        # Display summary statistics\n",
    "        print(f\"Total companies missing summaries: {len(filing_doc_counts)}\")\n",
    "        print(f\"Companies with filings: {len(filing_doc_counts[filing_doc_counts['filing_count'] > 0])}\")\n",
    "        print(f\"Companies with documents: {len(filing_doc_counts[filing_doc_counts['document_count'] > 0])}\")\n",
    "        print(f\"Companies with aggregates: {len(filing_doc_counts[filing_doc_counts['aggregate_count'] > 0])}\")\n",
    "        print(f\"Companies with summaries: {len(filing_doc_counts[filing_doc_counts['has_summary'] == 'Yes'])}\")\n",
    "        print(f\"Companies with both filings and documents: {len(filing_doc_counts[(filing_doc_counts['filing_count'] > 0) & (filing_doc_counts['document_count'] > 0)])}\")\n",
    "        print(f\"Companies with filings, documents, and aggregates: {len(filing_doc_counts[(filing_doc_counts['filing_count'] > 0) & (filing_doc_counts['document_count'] > 0) & (filing_doc_counts['aggregate_count'] > 0)])}\")\n",
    "\n",
    "        # Show companies with filings but no documents (potential data issues)\n",
    "        filings_no_docs = filing_doc_counts[(filing_doc_counts['filing_count'] > 0) & (filing_doc_counts['document_count'] == 0)]\n",
    "        if not filings_no_docs.empty:\n",
    "            print(f\"\\nCompanies with filings but no documents ({len(filings_no_docs)} companies):\")\n",
    "            print(filings_no_docs[['display_name', 'has_summary', 'filing_count', 'aggregate_count', 'latest_filing_date']].to_string(index=False))\n",
    "\n",
    "        # Show companies with documents but no aggregates (potential opportunities)\n",
    "        docs_no_aggregates = filing_doc_counts[(filing_doc_counts['document_count'] > 0) & (filing_doc_counts['aggregate_count'] == 0)]\n",
    "        if not docs_no_aggregates.empty:\n",
    "            print(f\"\\nCompanies with documents but no aggregates ({len(docs_no_aggregates)} companies):\")\n",
    "            print(docs_no_aggregates[['display_name', 'has_summary', 'document_count', 'filing_count', 'latest_filing_date']].head(3).to_string(index=False))\n",
    "            if len(docs_no_aggregates) > 3:\n",
    "                print(f\"... and {len(docs_no_aggregates) - 3} more companies\")\n",
    "\n",
    "        # Show companies with aggregates but no summaries (prime candidates for summary generation)\n",
    "        aggregates_no_summaries = filing_doc_counts[(filing_doc_counts['aggregate_count'] > 0) & (filing_doc_counts['has_summary'] == 'No')]\n",
    "        if not aggregates_no_summaries.empty:\n",
    "            print(f\"\\nCompanies with aggregates but no summaries - Prime candidates for summary generation ({len(aggregates_no_summaries)} companies):\")\n",
    "            print(aggregates_no_summaries[['display_name', 'aggregate_count', 'document_count', 'filing_count', 'latest_filing_date']].head(3).to_string(index=False))\n",
    "            if len(aggregates_no_summaries) > 3:\n",
    "                print(f\"... and {len(aggregates_no_summaries) - 3} more companies\")\n",
    "\n",
    "        # Show companies with no filings, documents, or aggregates\n",
    "        no_data = filing_doc_counts[(filing_doc_counts['filing_count'] == 0) & (filing_doc_counts['document_count'] == 0) & (filing_doc_counts['aggregate_count'] == 0)]\n",
    "        if not no_data.empty:\n",
    "            print(f\"\\nCompanies with no filings, documents, or aggregates ({len(no_data)} companies):\")\n",
    "            print(no_data[['display_name', 'tickers', 'sic_description']].head(3).to_string(index=False))\n",
    "            if len(no_data) > 3:\n",
    "                print(f\"... and {len(no_data) - 3} more companies\")\n",
    "\n",
    "        # Show aggregate summary statistics\n",
    "        total_aggregates = filing_doc_counts['aggregate_count'].sum()\n",
    "        avg_aggregates_per_company = filing_doc_counts['aggregate_count'].mean()\n",
    "        max_aggregates = filing_doc_counts['aggregate_count'].max()\n",
    "\n",
    "        print(f\"\\nAggregate Summary:\")\n",
    "        print(f\"Total aggregates across all companies: {total_aggregates}\")\n",
    "\n",
    "        # Summary status breakdown\n",
    "        summary_counts = filing_doc_counts['has_summary'].value_counts()\n",
    "        print(f\"\\nSummary Status Breakdown:\")\n",
    "        for status, count in summary_counts.items():\n",
    "            percentage = (count / len(filing_doc_counts)) * 30\n",
    "            print(f\"Companies with summary = {status}: {count} ({percentage:.1f}%)\")\n",
    "\n",
    "    else:\n",
    "        print(\"No results found for the query.\")\n",
    "else:\n",
    "    print(\"No companies missing summaries found.\")"
   ]
  },
  {
   "cell_type": "code",
   "execution_count": null,
   "id": "a62d07ba",
   "metadata": {},
   "outputs": [],
   "source": [
    "# count the average length of document for the companies above ^"
   ]
  },
  {
   "cell_type": "code",
   "execution_count": null,
   "id": "4569b1a4",
   "metadata": {},
   "outputs": [],
   "source": [
    "dc =filing_doc_counts\n",
    "dc = dc[[\"tickers\", \"has_summary\", \"aggregate_count\", \"filing_count\", \"document_count\"]]\n",
    "\n",
    "dc.head()\n"
   ]
  },
  {
   "cell_type": "code",
   "execution_count": null,
   "id": "1e6bc841",
   "metadata": {},
   "outputs": [],
   "source": [
    "tickers_list = dc['tickers'].tolist()\n",
    "tickers_list = [a[0] for a in tickers_list]\n",
    "print(tickers_list)"
   ]
  },
  {
   "cell_type": "code",
   "execution_count": null,
   "id": "631da07b",
   "metadata": {},
   "outputs": [],
   "source": [
    "# Get companies that DO have summaries\n",
    "companies_with_summaries_query = \"\"\"\n",
    "SELECT\n",
    "    id,\n",
    "    cik,\n",
    "    name,\n",
    "    display_name,\n",
    "    tickers,\n",
    "    summary\n",
    "FROM companies\n",
    "WHERE summary IS NOT NULL;\n",
    "\"\"\"\n",
    "\n",
    "companies_with_summaries = pd.read_sql(companies_with_summaries_query, pd_engine)\n",
    "\n",
    "tickers_list = companies_with_summaries[\"tickers\"].tolist()\n",
    "tickers_list = [a[0] for a in tickers_list]\n",
    "print(len(tickers_list))\n",
    "print(tickers_list)"
   ]
  },
  {
   "cell_type": "code",
   "execution_count": null,
   "id": "d56436bb",
   "metadata": {},
   "outputs": [],
   "source": []
  }
 ],
 "metadata": {
  "kernelspec": {
   "display_name": "symbology",
   "language": "python",
   "name": "python3"
  },
  "language_info": {
   "codemirror_mode": {
    "name": "ipython",
    "version": 3
   },
   "file_extension": ".py",
   "mimetype": "text/x-python",
   "name": "python",
   "nbconvert_exporter": "python",
   "pygments_lexer": "ipython3",
   "version": "3.13.2"
  }
 },
 "nbformat": 4,
 "nbformat_minor": 5
}
