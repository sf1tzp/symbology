{
 "cells": [
  {
   "cell_type": "code",
   "execution_count": 2,
   "metadata": {},
   "outputs": [
    {
     "data": {
      "text/plain": [
       "<Success: >"
      ]
     },
     "execution_count": 2,
     "metadata": {},
     "output_type": "execute_result"
    }
   ],
   "source": [
    "import edgar as ed\n",
    "from edgartools import edgar_login\n",
    "\n",
    "import pandas as pd\n",
    "pd.set_option('display.max_colwidth', None)\n",
    "pd.set_option('display.width', None)  # Use full width of the terminal\n",
    "pd.set_option('display.max_columns', None)  # Show all columns\n",
    "pd.set_option('display.expand_frame_repr', False)  # Don't wrap to multiple lin\n",
    "import numpy as np\n",
    "\n",
    "edgar_login()"
   ]
  },
  {
   "cell_type": "code",
   "execution_count": null,
   "metadata": {},
   "outputs": [],
   "source": [
    "company = ed.Company(\"MSFT\")\n",
    "year = \"2024\"\n",
    "filings = ed.get_filings(int(year))\n",
    "tenk = filings.filter(ticker=\"MSFT\", form=\"10-K\").latest().data_object()\n",
    "\n",
    "income = tenk.income_statement.to_dataframe()[year]\n",
    "balance = tenk.balance_sheet.to_dataframe()[year]\n",
    "cash = tenk.cash_flow_statement.to_dataframe()[year]"
   ]
  },
  {
   "cell_type": "code",
   "execution_count": null,
   "metadata": {},
   "outputs": [],
   "source": [
    "print(tenk.income_statement)\n",
    "print(tenk.balance_sheet)\n",
    "print(tenk.cash_flow_statement)"
   ]
  },
  {
   "cell_type": "code",
   "execution_count": null,
   "metadata": {},
   "outputs": [],
   "source": [
    "income"
   ]
  },
  {
   "cell_type": "code",
   "execution_count": null,
   "metadata": {},
   "outputs": [],
   "source": [
    "tenk.income_statement"
   ]
  },
  {
   "cell_type": "code",
   "execution_count": null,
   "metadata": {},
   "outputs": [],
   "source": [
    "company"
   ]
  },
  {
   "cell_type": "code",
   "execution_count": null,
   "metadata": {},
   "outputs": [],
   "source": [
    "tenk.financials"
   ]
  },
  {
   "cell_type": "code",
   "execution_count": null,
   "metadata": {},
   "outputs": [],
   "source": [
    "tenk.financials.cover.to_dataframe()"
   ]
  },
  {
   "cell_type": "code",
   "execution_count": null,
   "metadata": {},
   "outputs": [],
   "source": [
    "tenk"
   ]
  },
  {
   "cell_type": "code",
   "execution_count": null,
   "metadata": {},
   "outputs": [],
   "source": [
    "income"
   ]
  },
  {
   "cell_type": "code",
   "execution_count": null,
   "metadata": {},
   "outputs": [],
   "source": [
    "tenk.financials"
   ]
  },
  {
   "cell_type": "code",
   "execution_count": null,
   "metadata": {},
   "outputs": [],
   "source": [
    "company = \"AAPL\"\n",
    "year = \"2024\"\n",
    "filings = ed.get_filings(int(year))\n",
    "tenk = filings.filter(ticker=company, form=\"10-K\").latest().data_object()\n",
    "\n",
    "income = tenk.income_statement.to_dataframe()\n",
    "balance = tenk.balance_sheet.to_dataframe()\n",
    "cash = tenk.cash_flow_statement.to_dataframe()\n",
    "tenk.income_statement.data[[\"concept\", \"level\"]]"
   ]
  },
  {
   "cell_type": "code",
   "execution_count": null,
   "metadata": {},
   "outputs": [],
   "source": [
    "company = \"MSFT\"\n",
    "year = \"2024\"\n",
    "filings = ed.get_filings(int(year))\n",
    "tenk = filings.filter(ticker=company, form=\"10-K\").latest().data_object()\n",
    "\n",
    "income = tenk.income_statement.to_dataframe()\n",
    "balance = tenk.balance_sheet.to_dataframe()\n",
    "cash = tenk.cash_flow_statement.to_dataframe()\n",
    "tenk.income_statement.data[[\"concept\", \"level\"]]"
   ]
  },
  {
   "cell_type": "code",
   "execution_count": null,
   "metadata": {},
   "outputs": [],
   "source": [
    "company = \"GM\"\n",
    "year = \"2024\"\n",
    "filings = ed.get_filings(int(year))\n",
    "tenk = filings.filter(ticker=company, form=\"10-K\").latest().data_object()\n",
    "\n",
    "income = tenk.income_statement.to_dataframe()\n",
    "balance = tenk.balance_sheet.to_dataframe()\n",
    "cash = tenk.cash_flow_statement.to_dataframe()\n",
    "tenk.income_statement.data[[\"concept\", \"level\"]]"
   ]
  },
  {
   "cell_type": "code",
   "execution_count": null,
   "metadata": {},
   "outputs": [],
   "source": [
    "tenk.income_statement.data"
   ]
  },
  {
   "cell_type": "code",
   "execution_count": null,
   "metadata": {},
   "outputs": [],
   "source": [
    "tenk = filings.filter(ticker=company, form=\"10-K\").latest()"
   ]
  },
  {
   "cell_type": "code",
   "execution_count": null,
   "metadata": {},
   "outputs": [],
   "source": [
    "foo = tenk.xbrl()"
   ]
  },
  {
   "cell_type": "code",
   "execution_count": null,
   "metadata": {},
   "outputs": [],
   "source": [
    "print(foo.labels)"
   ]
  },
  {
   "cell_type": "code",
   "execution_count": null,
   "metadata": {},
   "outputs": [],
   "source": [
    "foo.label_to_concept_map"
   ]
  },
  {
   "cell_type": "code",
   "execution_count": null,
   "metadata": {},
   "outputs": [],
   "source": [
    "company = \"MET\"\n",
    "year = \"2024\"\n",
    "filings = ed.get_filings(int(year))\n",
    "tenk = filings.filter(ticker=company, form=\"10-K\").latest().data_object()\n",
    "\n",
    "income = tenk.income_statement.to_dataframe()\n",
    "balance = tenk.balance_sheet.to_dataframe()\n",
    "cash = tenk.cash_flow_statement.to_dataframe()\n",
    "tenk.income_statement.data[[\"concept\", \"level\"]]"
   ]
  },
  {
   "cell_type": "code",
   "execution_count": null,
   "metadata": {},
   "outputs": [],
   "source": [
    "tenk = filings.filter(ticker=\"GM\", form=\"10-K\").latest()\n",
    "tenk.obj().financials.income"
   ]
  },
  {
   "cell_type": "code",
   "execution_count": null,
   "metadata": {},
   "outputs": [],
   "source": [
    "foo = \"us-gaap_Revenues\"\n",
    "tenk"
   ]
  },
  {
   "cell_type": "code",
   "execution_count": null,
   "metadata": {},
   "outputs": [],
   "source": [
    "revenue_key_levels = [\n",
    "    (\"us-gaap_Revenues\", 1),\n",
    "    (\"us-gaap_RevenueFromContractWithCustomerExcludingAssessedTax\", 0),\n",
    "    (\"us-gaap_RevenueFromContractWithCustomerIncludingAssessedTax\", 0),\n",
    "]\n",
    "revenue_concepts = [\n",
    "        \"Revenues\",\n",
    "        \"RevenueFromContractWithCustomerExcludingAssessedTax\",\n",
    "        \"SalesRevenueGoodsNet\",\n",
    "        \"SalesRevenueServicesNet\",\n",
    "        \"SalesRevenueEnergyServices\",\n",
    "        \"OperatingLeasesIncomeStatementLeaseRevenue\",\n",
    "        \"SalesTypeLeaseRevenue\"\n",
    "]\n",
    "filings = ed.get_filings(form=\"10-K\").latest(50)\n",
    "for i, filing in enumerate(filings):\n",
    "    c = ed.Company(filing.cik)\n",
    "    f = filing.obj()\n",
    "    if c == None or f == None or f.financials == None:\n",
    "        continue\n",
    "    print(f\"\\n=====\\n{i+1} {f.company} {c.tickers}\")\n",
    "    try:\n",
    "        income = f.financials.income\n",
    "        found = False\n",
    "        for concept in revenue_concepts:\n",
    "            if income.get_concept(concept):\n",
    "                found = True\n",
    "                print(income.get_concept(concept))\n",
    "\n",
    "        if not found:\n",
    "            print(\"Hmmmmm\")\n",
    "            print(type(income))\n",
    "    except:\n",
    "        continue\n",
    "\n",
    "\n"
   ]
  },
  {
   "cell_type": "code",
   "execution_count": 9,
   "metadata": {},
   "outputs": [],
   "source": [
    "from edgar.xbrl2 import XBRLS\n",
    "\n",
    "# filings = ed.get_filings(form=\"10-K\").latest(50)\n",
    "company = ed.Company('AMD')\n",
    "filings = company.get_filings(form=\"10-K\").latest()\n",
    "\n",
    "xbrls = XBRLS.from_filings([filings])\n",
    "\n",
    "stitched_statements = xbrls.statements\n",
    "\n",
    "income_trend = stitched_statements.income_statement(standardize=True)\n"
   ]
  },
  {
   "cell_type": "code",
   "execution_count": 17,
   "metadata": {},
   "outputs": [
    {
     "data": {
      "text/html": [
       "<div>\n",
       "<style scoped>\n",
       "    .dataframe tbody tr th:only-of-type {\n",
       "        vertical-align: middle;\n",
       "    }\n",
       "\n",
       "    .dataframe tbody tr th {\n",
       "        vertical-align: top;\n",
       "    }\n",
       "\n",
       "    .dataframe thead th {\n",
       "        text-align: right;\n",
       "    }\n",
       "</style>\n",
       "<table border=\"1\" class=\"dataframe\">\n",
       "  <thead>\n",
       "    <tr style=\"text-align: right;\">\n",
       "      <th></th>\n",
       "      <th>concept</th>\n",
       "      <th>Dec 28, 2024</th>\n",
       "    </tr>\n",
       "  </thead>\n",
       "  <tbody>\n",
       "    <tr>\n",
       "      <th>Amortization of acquisition-related intangibles_Opex</th>\n",
       "      <td>amd_AmortizationOfAcquisitionRelatedIntangibles_Opex</td>\n",
       "      <td>1.448000e+09</td>\n",
       "    </tr>\n",
       "    <tr>\n",
       "      <th>Cost of Revenue</th>\n",
       "      <td>us-gaap_CostOfGoodsAndServicesSold</td>\n",
       "      <td>-1.306000e+10</td>\n",
       "    </tr>\n",
       "    <tr>\n",
       "      <th>Cost of sales</th>\n",
       "      <td>us-gaap_CostOfGoodsAndServiceExcludingDepreciationDepletionAndAmortization</td>\n",
       "      <td>1.211400e+10</td>\n",
       "    </tr>\n",
       "    <tr>\n",
       "      <th>Cost, Depreciation, Amortization and Depletion</th>\n",
       "      <td>us-gaap_CostDepreciationAmortizationAndDepletion</td>\n",
       "      <td>9.460000e+08</td>\n",
       "    </tr>\n",
       "    <tr>\n",
       "      <th>Equity income in investee</th>\n",
       "      <td>us-gaap_IncomeLossFromEquityMethodInvestments</td>\n",
       "      <td>3.300000e+07</td>\n",
       "    </tr>\n",
       "    <tr>\n",
       "      <th>Gross Profit</th>\n",
       "      <td>us-gaap_GrossProfit</td>\n",
       "      <td>1.272500e+10</td>\n",
       "    </tr>\n",
       "    <tr>\n",
       "      <th>Income before income taxes and equity income</th>\n",
       "      <td>us-gaap_IncomeLossFromContinuingOperationsBeforeIncomeTaxesMinorityInterestAndIncomeLossFromEquityMethodInvestments</td>\n",
       "      <td>1.989000e+09</td>\n",
       "    </tr>\n",
       "    <tr>\n",
       "      <th>Income tax provision (benefit)</th>\n",
       "      <td>us-gaap_IncomeTaxExpenseBenefit</td>\n",
       "      <td>3.810000e+08</td>\n",
       "    </tr>\n",
       "    <tr>\n",
       "      <th>Interest Expense</th>\n",
       "      <td>us-gaap_InterestExpense</td>\n",
       "      <td>-9.200000e+07</td>\n",
       "    </tr>\n",
       "    <tr>\n",
       "      <th>Licensing gain</th>\n",
       "      <td>amd_GainLossOnLicensingAgreement</td>\n",
       "      <td>4.800000e+07</td>\n",
       "    </tr>\n",
       "    <tr>\n",
       "      <th>Marketing, general and administrative</th>\n",
       "      <td>us-gaap_SellingGeneralAndAdministrativeExpense</td>\n",
       "      <td>-2.783000e+09</td>\n",
       "    </tr>\n",
       "    <tr>\n",
       "      <th>Net Income</th>\n",
       "      <td>us-gaap_NetIncomeLoss</td>\n",
       "      <td>1.641000e+09</td>\n",
       "    </tr>\n",
       "    <tr>\n",
       "      <th>Operating Income</th>\n",
       "      <td>us-gaap_OperatingIncomeLoss</td>\n",
       "      <td>1.900000e+09</td>\n",
       "    </tr>\n",
       "    <tr>\n",
       "      <th>Other income (expense), net</th>\n",
       "      <td>us-gaap_OtherNonoperatingIncomeExpense</td>\n",
       "      <td>1.810000e+08</td>\n",
       "    </tr>\n",
       "    <tr>\n",
       "      <th>Research and development</th>\n",
       "      <td>us-gaap_ResearchAndDevelopmentExpense</td>\n",
       "      <td>-6.456000e+09</td>\n",
       "    </tr>\n",
       "    <tr>\n",
       "      <th>Restructuring charges</th>\n",
       "      <td>us-gaap_RestructuringCharges</td>\n",
       "      <td>-1.860000e+08</td>\n",
       "    </tr>\n",
       "    <tr>\n",
       "      <th>Revenue</th>\n",
       "      <td>us-gaap_RevenueFromContractWithCustomerExcludingAssessedTax</td>\n",
       "      <td>2.578500e+10</td>\n",
       "    </tr>\n",
       "    <tr>\n",
       "      <th>Basic (in shares)</th>\n",
       "      <td>us-gaap_WeightedAverageNumberOfSharesOutstandingBasic</td>\n",
       "      <td>1.620000e+09</td>\n",
       "    </tr>\n",
       "    <tr>\n",
       "      <th>Basic (in usd per share)</th>\n",
       "      <td>us-gaap_EarningsPerShareBasic</td>\n",
       "      <td>1.010000e+00</td>\n",
       "    </tr>\n",
       "    <tr>\n",
       "      <th>Diluted (in shares)</th>\n",
       "      <td>us-gaap_WeightedAverageNumberOfDilutedSharesOutstanding</td>\n",
       "      <td>1.637000e+09</td>\n",
       "    </tr>\n",
       "    <tr>\n",
       "      <th>Diluted (in usd per share)</th>\n",
       "      <td>us-gaap_EarningsPerShareDiluted</td>\n",
       "      <td>1.000000e+00</td>\n",
       "    </tr>\n",
       "  </tbody>\n",
       "</table>\n",
       "</div>"
      ],
      "text/plain": [
       "                                                                                                                                                                  concept  Dec 28, 2024\n",
       "Amortization of acquisition-related intangibles_Opex                                                                 amd_AmortizationOfAcquisitionRelatedIntangibles_Opex  1.448000e+09\n",
       "Cost of Revenue                                                                                                                        us-gaap_CostOfGoodsAndServicesSold -1.306000e+10\n",
       "Cost of sales                                                                                  us-gaap_CostOfGoodsAndServiceExcludingDepreciationDepletionAndAmortization  1.211400e+10\n",
       "Cost, Depreciation, Amortization and Depletion                                                                           us-gaap_CostDepreciationAmortizationAndDepletion  9.460000e+08\n",
       "Equity income in investee                                                                                                   us-gaap_IncomeLossFromEquityMethodInvestments  3.300000e+07\n",
       "Gross Profit                                                                                                                                          us-gaap_GrossProfit  1.272500e+10\n",
       "Income before income taxes and equity income          us-gaap_IncomeLossFromContinuingOperationsBeforeIncomeTaxesMinorityInterestAndIncomeLossFromEquityMethodInvestments  1.989000e+09\n",
       "Income tax provision (benefit)                                                                                                            us-gaap_IncomeTaxExpenseBenefit  3.810000e+08\n",
       "Interest Expense                                                                                                                                  us-gaap_InterestExpense -9.200000e+07\n",
       "Licensing gain                                                                                                                           amd_GainLossOnLicensingAgreement  4.800000e+07\n",
       "Marketing, general and administrative                                                                                      us-gaap_SellingGeneralAndAdministrativeExpense -2.783000e+09\n",
       "Net Income                                                                                                                                          us-gaap_NetIncomeLoss  1.641000e+09\n",
       "Operating Income                                                                                                                              us-gaap_OperatingIncomeLoss  1.900000e+09\n",
       "Other income (expense), net                                                                                                        us-gaap_OtherNonoperatingIncomeExpense  1.810000e+08\n",
       "Research and development                                                                                                            us-gaap_ResearchAndDevelopmentExpense -6.456000e+09\n",
       "Restructuring charges                                                                                                                        us-gaap_RestructuringCharges -1.860000e+08\n",
       "Revenue                                                                                                       us-gaap_RevenueFromContractWithCustomerExcludingAssessedTax  2.578500e+10\n",
       "  Basic (in shares)                                                                                                 us-gaap_WeightedAverageNumberOfSharesOutstandingBasic  1.620000e+09\n",
       "  Basic (in usd per share)                                                                                                                  us-gaap_EarningsPerShareBasic  1.010000e+00\n",
       "  Diluted (in shares)                                                                                             us-gaap_WeightedAverageNumberOfDilutedSharesOutstanding  1.637000e+09\n",
       "  Diluted (in usd per share)                                                                                                              us-gaap_EarningsPerShareDiluted  1.000000e+00"
      ]
     },
     "execution_count": 17,
     "metadata": {},
     "output_type": "execute_result"
    }
   ],
   "source": [
    "df = stitched_statements[\"IncomeStatement\"].to_dataframe()\n",
    "df\n",
    "# df[df['concept'].str.contains('Revenue')]"
   ]
  },
  {
   "cell_type": "code",
   "execution_count": 20,
   "metadata": {},
   "outputs": [
    {
     "name": "stdout",
     "output_type": "stream",
     "text": [
      "\n",
      "=====\n",
      "1 22nd Century Group, Inc. ['XXII']\n",
      "                                                                   concept  Dec 31, 2024\n",
      "Revenues, net  us-gaap_RevenueFromContractWithCustomerIncludingAssessedTax    24382000.0\n",
      "\n",
      "=====\n",
      "2 ABEONA THERAPEUTICS INC. ['ABEO']\n",
      "                                                 concept Dec 31, 2024\n",
      "Revenue  us-gaap_RevenueFromContractWithCustomerAbstract             \n",
      "\n",
      "=====\n",
      "3 AMERICAN EAGLE OUTFITTERS INC ['AEO']\n",
      "                                                             concept   Feb 1, 2025\n",
      "Revenue  us-gaap_RevenueFromContractWithCustomerExcludingAssessedTax  5.328652e+09\n",
      "\n",
      "=====\n",
      "4 AMERICAN REALTY INVESTORS INC ['ARL']\n",
      "                          concept  Dec 31, 2024\n",
      "Revenue  us-gaap_RevenuesAbstract    47318000.0\n",
      "\n",
      "=====\n",
      "5 AMG Comvest Senior Lending Fund []\n",
      "Empty DataFrame\n",
      "Columns: [concept, Dec 31, 2024]\n",
      "Index: []\n",
      "\n",
      "=====\n",
      "6 ARS Pharmaceuticals, Inc. ['SPRY']\n",
      "                          concept  Dec 31, 2024\n",
      "Revenue  us-gaap_RevenuesAbstract    89149000.0\n",
      "\n",
      "=====\n",
      "7 ASSEMBLY BIOSCIENCES, INC. ['ASMB']\n",
      "                                                                                                                     concept  Dec 31, 2024\n",
      "Collaboration revenue ($28,520 and $4,430 from a related party)  us-gaap_RevenueFromContractWithCustomerIncludingAssessedTax    28520000.0\n",
      "\n",
      "=====\n",
      "8 AVALON HOLDINGS CORP ['AWX']\n",
      "                                                             concept  Dec 31, 2024\n",
      "Revenue  us-gaap_RevenueFromContractWithCustomerExcludingAssessedTax    83795000.0\n",
      "\n",
      "=====\n",
      "9 Academy Sports & Outdoors, Inc. ['ASO']\n",
      "                                                             concept   Feb 1, 2025\n",
      "Revenue  us-gaap_RevenueFromContractWithCustomerExcludingAssessedTax  5.933450e+09\n",
      "\n",
      "=====\n",
      "10 Alto Neuroscience, Inc. ['ANRO']\n",
      "Empty DataFrame\n",
      "Columns: [concept, Dec 31, 2024]\n",
      "Index: []\n",
      "\n",
      "=====\n",
      "11 Amprius Technologies, Inc. ['AMPX', 'AMPX-WT']\n",
      "                               concept  Dec 31, 2024\n",
      "Cost of Revenue  us-gaap_CostOfRevenue   -42497000.0\n",
      "Revenue               us-gaap_Revenues    24167000.0\n",
      "\n",
      "=====\n",
      "12 Autolus Therapeutics plc ['AUTL']\n",
      "                  concept  Dec 31, 2024\n",
      "Revenue  us-gaap_Revenues    10120000.0\n",
      "\n",
      "=====\n",
      "13 Avalo Therapeutics, Inc. ['AVTX']\n",
      "                          concept  Dec 31, 2024\n",
      "Revenue  us-gaap_RevenuesAbstract      441000.0\n"
     ]
    },
    {
     "name": "stderr",
     "output_type": "stream",
     "text": [
      "No XBRL documents found in the filing. Filing(form='10-K', filing_date='2025-03-20', company='BANK5 2024-5YR9', cik=2032772, accession_no='0001888524-25-004918')\n"
     ]
    },
    {
     "name": "stdout",
     "output_type": "stream",
     "text": [
      "\n",
      "=====\n",
      "16 BTCS Inc. ['BTCS']\n"
     ]
    },
    {
     "ename": "AttributeError",
     "evalue": "Can only use .str accessor with string values!",
     "output_type": "error",
     "traceback": [
      "\u001b[31m---------------------------------------------------------------------------\u001b[39m",
      "\u001b[31mAttributeError\u001b[39m                            Traceback (most recent call last)",
      "\u001b[36mCell\u001b[39m\u001b[36m \u001b[39m\u001b[32mIn[20]\u001b[39m\u001b[32m, line 15\u001b[39m\n\u001b[32m     13\u001b[39m     \u001b[38;5;28;01mcontinue\u001b[39;00m\n\u001b[32m     14\u001b[39m \u001b[38;5;28mprint\u001b[39m(\u001b[33mf\u001b[39m\u001b[33m\"\u001b[39m\u001b[38;5;130;01m\\n\u001b[39;00m\u001b[33m=====\u001b[39m\u001b[38;5;130;01m\\n\u001b[39;00m\u001b[38;5;132;01m{\u001b[39;00mi+\u001b[32m1\u001b[39m\u001b[38;5;132;01m}\u001b[39;00m\u001b[33m \u001b[39m\u001b[38;5;132;01m{\u001b[39;00mf.company\u001b[38;5;132;01m}\u001b[39;00m\u001b[33m \u001b[39m\u001b[38;5;132;01m{\u001b[39;00mc.tickers\u001b[38;5;132;01m}\u001b[39;00m\u001b[33m\"\u001b[39m)\n\u001b[32m---> \u001b[39m\u001b[32m15\u001b[39m \u001b[38;5;28mprint\u001b[39m(df[\u001b[43mdf\u001b[49m\u001b[43m[\u001b[49m\u001b[33;43m'\u001b[39;49m\u001b[33;43mconcept\u001b[39;49m\u001b[33;43m'\u001b[39;49m\u001b[43m]\u001b[49m\u001b[43m.\u001b[49m\u001b[43mstr\u001b[49m.contains(\u001b[33m\"\u001b[39m\u001b[33mRevenue\u001b[39m\u001b[33m\"\u001b[39m)])\n",
      "\u001b[36mFile \u001b[39m\u001b[32m~/symbology/.venv/lib/python3.13/site-packages/pandas/core/generic.py:6299\u001b[39m, in \u001b[36mNDFrame.__getattr__\u001b[39m\u001b[34m(self, name)\u001b[39m\n\u001b[32m   6292\u001b[39m \u001b[38;5;28;01mif\u001b[39;00m (\n\u001b[32m   6293\u001b[39m     name \u001b[38;5;129;01mnot\u001b[39;00m \u001b[38;5;129;01min\u001b[39;00m \u001b[38;5;28mself\u001b[39m._internal_names_set\n\u001b[32m   6294\u001b[39m     \u001b[38;5;129;01mand\u001b[39;00m name \u001b[38;5;129;01mnot\u001b[39;00m \u001b[38;5;129;01min\u001b[39;00m \u001b[38;5;28mself\u001b[39m._metadata\n\u001b[32m   6295\u001b[39m     \u001b[38;5;129;01mand\u001b[39;00m name \u001b[38;5;129;01mnot\u001b[39;00m \u001b[38;5;129;01min\u001b[39;00m \u001b[38;5;28mself\u001b[39m._accessors\n\u001b[32m   6296\u001b[39m     \u001b[38;5;129;01mand\u001b[39;00m \u001b[38;5;28mself\u001b[39m._info_axis._can_hold_identifiers_and_holds_name(name)\n\u001b[32m   6297\u001b[39m ):\n\u001b[32m   6298\u001b[39m     \u001b[38;5;28;01mreturn\u001b[39;00m \u001b[38;5;28mself\u001b[39m[name]\n\u001b[32m-> \u001b[39m\u001b[32m6299\u001b[39m \u001b[38;5;28;01mreturn\u001b[39;00m \u001b[38;5;28;43mobject\u001b[39;49m\u001b[43m.\u001b[49m\u001b[34;43m__getattribute__\u001b[39;49m\u001b[43m(\u001b[49m\u001b[38;5;28;43mself\u001b[39;49m\u001b[43m,\u001b[49m\u001b[43m \u001b[49m\u001b[43mname\u001b[49m\u001b[43m)\u001b[49m\n",
      "\u001b[36mFile \u001b[39m\u001b[32m~/symbology/.venv/lib/python3.13/site-packages/pandas/core/accessor.py:224\u001b[39m, in \u001b[36mCachedAccessor.__get__\u001b[39m\u001b[34m(self, obj, cls)\u001b[39m\n\u001b[32m    221\u001b[39m \u001b[38;5;28;01mif\u001b[39;00m obj \u001b[38;5;129;01mis\u001b[39;00m \u001b[38;5;28;01mNone\u001b[39;00m:\n\u001b[32m    222\u001b[39m     \u001b[38;5;66;03m# we're accessing the attribute of the class, i.e., Dataset.geo\u001b[39;00m\n\u001b[32m    223\u001b[39m     \u001b[38;5;28;01mreturn\u001b[39;00m \u001b[38;5;28mself\u001b[39m._accessor\n\u001b[32m--> \u001b[39m\u001b[32m224\u001b[39m accessor_obj = \u001b[38;5;28;43mself\u001b[39;49m\u001b[43m.\u001b[49m\u001b[43m_accessor\u001b[49m\u001b[43m(\u001b[49m\u001b[43mobj\u001b[49m\u001b[43m)\u001b[49m\n\u001b[32m    225\u001b[39m \u001b[38;5;66;03m# Replace the property with the accessor object. Inspired by:\u001b[39;00m\n\u001b[32m    226\u001b[39m \u001b[38;5;66;03m# https://www.pydanny.com/cached-property.html\u001b[39;00m\n\u001b[32m    227\u001b[39m \u001b[38;5;66;03m# We need to use object.__setattr__ because we overwrite __setattr__ on\u001b[39;00m\n\u001b[32m    228\u001b[39m \u001b[38;5;66;03m# NDFrame\u001b[39;00m\n\u001b[32m    229\u001b[39m \u001b[38;5;28mobject\u001b[39m.\u001b[34m__setattr__\u001b[39m(obj, \u001b[38;5;28mself\u001b[39m._name, accessor_obj)\n",
      "\u001b[36mFile \u001b[39m\u001b[32m~/symbology/.venv/lib/python3.13/site-packages/pandas/core/strings/accessor.py:191\u001b[39m, in \u001b[36mStringMethods.__init__\u001b[39m\u001b[34m(self, data)\u001b[39m\n\u001b[32m    188\u001b[39m \u001b[38;5;28;01mdef\u001b[39;00m\u001b[38;5;250m \u001b[39m\u001b[34m__init__\u001b[39m(\u001b[38;5;28mself\u001b[39m, data) -> \u001b[38;5;28;01mNone\u001b[39;00m:\n\u001b[32m    189\u001b[39m     \u001b[38;5;28;01mfrom\u001b[39;00m\u001b[38;5;250m \u001b[39m\u001b[34;01mpandas\u001b[39;00m\u001b[34;01m.\u001b[39;00m\u001b[34;01mcore\u001b[39;00m\u001b[34;01m.\u001b[39;00m\u001b[34;01marrays\u001b[39;00m\u001b[34;01m.\u001b[39;00m\u001b[34;01mstring_\u001b[39;00m\u001b[38;5;250m \u001b[39m\u001b[38;5;28;01mimport\u001b[39;00m StringDtype\n\u001b[32m--> \u001b[39m\u001b[32m191\u001b[39m     \u001b[38;5;28mself\u001b[39m._inferred_dtype = \u001b[38;5;28;43mself\u001b[39;49m\u001b[43m.\u001b[49m\u001b[43m_validate\u001b[49m\u001b[43m(\u001b[49m\u001b[43mdata\u001b[49m\u001b[43m)\u001b[49m\n\u001b[32m    192\u001b[39m     \u001b[38;5;28mself\u001b[39m._is_categorical = \u001b[38;5;28misinstance\u001b[39m(data.dtype, CategoricalDtype)\n\u001b[32m    193\u001b[39m     \u001b[38;5;28mself\u001b[39m._is_string = \u001b[38;5;28misinstance\u001b[39m(data.dtype, StringDtype)\n",
      "\u001b[36mFile \u001b[39m\u001b[32m~/symbology/.venv/lib/python3.13/site-packages/pandas/core/strings/accessor.py:245\u001b[39m, in \u001b[36mStringMethods._validate\u001b[39m\u001b[34m(data)\u001b[39m\n\u001b[32m    242\u001b[39m inferred_dtype = lib.infer_dtype(values, skipna=\u001b[38;5;28;01mTrue\u001b[39;00m)\n\u001b[32m    244\u001b[39m \u001b[38;5;28;01mif\u001b[39;00m inferred_dtype \u001b[38;5;129;01mnot\u001b[39;00m \u001b[38;5;129;01min\u001b[39;00m allowed_types:\n\u001b[32m--> \u001b[39m\u001b[32m245\u001b[39m     \u001b[38;5;28;01mraise\u001b[39;00m \u001b[38;5;167;01mAttributeError\u001b[39;00m(\u001b[33m\"\u001b[39m\u001b[33mCan only use .str accessor with string values!\u001b[39m\u001b[33m\"\u001b[39m)\n\u001b[32m    246\u001b[39m \u001b[38;5;28;01mreturn\u001b[39;00m inferred_dtype\n",
      "\u001b[31mAttributeError\u001b[39m: Can only use .str accessor with string values!"
     ]
    }
   ],
   "source": [
    "\n",
    "filings = ed.get_filings(form=\"10-K\").latest(50)\n",
    "for i, filing in enumerate(filings):\n",
    "    c = ed.Company(filing.cik)\n",
    "    f = filing.obj()\n",
    "    if c == None or f == None or f.financials == None:\n",
    "        continue\n",
    "    try:\n",
    "        xblr = XBRLS.from_filings([filing])\n",
    "        statements = xblr.statements\n",
    "        income = statements.income_statement(standardize=True)\n",
    "        df = income.to_dataframe()\n",
    "    except:\n",
    "        continue\n",
    "    print(f\"\\n=====\\n{i+1} {f.company} {c.tickers}\")\n",
    "    print(df[df['concept'].str.contains(\"Revenue\")])"
   ]
  }
 ],
 "metadata": {
  "kernelspec": {
   "display_name": ".venv",
   "language": "python",
   "name": "python3"
  },
  "language_info": {
   "codemirror_mode": {
    "name": "ipython",
    "version": 3
   },
   "file_extension": ".py",
   "mimetype": "text/x-python",
   "name": "python",
   "nbconvert_exporter": "python",
   "pygments_lexer": "ipython3",
   "version": "3.13.2"
  }
 },
 "nbformat": 4,
 "nbformat_minor": 2
}
