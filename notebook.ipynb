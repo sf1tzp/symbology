{
 "cells": [
  {
   "cell_type": "code",
   "execution_count": 1,
   "id": "11075530",
   "metadata": {},
   "outputs": [
    {
     "name": "stderr",
     "output_type": "stream",
     "text": [
      "2025-06-28T22:42:07.227415Z [info     ] database_initialized           status=success\n",
      "HTTP Request: GET http://10.0.0.4:11434/api/ps \"HTTP/1.1 200 OK\"\n",
      "2025-06-28T22:42:07.241334Z [info     ] ollama_initialzied             status=success\n",
      "HTTP Request: GET http://10.0.0.4:11434/api/ps \"HTTP/1.1 200 OK\"\n",
      "2025-06-28T22:42:07.241334Z [info     ] ollama_initialzied             status=success\n"
     ]
    }
   ],
   "source": [
    "import os\n",
    "import json\n",
    "\n",
    "from src.database.base import init_db\n",
    "from src.database.companies import get_company_by_ticker\n",
    "from src.database.filings import get_filings_by_company\n",
    "from src.database.documents import get_documents_by_filing, DocumentType\n",
    "from src.database.aggregates import create_aggregate\n",
    "\n",
    "from src.database.prompts import get_prompt_by_name\n",
    "from src.database.completions import create_completion, get_completion_ids\n",
    "from src.database.aggregates import create_aggregate\n",
    "\n",
    "from src.llm.prompts import format_document_messages, format_aggregate_messages, PromptRole\n",
    "from src.llm.client import init_client, get_chat_response\n",
    "from src.llm.models import MODEL_CONFIG\n",
    "\n",
    "from src.utils.config import settings\n",
    "from src.utils.logging import configure_logging, get_logger\n",
    "\n",
    "configure_logging()\n",
    "logger = get_logger(name=\"notebook\")\n",
    "_, _ = init_db(settings.database.url)\n",
    "\n",
    "client = init_client(settings.openai_api.url)\n",
    "_ = client.ps()\n",
    "logger.info(\"ollama_initialzied\", status=\"success\")"
   ]
  },
  {
   "cell_type": "code",
   "execution_count": 2,
   "id": "86a46c8c",
   "metadata": {},
   "outputs": [],
   "source": [
    "TICKER = \"MSFT\"\n",
    "DOC_MODEL = \"qwen3:4b\" # smaller model w/ larger context\n",
    "AGGRAGATE_MODEL = \"qwen3:14b\"\n",
    "SUMMARY_MODEL = \"qwen3:14b\""
   ]
  },
  {
   "cell_type": "code",
   "execution_count": 3,
   "id": "d4ba511e",
   "metadata": {},
   "outputs": [
    {
     "name": "stderr",
     "output_type": "stream",
     "text": [
      "2025-06-28T21:56:47.486041Z [info     ] retrieved_company_by_ticker    company_id=0685e2b2-ba5f-73a8-8000-6d5063ab6d43 ticker=MSFT\n",
      "2025-06-28T21:56:47.487881Z [info     ] retrieved_filings_by_company   company_id=0685e2b2-ba5f-73a8-8000-6d5063ab6d43 count=4\n",
      "2025-06-28T21:56:47.490053Z [info     ] retrieved_documents_by_filing  count=3 filing_id=0685e2b4-2e1d-7993-8000-1ba4dd3c05d1\n",
      "2025-06-28T21:56:47.491769Z [info     ] retrieved_documents_by_filing  count=3 filing_id=0685e2b5-7502-720a-8000-7206aae86d0c\n",
      "2025-06-28T21:56:47.493153Z [info     ] retrieved_documents_by_filing  count=3 filing_id=0685e2b5-ff23-739b-8000-30f51ca878b7\n",
      "2025-06-28T21:56:47.494687Z [info     ] retrieved_documents_by_filing  count=3 filing_id=0685e2b4-ce4b-7c6e-8000-b95ed376b305\n",
      "2025-06-28T21:56:47.487881Z [info     ] retrieved_filings_by_company   company_id=0685e2b2-ba5f-73a8-8000-6d5063ab6d43 count=4\n",
      "2025-06-28T21:56:47.490053Z [info     ] retrieved_documents_by_filing  count=3 filing_id=0685e2b4-2e1d-7993-8000-1ba4dd3c05d1\n",
      "2025-06-28T21:56:47.491769Z [info     ] retrieved_documents_by_filing  count=3 filing_id=0685e2b5-7502-720a-8000-7206aae86d0c\n",
      "2025-06-28T21:56:47.493153Z [info     ] retrieved_documents_by_filing  count=3 filing_id=0685e2b5-ff23-739b-8000-30f51ca878b7\n",
      "2025-06-28T21:56:47.494687Z [info     ] retrieved_documents_by_filing  count=3 filing_id=0685e2b4-ce4b-7c6e-8000-b95ed376b305\n"
     ]
    }
   ],
   "source": [
    "company = get_company_by_ticker(TICKER)\n",
    "filings = get_filings_by_company(company_id=company.id)\n",
    "for filing in filings:\n",
    "    documents = get_documents_by_filing(filing.id)\n",
    "    for document in documents:\n",
    "        pass"
   ]
  },
  {
   "cell_type": "code",
   "execution_count": 4,
   "id": "0d9e2d64",
   "metadata": {},
   "outputs": [
    {
     "name": "stderr",
     "output_type": "stream",
     "text": [
      "2025-06-28T21:56:47.502845Z [info     ] retrieved_documents_by_filing  count=3 filing_id=0685e2b4-2e1d-7993-8000-1ba4dd3c05d1\n",
      "2025-06-28T21:56:47.503572Z [info     ] Starting Chat for MSFT 2021-07-29 business_description\n",
      "2025-06-28T21:56:47.503572Z [info     ] Starting Chat for MSFT 2021-07-29 business_description\n",
      "HTTP Request: POST http://10.0.0.4:11434/api/chat \"HTTP/1.1 200 OK\"\n",
      "2025-06-28T21:58:12.843576Z [info     ] retrieved_prompt_by_name       name=business_description prompt_id=06860055-5fa7-7c96-8000-8afefd533328\n",
      "HTTP Request: POST http://10.0.0.4:11434/api/chat \"HTTP/1.1 200 OK\"\n",
      "2025-06-28T21:58:12.843576Z [info     ] retrieved_prompt_by_name       name=business_description prompt_id=06860055-5fa7-7c96-8000-8afefd533328\n",
      "2025-06-28T21:58:12.852740Z [info     ] created_completion             completion_id=06860657-4d94-76fe-8000-4afc2cb4c284 model=qwen3:4b\n",
      "2025-06-28T21:58:12.854087Z [info     ] created_completion             document=MICROSOFT CORP 10-K 2021-07-29 - Business Description id=UUID('06860657-4d94-76fe-8000-4afc2cb4c284') length=8625 time=85.0\n",
      "2025-06-28T21:58:12.858243Z [info     ] Starting Chat for MSFT 2021-07-29 risk_factors\n",
      "2025-06-28T21:58:12.852740Z [info     ] created_completion             completion_id=06860657-4d94-76fe-8000-4afc2cb4c284 model=qwen3:4b\n",
      "2025-06-28T21:58:12.854087Z [info     ] created_completion             document=MICROSOFT CORP 10-K 2021-07-29 - Business Description id=UUID('06860657-4d94-76fe-8000-4afc2cb4c284') length=8625 time=85.0\n",
      "2025-06-28T21:58:12.858243Z [info     ] Starting Chat for MSFT 2021-07-29 risk_factors\n",
      "HTTP Request: POST http://10.0.0.4:11434/api/chat \"HTTP/1.1 200 OK\"\n",
      "2025-06-28T21:59:12.257088Z [info     ] retrieved_prompt_by_name       name=risk_factors prompt_id=06860055-5f8d-73c6-8000-acf740a64053\n",
      "2025-06-28T21:59:12.265767Z [info     ] created_completion             completion_id=0686065b-0423-7269-8000-d451763e482a model=qwen3:4b\n",
      "2025-06-28T21:59:12.266682Z [info     ] created_completion             document=MICROSOFT CORP 10-K 2021-07-29 - Risk Factors id=UUID('0686065b-0423-7269-8000-d451763e482a') length=7113 time=59.0\n",
      "2025-06-28T21:59:12.267813Z [info     ] Starting Chat for MSFT 2021-07-29 management_discussion\n",
      "HTTP Request: POST http://10.0.0.4:11434/api/chat \"HTTP/1.1 200 OK\"\n",
      "2025-06-28T22:00:21.716497Z [info     ] retrieved_prompt_by_name       name=management_discussion prompt_id=06860055-5f9e-750c-8000-e57ce7b47741\n",
      "2025-06-28T22:00:21.720361Z [info     ] created_completion             completion_id=0686065f-5b7d-7172-8000-a33d7da9a437 model=qwen3:4b\n",
      "2025-06-28T22:00:21.721190Z [info     ] created_completion             document=MICROSOFT CORP 10-K 2021-07-29 - Management Discussion id=UUID('0686065f-5b7d-7172-8000-a33d7da9a437') length=8752 time=69.0\n",
      "2025-06-28T22:00:21.723090Z [info     ] retrieved_documents_by_filing  count=3 filing_id=0685e2b5-7502-720a-8000-7206aae86d0c\n",
      "2025-06-28T22:00:21.723373Z [info     ] Starting Chat for MSFT 2023-07-27 business_description\n",
      "HTTP Request: POST http://10.0.0.4:11434/api/chat \"HTTP/1.1 200 OK\"\n",
      "2025-06-28T22:01:24.696333Z [info     ] retrieved_prompt_by_name       name=business_description prompt_id=06860055-5fa7-7c96-8000-8afefd533328\n",
      "2025-06-28T22:01:24.700469Z [info     ] created_completion             completion_id=06860663-4b2a-7fca-8000-c84eeae05bf5 model=qwen3:4b\n",
      "2025-06-28T22:01:24.701437Z [info     ] created_completion             document=MICROSOFT CORP 10-K 2023-07-27 - Business Description id=UUID('06860663-4b2a-7fca-8000-c84eeae05bf5') length=6124 time=63.0\n",
      "2025-06-28T22:01:24.702962Z [info     ] Starting Chat for MSFT 2023-07-27 risk_factors\n",
      "HTTP Request: POST http://10.0.0.4:11434/api/chat \"HTTP/1.1 200 OK\"\n",
      "2025-06-28T22:02:22.186311Z [info     ] retrieved_prompt_by_name       name=risk_factors prompt_id=06860055-5f8d-73c6-8000-acf740a64053\n",
      "2025-06-28T22:02:22.194893Z [info     ] created_completion             completion_id=06860666-e302-70a4-8000-69c72653a2f3 model=qwen3:4b\n",
      "2025-06-28T22:02:22.195790Z [info     ] created_completion             document=MICROSOFT CORP 10-K 2023-07-27 - Risk Factors id=UUID('06860666-e302-70a4-8000-69c72653a2f3') length=7008 time=57.0\n",
      "2025-06-28T22:02:22.196957Z [info     ] Starting Chat for MSFT 2023-07-27 management_discussion\n",
      "HTTP Request: POST http://10.0.0.4:11434/api/chat \"HTTP/1.1 200 OK\"\n",
      "2025-06-28T22:03:29.693310Z [info     ] retrieved_prompt_by_name       name=management_discussion prompt_id=06860055-5f9e-750c-8000-e57ce7b47741\n",
      "2025-06-28T22:03:29.702152Z [info     ] created_completion             completion_id=0686066b-1b1e-74c5-8000-32b8be9ac558 model=qwen3:4b\n",
      "2025-06-28T22:03:29.703168Z [info     ] created_completion             document=MICROSOFT CORP 10-K 2023-07-27 - Management Discussion id=UUID('0686066b-1b1e-74c5-8000-32b8be9ac558') length=8478 time=67.0\n",
      "2025-06-28T22:03:29.705125Z [info     ] retrieved_documents_by_filing  count=3 filing_id=0685e2b5-ff23-739b-8000-30f51ca878b7\n",
      "2025-06-28T22:03:29.705433Z [info     ] Starting Chat for MSFT 2024-07-30 business_description\n",
      "HTTP Request: POST http://10.0.0.4:11434/api/chat \"HTTP/1.1 200 OK\"\n",
      "2025-06-28T22:04:34.358412Z [info     ] retrieved_prompt_by_name       name=business_description prompt_id=06860055-5fa7-7c96-8000-8afefd533328\n",
      "2025-06-28T22:04:34.366858Z [info     ] created_completion             completion_id=0686066f-25c1-7fb0-8000-a4010291a31b model=qwen3:4b\n",
      "2025-06-28T22:04:34.367710Z [info     ] created_completion             document=MICROSOFT CORP 10-K 2024-07-30 - Business Description id=UUID('0686066f-25c1-7fb0-8000-a4010291a31b') length=7160 time=65.0\n",
      "2025-06-28T22:04:34.368924Z [info     ] Starting Chat for MSFT 2024-07-30 risk_factors\n",
      "HTTP Request: POST http://10.0.0.4:11434/api/chat \"HTTP/1.1 200 OK\"\n",
      "2025-06-28T22:05:33.086219Z [info     ] retrieved_prompt_by_name       name=risk_factors prompt_id=06860055-5f8d-73c6-8000-acf740a64053\n",
      "2025-06-28T22:05:33.094569Z [info     ] created_completion             completion_id=06860672-d166-7993-8000-d7a9f1767b7c model=qwen3:4b\n",
      "2025-06-28T22:05:33.095406Z [info     ] created_completion             document=MICROSOFT CORP 10-K 2024-07-30 - Risk Factors id=UUID('06860672-d166-7993-8000-d7a9f1767b7c') length=6487 time=59.0\n",
      "2025-06-28T22:05:33.096622Z [info     ] Starting Chat for MSFT 2024-07-30 management_discussion\n",
      "HTTP Request: POST http://10.0.0.4:11434/api/chat \"HTTP/1.1 200 OK\"\n",
      "2025-06-28T22:06:39.206592Z [info     ] retrieved_prompt_by_name       name=management_discussion prompt_id=06860055-5f9e-750c-8000-e57ce7b47741\n",
      "2025-06-28T22:06:39.212266Z [info     ] created_completion             completion_id=06860676-f35a-739c-8000-78e1b491bd4a model=qwen3:4b\n",
      "2025-06-28T22:06:39.213864Z [info     ] created_completion             document=MICROSOFT CORP 10-K 2024-07-30 - Management Discussion id=UUID('06860676-f35a-739c-8000-78e1b491bd4a') length=8634 time=66.0\n",
      "2025-06-28T22:06:39.216230Z [info     ] retrieved_documents_by_filing  count=3 filing_id=0685e2b4-ce4b-7c6e-8000-b95ed376b305\n",
      "2025-06-28T22:06:39.217055Z [info     ] Starting Chat for MSFT 2022-07-28 business_description\n",
      "HTTP Request: POST http://10.0.0.4:11434/api/chat \"HTTP/1.1 200 OK\"\n",
      "2025-06-28T22:07:59.214185Z [info     ] retrieved_prompt_by_name       name=business_description prompt_id=06860055-5fa7-7c96-8000-8afefd533328\n",
      "2025-06-28T22:07:59.218477Z [info     ] created_completion             completion_id=0686067b-f373-7820-8000-c7cde901f0f9 model=qwen3:4b\n",
      "2025-06-28T22:07:59.219638Z [info     ] created_completion             document=MICROSOFT CORP 10-K 2022-07-28 - Business Description id=UUID('0686067b-f373-7820-8000-c7cde901f0f9') length=7663 time=80.0\n",
      "2025-06-28T22:07:59.220827Z [info     ] Starting Chat for MSFT 2022-07-28 risk_factors\n",
      "HTTP Request: POST http://10.0.0.4:11434/api/chat \"HTTP/1.1 200 OK\"\n",
      "2025-06-28T22:08:52.989108Z [info     ] retrieved_prompt_by_name       name=risk_factors prompt_id=06860055-5f8d-73c6-8000-acf740a64053\n",
      "2025-06-28T22:08:52.998507Z [info     ] created_completion             completion_id=0686067f-4fd9-7c2e-8000-f6c254ac499a model=qwen3:4b\n",
      "2025-06-28T22:08:52.999407Z [info     ] created_completion             document=MICROSOFT CORP 10-K 2022-07-28 - Risk Factors id=UUID('0686067f-4fd9-7c2e-8000-f6c254ac499a') length=6252 time=54.0\n",
      "2025-06-28T22:08:53.000830Z [info     ] Starting Chat for MSFT 2022-07-28 management_discussion\n",
      "HTTP Request: POST http://10.0.0.4:11434/api/chat \"HTTP/1.1 200 OK\"\n",
      "2025-06-28T22:10:00.700120Z [info     ] retrieved_prompt_by_name       name=management_discussion prompt_id=06860055-5f9e-750c-8000-e57ce7b47741\n",
      "2025-06-28T22:10:00.705594Z [info     ] created_completion             completion_id=06860683-8b39-7b21-8000-377d4c058f17 model=qwen3:4b\n",
      "2025-06-28T22:10:00.706558Z [info     ] created_completion             document=MICROSOFT CORP 10-K 2022-07-28 - Management Discussion id=UUID('06860683-8b39-7b21-8000-377d4c058f17') length=8618 time=68.0\n",
      "2025-06-28T22:10:00.707337Z [info     ] doc_completions_generated.\n"
     ]
    }
   ],
   "source": [
    "descriptions = {}\n",
    "risk_factors = {}\n",
    "mdas = {}\n",
    "\n",
    "# Track completion IDs by document type for aggregation\n",
    "description_completion_ids = []\n",
    "risk_factor_completion_ids = []\n",
    "mda_completion_ids = []\n",
    "\n",
    "for filing in filings:\n",
    "    documents = get_documents_by_filing(filing.id)\n",
    "    for document in documents:\n",
    "\n",
    "        messages = format_document_messages(document)\n",
    "\n",
    "        logger.info(f\"Starting Chat for {TICKER} {filing.filing_date} {document.document_type.value}\")\n",
    "        response = get_chat_response(client, DOC_MODEL, messages)\n",
    "\n",
    "        # Extract necessary details from the response\n",
    "        created_at = response.created_at\n",
    "        total_duration = response.total_duration / 1e9\n",
    "        content = response.message.content\n",
    "        prompt = get_prompt_by_name(document.document_type.value)\n",
    "        completion_data = {\n",
    "            'model': DOC_MODEL,\n",
    "            'document_ids': [document.id],  # Associate with the current document\n",
    "            'system_prompt_id': prompt.id,  # Link to the prompt used\n",
    "            'total_duration': total_duration,\n",
    "            'created_at': created_at,\n",
    "            'num_ctx': MODEL_CONFIG[DOC_MODEL][\"ctx\"],\n",
    "            'content': content,  # Add the actual response content\n",
    "        }\n",
    "        completion = create_completion(completion_data)\n",
    "        logger.info(\"created_completion\", id = completion.id, document = document.document_name, time = completion.total_duration, length = len(completion.content))\n",
    "\n",
    "        # Store results and track completion IDs for aggregation\n",
    "        if document.document_type == DocumentType.DESCRIPTION:\n",
    "            descriptions[f\"{filing.filing_date}\"] = response.message.content\n",
    "            description_completion_ids.append(completion.id)\n",
    "        elif document.document_type == DocumentType.RISK_FACTORS:\n",
    "            risk_factors[f\"{filing.filing_date}\"] = response.message.content\n",
    "            risk_factor_completion_ids.append(completion.id)\n",
    "        elif document.document_type == DocumentType.MDA:\n",
    "            mdas[f\"{filing.filing_date}\"] = response.message.content\n",
    "            mda_completion_ids.append(completion.id)\n",
    "        else:\n",
    "            logger.warning(\"wtf\")\n",
    "\n",
    "\n",
    "\n",
    "logger.info(\"doc_completions_generated.\")\n",
    "\n",
    "os.makedirs(f'outputs/{TICKER}', exist_ok=True)\n",
    "with open(f'outputs/{TICKER}/mdas.json', 'w') as file:\n",
    "    json.dump(mdas, file, indent=4)\n",
    "with open(f'outputs/{TICKER}/risk_factors.json', 'w') as file:\n",
    "    json.dump(risk_factors, file, indent=4)\n",
    "with open(f'outputs/{TICKER}/descriptions.json', 'w') as file:\n",
    "    json.dump(descriptions, file, indent=4)"
   ]
  },
  {
   "cell_type": "code",
   "execution_count": 5,
   "id": "73be6392",
   "metadata": {},
   "outputs": [
    {
     "name": "stderr",
     "output_type": "stream",
     "text": [
      "HTTP Request: POST http://10.0.0.4:11434/api/chat \"HTTP/1.1 200 OK\"\n",
      "2025-06-28T22:11:20.437258Z [info     ] MDA Aggregate Done             time=67.695829903s\n",
      "2025-06-28T22:11:20.438837Z [info     ] retrieved_prompt_by_name       name=aggregate_prompt prompt_id=0686004a-ce9f-7159-8000-2e2abd3dbaa8\n",
      "2025-06-28T22:11:20.437258Z [info     ] MDA Aggregate Done             time=67.695829903s\n",
      "2025-06-28T22:11:20.438837Z [info     ] retrieved_prompt_by_name       name=aggregate_prompt prompt_id=0686004a-ce9f-7159-8000-2e2abd3dbaa8\n",
      "2025-06-28T22:11:20.484865Z [info     ] created_aggregate              aggregate_id=06860688-8712-7c9c-8000-20c9f05dccbd model=qwen3:14b\n",
      "2025-06-28T22:11:20.484865Z [info     ] created_aggregate              aggregate_id=06860688-8712-7c9c-8000-20c9f05dccbd model=qwen3:14b\n"
     ]
    },
    {
     "name": "stdout",
     "output_type": "stream",
     "text": [
      "Created MDA aggregate record with ID: 06860688-8712-7c9c-8000-20c9f05dccbd\n",
      "Associated with 4 source completions\n",
      "Model: qwen3:14b, Duration: 67.70 seconds\n",
      "Content length: 8618 characters\n"
     ]
    }
   ],
   "source": [
    "# Create MDA Aggregate\n",
    "messages = format_aggregate_messages(mdas)\n",
    "AGGresponse = get_chat_response(client, AGGRAGATE_MODEL, messages)\n",
    "logger.info(f\"MDA Aggregate Done\", time=f\"{response.total_duration / 1e9}s\")\n",
    "\n",
    "# Save the aggregate content to file\n",
    "with open(f'outputs/{TICKER}/mda.md', 'w') as file:\n",
    "    file.write(response.message.content)\n",
    "\n",
    "# Create aggregate record in database\n",
    "created_at = response.created_at\n",
    "total_duration = response.total_duration / 1e9\n",
    "content = response.message.content\n",
    "prompt = get_prompt_by_name(\"aggregate_prompt\")\n",
    "\n",
    "mda_aggregate_data = {\n",
    "    'model': AGGRAGATE_MODEL,\n",
    "    'company_id': company.id,\n",
    "    'document_type': DocumentType.MDA,\n",
    "    'system_prompt_id': prompt.id,\n",
    "    'total_duration': total_duration,\n",
    "    'created_at': created_at,\n",
    "    'num_ctx': MODEL_CONFIG[AGGRAGATE_MODEL][\"ctx\"],\n",
    "    'content': content,\n",
    "    'completion_ids': mda_completion_ids  # Associate with source completions\n",
    "}\n",
    "\n",
    "mda_aggregate = create_aggregate(mda_aggregate_data)\n",
    "print(f\"Created MDA aggregate record with ID: {mda_aggregate.id}\")\n",
    "print(f\"Associated with {len(mda_completion_ids)} source completions\")\n",
    "print(f\"Model: {mda_aggregate.model}, Duration: {mda_aggregate.total_duration:.2f} seconds\")\n",
    "print(f\"Content length: {len(mda_aggregate.content)} characters\")\n"
   ]
  },
  {
   "cell_type": "code",
   "execution_count": 6,
   "id": "95e7348e",
   "metadata": {},
   "outputs": [],
   "source": [
    "# mda_aggregate.source_completions\n",
    "# for completion in mda_aggregate.source_completions:\n",
    "#     for document in completion.source_documents:\n",
    "#         print(document.filing.filing_url)"
   ]
  },
  {
   "cell_type": "code",
   "execution_count": 7,
   "id": "6aea39ae",
   "metadata": {},
   "outputs": [
    {
     "name": "stderr",
     "output_type": "stream",
     "text": [
      "HTTP Request: POST http://10.0.0.4:11434/api/chat \"HTTP/1.1 200 OK\"\n",
      "2025-06-28T22:12:13.934058Z [info     ] Risk Factors Aggregate Done    time=53.436591118s\n",
      "2025-06-28T22:12:13.935665Z [info     ] retrieved_prompt_by_name       name=aggregate_prompt prompt_id=0686004a-ce9f-7159-8000-2e2abd3dbaa8\n",
      "2025-06-28T22:12:13.934058Z [info     ] Risk Factors Aggregate Done    time=53.436591118s\n",
      "2025-06-28T22:12:13.935665Z [info     ] retrieved_prompt_by_name       name=aggregate_prompt prompt_id=0686004a-ce9f-7159-8000-2e2abd3dbaa8\n",
      "2025-06-28T22:12:13.945078Z [info     ] created_aggregate              aggregate_id=0686068b-df00-7ff5-8000-facc77dadab1 model=qwen3:14b\n",
      "2025-06-28T22:12:13.945078Z [info     ] created_aggregate              aggregate_id=0686068b-df00-7ff5-8000-facc77dadab1 model=qwen3:14b\n"
     ]
    },
    {
     "name": "stdout",
     "output_type": "stream",
     "text": [
      "Created Risk Factors aggregate record with ID: 0686068b-df00-7ff5-8000-facc77dadab1\n",
      "Associated with 4 source completions\n",
      "Model: qwen3:14b, Duration: 53.44 seconds\n",
      "Content length: 5106 characters\n"
     ]
    }
   ],
   "source": [
    "# Create Risk Factors Aggregate\n",
    "messages = format_aggregate_messages(risk_factors)\n",
    "response = get_chat_response(client, AGGRAGATE_MODEL, messages)\n",
    "logger.info(f\"Risk Factors Aggregate Done\", time=f\"{response.total_duration / 1e9}s\")\n",
    "\n",
    "# Save the aggregate content to file\n",
    "with open(f'outputs/{TICKER}/risk_factors.md', 'w') as file:\n",
    "    file.write(response.message.content)\n",
    "\n",
    "# Create aggregate record in database\n",
    "created_at = response.created_at\n",
    "total_duration = response.total_duration / 1e9\n",
    "content = response.message.content\n",
    "prompt = get_prompt_by_name(\"aggregate_prompt\")\n",
    "\n",
    "risk_aggregate_data = {\n",
    "    'model': AGGRAGATE_MODEL,\n",
    "    'company_id': company.id,\n",
    "    'document_type': DocumentType.RISK_FACTORS,\n",
    "    'system_prompt_id': prompt.id,\n",
    "    'total_duration': total_duration,\n",
    "    'created_at': created_at,\n",
    "    'num_ctx': MODEL_CONFIG[AGGRAGATE_MODEL][\"ctx\"],\n",
    "    'content': content,\n",
    "    'completion_ids': risk_factor_completion_ids  # Associate with source completions\n",
    "}\n",
    "\n",
    "risk_aggregate = create_aggregate(risk_aggregate_data)\n",
    "print(f\"Created Risk Factors aggregate record with ID: {risk_aggregate.id}\")\n",
    "print(f\"Associated with {len(risk_factor_completion_ids)} source completions\")\n",
    "print(f\"Model: {risk_aggregate.model}, Duration: {risk_aggregate.total_duration:.2f} seconds\")\n",
    "print(f\"Content length: {len(risk_aggregate.content)} characters\")\n"
   ]
  },
  {
   "cell_type": "code",
   "execution_count": 8,
   "id": "546f4a94",
   "metadata": {},
   "outputs": [
    {
     "name": "stderr",
     "output_type": "stream",
     "text": [
      "HTTP Request: POST http://10.0.0.4:11434/api/chat \"HTTP/1.1 200 OK\"\n",
      "2025-06-28T22:13:38.056463Z [info     ] Descriptions Aggregate Done    time=84.104125119s\n",
      "2025-06-28T22:13:38.058084Z [info     ] retrieved_prompt_by_name       name=aggregate_prompt prompt_id=0686004a-ce9f-7159-8000-2e2abd3dbaa8\n",
      "2025-06-28T22:13:38.056463Z [info     ] Descriptions Aggregate Done    time=84.104125119s\n",
      "2025-06-28T22:13:38.058084Z [info     ] retrieved_prompt_by_name       name=aggregate_prompt prompt_id=0686004a-ce9f-7159-8000-2e2abd3dbaa8\n",
      "2025-06-28T22:13:38.067217Z [info     ] created_aggregate              aggregate_id=06860691-20f5-7a0a-8000-99c9accca3d2 model=qwen3:14b\n",
      "2025-06-28T22:13:38.067217Z [info     ] created_aggregate              aggregate_id=06860691-20f5-7a0a-8000-99c9accca3d2 model=qwen3:14b\n"
     ]
    },
    {
     "name": "stdout",
     "output_type": "stream",
     "text": [
      "Created Business Description aggregate record with ID: 06860691-20f5-7a0a-8000-99c9accca3d2\n",
      "Associated with 4 source completions\n",
      "Model: qwen3:14b, Duration: 84.10 seconds\n",
      "Content length: 8430 characters\n"
     ]
    }
   ],
   "source": [
    "# # Create Descriptions Aggregate\n",
    "messages = format_aggregate_messages(descriptions)\n",
    "response = get_chat_response(client, AGGRAGATE_MODEL, messages)\n",
    "logger.info(f\"Descriptions Aggregate Done\", time=f\"{response.total_duration / 1e9}s\")\n",
    "\n",
    "# Save the aggregate content to file\n",
    "with open(f'outputs/{TICKER}/descriptions.md', 'w') as file:\n",
    "    file.write(response.message.content)\n",
    "\n",
    "# Create aggregate record in database\n",
    "created_at = response.created_at\n",
    "total_duration = response.total_duration / 1e9\n",
    "content = response.message.content\n",
    "prompt = get_prompt_by_name(\"aggregate_prompt\")\n",
    "\n",
    "desc_aggregate_data = {\n",
    "    'model': AGGRAGATE_MODEL,\n",
    "    'company_id': company.id,\n",
    "    'document_type': DocumentType.DESCRIPTION,\n",
    "    'system_prompt_id': prompt.id,\n",
    "    'total_duration': total_duration,\n",
    "    'created_at': created_at,\n",
    "    'num_ctx': MODEL_CONFIG[AGGRAGATE_MODEL][\"ctx\"],\n",
    "    'content': content,\n",
    "    'completion_ids': description_completion_ids  # Associate with source completions\n",
    "}\n",
    "\n",
    "desc_aggregate = create_aggregate(desc_aggregate_data)\n",
    "print(f\"Created Business Description aggregate record with ID: {desc_aggregate.id}\")\n",
    "print(f\"Associated with {len(description_completion_ids)} source completions\")\n",
    "print(f\"Model: {desc_aggregate.model}, Duration: {desc_aggregate.total_duration:.2f} seconds\")\n",
    "print(f\"Content length: {len(desc_aggregate.content)} characters\")\n"
   ]
  },
  {
   "cell_type": "markdown",
   "id": "fa316d5b",
   "metadata": {},
   "source": [
    "## Generate Company Summary\n",
    "\n",
    "Now let's use the recent aggregates to generate a summary and save it to the company's summary column."
   ]
  },
  {
   "cell_type": "code",
   "execution_count": 4,
   "id": "547d7912",
   "metadata": {},
   "outputs": [
    {
     "name": "stderr",
     "output_type": "stream",
     "text": [
      "2025-06-28T22:42:37.338539Z [info     ] retrieved_company_by_ticker    company_id=0685e2b2-ba5f-73a8-8000-6d5063ab6d43 ticker=MSFT\n",
      "2025-06-28T22:42:37.339516Z [info     ] retrieved_company_by_ticker    company_id=0685e2b2-ba5f-73a8-8000-6d5063ab6d43 ticker=MSFT\n",
      "2025-06-28T22:42:37.342880Z [info     ] retrieved_recent_aggregates_by_company company_id=0685e2b2-ba5f-73a8-8000-6d5063ab6d43 count=3 document_types=['management_discussion', 'risk_factors', 'business_description']\n",
      "2025-06-28T22:42:37.343202Z [info     ] Found 3 recent aggregates for MSFT\n",
      "2025-06-28T22:42:37.343681Z [info     ] Aggregate types available: ['management_discussion', 'risk_factors', 'business_description']\n",
      "2025-06-28T22:42:37.339516Z [info     ] retrieved_company_by_ticker    company_id=0685e2b2-ba5f-73a8-8000-6d5063ab6d43 ticker=MSFT\n",
      "2025-06-28T22:42:37.342880Z [info     ] retrieved_recent_aggregates_by_company company_id=0685e2b2-ba5f-73a8-8000-6d5063ab6d43 count=3 document_types=['management_discussion', 'risk_factors', 'business_description']\n",
      "2025-06-28T22:42:37.343202Z [info     ] Found 3 recent aggregates for MSFT\n",
      "2025-06-28T22:42:37.343681Z [info     ] Aggregate types available: ['management_discussion', 'risk_factors', 'business_description']\n"
     ]
    }
   ],
   "source": [
    "from src.database.aggregates import get_recent_aggregates_by_ticker\n",
    "from src.database.companies import update_company\n",
    "from src.llm.prompts import AGGREGATE_SUMMARY_PROMPT\n",
    "\n",
    "TICKER=\"MSFT\"\n",
    "company = get_company_by_ticker(TICKER)\n",
    "\n",
    "# Get the most recent aggregates for the ticker\n",
    "recent_aggregates = get_recent_aggregates_by_ticker(TICKER)\n",
    "logger.info(f\"Found {len(recent_aggregates)} recent aggregates for {TICKER}\")\n",
    "\n",
    "# Prepare content for summary generation\n",
    "aggregate_contents = {}\n",
    "for aggregate in recent_aggregates:\n",
    "    doc_type = aggregate.document_type.value if aggregate.document_type else 'unknown'\n",
    "    aggregate_contents[doc_type] = aggregate.content\n",
    "\n",
    "logger.info(f\"Aggregate types available: {list(aggregate_contents.keys())}\")"
   ]
  },
  {
   "cell_type": "code",
   "execution_count": 32,
   "id": "82669ba6",
   "metadata": {},
   "outputs": [
    {
     "name": "stderr",
     "output_type": "stream",
     "text": [
      "2025-06-28T22:30:02.007260Z [info     ] Generating summary for ACHR using 0 aggregate reports\n"
     ]
    }
   ],
   "source": [
    "# Format the aggregates content for the summary prompt\n",
    "formatted_content = \"\"\n",
    "for doc_type, content in aggregate_contents.items():\n",
    "    formatted_content += f\"\\n\\n## {doc_type.upper()} Analysis\\n\\n{content}\"\n",
    "\n",
    "# Create messages for summary generation\n",
    "summary_messages = [{\n",
    "    'role': PromptRole.SYSTEM.value,\n",
    "    'content': AGGREGATE_SUMMARY_PROMPT\n",
    "}, {\n",
    "    'role': PromptRole.USER.value,\n",
    "    'content': formatted_content\n",
    "}]\n",
    "\n",
    "logger.info(f\"Generating summary for {TICKER} using {len(aggregate_contents)} aggregate reports\")"
   ]
  },
  {
   "cell_type": "code",
   "execution_count": 33,
   "id": "3ea3e4f4",
   "metadata": {},
   "outputs": [
    {
     "name": "stderr",
     "output_type": "stream",
     "text": [
      "HTTP Request: POST http://10.0.0.4:11434/api/chat \"HTTP/1.1 200 OK\"\n",
      "2025-06-28T22:30:12.088541Z [info     ] Summary generation completed in 8.81 seconds\n",
      "2025-06-28T22:30:12.089038Z [info     ] Generated summary length: 1105 characters\n",
      "2025-06-28T22:30:12.088541Z [info     ] Summary generation completed in 8.81 seconds\n",
      "2025-06-28T22:30:12.089038Z [info     ] Generated summary length: 1105 characters\n"
     ]
    },
    {
     "name": "stdout",
     "output_type": "stream",
     "text": [
      "Summary for ACHR:\n",
      "==================================================\n",
      "<think>\n",
      "Okay, the user wants an overview of a company based on historical reports. But they didn't provide any specific reports or company details. Hmm, maybe they forgot to include the reports. I should check the history again.\n",
      "\n",
      "Wait, looking back, the user's initial message just says \"Consider these historical reports. Write 100 words providing an overview of the company.\" But there are no reports attached. That's a problem. Without the reports, I can't generate an accurate overview. \n",
      "\n",
      "I need ...\n"
     ]
    }
   ],
   "source": [
    "# Generate the summary using the aggregates\n",
    "summary_response = get_chat_response(client, AGGRAGATE_MODEL, summary_messages)\n",
    "logger.info(f\"Summary generation completed in {summary_response.total_duration / 1e9:.2f} seconds\")\n",
    "\n",
    "# Extract the summary content\n",
    "summary_content = summary_response.message.content\n",
    "logger.info(f\"Generated summary length: {len(summary_content)} characters\")\n",
    "\n",
    "# Display first part of the summary\n",
    "print(f\"Summary for {TICKER}:\")\n",
    "print(\"=\" * 50)\n",
    "print(summary_content[:500] + \"...\" if len(summary_content) > 500 else summary_content)"
   ]
  },
  {
   "cell_type": "code",
   "execution_count": 34,
   "id": "52db4506",
   "metadata": {},
   "outputs": [
    {
     "name": "stderr",
     "output_type": "stream",
     "text": [
      "2025-06-28T22:30:12.101539Z [info     ] updated_company                company_id=0685e3e7-c4c5-7522-8000-7417d23b7385 name=Archer Aviation Inc.\n",
      "2025-06-28T22:30:12.101919Z [info     ] Successfully updated company summary for ACHR company_id=0685e3e7-c4c5-7522-8000-7417d23b7385 summary_length=1105\n",
      "2025-06-28T22:30:12.101919Z [info     ] Successfully updated company summary for ACHR company_id=0685e3e7-c4c5-7522-8000-7417d23b7385 summary_length=1105\n"
     ]
    },
    {
     "name": "stdout",
     "output_type": "stream",
     "text": [
      "\n",
      "✅ Summary saved to company record for ACHR\n",
      "Summary length: 1105 characters\n"
     ]
    }
   ],
   "source": [
    "# Save the summary to the company's summary column\n",
    "update_data = {\n",
    "    'summary': summary_content\n",
    "}\n",
    "\n",
    "updated_company = update_company(company.id, update_data)\n",
    "\n",
    "if updated_company:\n",
    "    logger.info(f\"Successfully updated company summary for {TICKER}\",\n",
    "               company_id=str(company.id),\n",
    "               summary_length=len(summary_content))\n",
    "    print(f\"\\n✅ Summary saved to company record for {TICKER}\")\n",
    "    print(f\"Summary length: {len(summary_content)} characters\")\n",
    "else:\n",
    "    logger.error(f\"Failed to update company summary for {TICKER}\")\n",
    "    print(f\"\\n❌ Failed to save summary to company record for {TICKER}\")"
   ]
  },
  {
   "cell_type": "code",
   "execution_count": 35,
   "id": "162a4f18",
   "metadata": {},
   "outputs": [
    {
     "name": "stderr",
     "output_type": "stream",
     "text": [
      "2025-06-28T22:30:12.106218Z [info     ] retrieved_company              company_id=0685e3e7-c4c5-7522-8000-7417d23b7385\n"
     ]
    },
    {
     "name": "stdout",
     "output_type": "stream",
     "text": [
      "\n",
      "✅ Verification: Company summary successfully retrieved\n",
      "Summary preview: <think>\n",
      "Okay, the user wants an overview of a company based on historical reports. But they didn't provide any specific reports or company details. Hmm, maybe they forgot to include the reports. I sho...\n"
     ]
    }
   ],
   "source": [
    "# Verify the summary was saved by retrieving the company again\n",
    "from src.database.companies import get_company\n",
    "\n",
    "refreshed_company = get_company(company.id)\n",
    "if refreshed_company and refreshed_company.summary:\n",
    "    print(f\"\\n✅ Verification: Company summary successfully retrieved\")\n",
    "    print(f\"Summary preview: {refreshed_company.summary[:200]}...\")\n",
    "else:\n",
    "    print(f\"\\n❌ Verification failed: No summary found in company record\")"
   ]
  },
  {
   "cell_type": "markdown",
   "id": "c9513040",
   "metadata": {},
   "source": [
    "## Database Migration: Add Summary Column\n",
    "\n",
    "First, let's add the missing `summary` column to the `companies` table."
   ]
  },
  {
   "cell_type": "code",
   "execution_count": 36,
   "id": "bd9dcd7d",
   "metadata": {},
   "outputs": [
    {
     "name": "stdout",
     "output_type": "stream",
     "text": [
      "Current columns in companies table: ['id', 'cik', 'name', 'display_name', 'is_company', 'tickers', 'exchanges', 'sic', 'sic_description', 'fiscal_year_end', 'entity_type', 'ein', 'former_names', 'summary']\n",
      "The 'summary' column already exists in the companies table.\n",
      "\n",
      "Current columns in aggregates table: ['id', 'created_at', 'total_duration', 'content', 'system_prompt_id', 'model', 'temperature', 'top_p', 'num_ctx', 'company_id', 'document_type']\n",
      "Successfully added 'summary' column to the aggregates table.\n"
     ]
    }
   ],
   "source": [
    "from sqlalchemy import text, inspect\n",
    "from src.database.base import get_db_session, engine\n",
    "\n",
    "# Get a fresh session to avoid any transaction issues\n",
    "session = get_db_session()\n",
    "\n",
    "# First, ensure we start with a clean transaction\n",
    "try:\n",
    "    session.rollback()\n",
    "except:\n",
    "    pass  # Ignore any rollback errors\n",
    "\n",
    "# Check if the summary column already exists\n",
    "inspector = inspect(engine)\n",
    "columns = [col['name'] for col in inspector.get_columns('companies')]\n",
    "print(\"Current columns in companies table:\", columns)\n",
    "\n",
    "# Add the summary column if it doesn't exist\n",
    "if 'summary' not in columns:\n",
    "    try:\n",
    "        sql = text(\"ALTER TABLE companies ADD COLUMN summary TEXT;\")\n",
    "        session.execute(sql)\n",
    "        session.commit()\n",
    "        print(\"Successfully added 'summary' column to the companies table.\")\n",
    "    except Exception as e:\n",
    "        session.rollback()\n",
    "        print(f\"Error adding summary column: {e}\")\n",
    "        # Try to get a completely fresh session and retry\n",
    "        try:\n",
    "            session.close()\n",
    "            session = get_db_session()\n",
    "            sql = text(\"ALTER TABLE companies ADD COLUMN summary TEXT;\")\n",
    "            session.execute(sql)\n",
    "            session.commit()\n",
    "            print(\"Successfully added 'summary' column on retry.\")\n",
    "        except Exception as retry_error:\n",
    "            session.rollback()\n",
    "            print(f\"Failed on retry as well: {retry_error}\")\n",
    "else:\n",
    "    print(\"The 'summary' column already exists in the companies table.\")\n",
    "\n",
    "# Now check and add summary column to aggregates table\n",
    "aggregates_columns = [col['name'] for col in inspector.get_columns('aggregates')]\n",
    "print(\"\\nCurrent columns in aggregates table:\", aggregates_columns)\n",
    "\n",
    "if 'summary' not in aggregates_columns:\n",
    "    try:\n",
    "        sql = text(\"ALTER TABLE aggregates ADD COLUMN summary TEXT;\")\n",
    "        session.execute(sql)\n",
    "        session.commit()\n",
    "        print(\"Successfully added 'summary' column to the aggregates table.\")\n",
    "    except Exception as e:\n",
    "        session.rollback()\n",
    "        print(f\"Error adding summary column to aggregates: {e}\")\n",
    "        # Try with fresh session\n",
    "        try:\n",
    "            session.close()\n",
    "            session = get_db_session()\n",
    "            sql = text(\"ALTER TABLE aggregates ADD COLUMN summary TEXT;\")\n",
    "            session.execute(sql)\n",
    "            session.commit()\n",
    "            print(\"Successfully added 'summary' column to aggregates table on retry.\")\n",
    "        except Exception as retry_error:\n",
    "            session.rollback()\n",
    "            print(f\"Failed to add aggregates summary column on retry: {retry_error}\")\n",
    "else:\n",
    "    print(\"The 'summary' column already exists in the aggregates table.\")"
   ]
  },
  {
   "cell_type": "markdown",
   "id": "3200c7fc",
   "metadata": {},
   "source": [
    "## Database Migration: Aggregate Table Schema\n",
    "\n",
    "Let's ensure the aggregates table has all the necessary columns for the current model."
   ]
  },
  {
   "cell_type": "code",
   "execution_count": 37,
   "id": "a5401b79",
   "metadata": {},
   "outputs": [
    {
     "name": "stdout",
     "output_type": "stream",
     "text": [
      "Current columns in aggregates table: ['id', 'created_at', 'total_duration', 'content', 'system_prompt_id', 'model', 'temperature', 'top_p', 'num_ctx', 'company_id', 'document_type', 'summary']\n",
      "\n",
      "✅ All required columns already exist in aggregates table\n"
     ]
    }
   ],
   "source": [
    "from sqlalchemy import text, inspect\n",
    "from src.database.base import get_db_session, engine\n",
    "\n",
    "# Get a fresh session to avoid any transaction issues\n",
    "session = get_db_session()\n",
    "\n",
    "# First, ensure we start with a clean transaction\n",
    "try:\n",
    "    session.rollback()\n",
    "except:\n",
    "    pass  # Ignore any rollback errors\n",
    "\n",
    "# Check current aggregates table schema\n",
    "inspector = inspect(engine)\n",
    "aggregates_columns = [col['name'] for col in inspector.get_columns('aggregates')]\n",
    "print(\"Current columns in aggregates table:\", aggregates_columns)\n",
    "\n",
    "# Define the columns that should exist in the aggregates table\n",
    "required_columns = {\n",
    "    'id': 'UUID PRIMARY KEY',\n",
    "    'company_id': 'UUID REFERENCES companies(id) ON DELETE CASCADE',\n",
    "    'document_type': 'document_type_enum',\n",
    "    'created_at': 'TIMESTAMP DEFAULT NOW()',\n",
    "    'total_duration': 'FLOAT',\n",
    "    'content': 'TEXT',\n",
    "    'summary': 'TEXT',\n",
    "    'system_prompt_id': 'UUID REFERENCES prompts(id) ON DELETE SET NULL',\n",
    "    'model': 'VARCHAR(50)',\n",
    "    'temperature': 'FLOAT DEFAULT 0.7',\n",
    "    'top_p': 'FLOAT DEFAULT 1.0',\n",
    "    'num_ctx': 'INTEGER DEFAULT 4096'\n",
    "}\n",
    "\n",
    "# Add missing columns\n",
    "missing_columns = []\n",
    "for column_name, column_def in required_columns.items():\n",
    "    if column_name not in aggregates_columns:\n",
    "        missing_columns.append((column_name, column_def))\n",
    "\n",
    "if missing_columns:\n",
    "    print(f\"\\nMissing columns: {[col[0] for col in missing_columns]}\")\n",
    "\n",
    "    for column_name, column_def in missing_columns:\n",
    "        try:\n",
    "            # Special handling for document_type enum\n",
    "            if column_name == 'document_type':\n",
    "                # Check if enum exists first\n",
    "                enum_check = text(\"\"\"\n",
    "                    SELECT EXISTS (\n",
    "                        SELECT 1 FROM pg_type\n",
    "                        WHERE typname = 'document_type_enum'\n",
    "                    );\n",
    "                \"\"\")\n",
    "                enum_exists = session.execute(enum_check).scalar()\n",
    "\n",
    "                if not enum_exists:\n",
    "                    # Create the enum type\n",
    "                    create_enum = text(\"\"\"\n",
    "                        CREATE TYPE document_type_enum AS ENUM (\n",
    "                            'management_discussion',\n",
    "                            'risk_factors',\n",
    "                            'business_description'\n",
    "                        );\n",
    "                    \"\"\")\n",
    "                    session.execute(create_enum)\n",
    "                    print(f\"Created document_type_enum type\")\n",
    "\n",
    "                sql = text(f\"ALTER TABLE aggregates ADD COLUMN {column_name} {column_def};\")\n",
    "            else:\n",
    "                sql = text(f\"ALTER TABLE aggregates ADD COLUMN {column_name} {column_def};\")\n",
    "\n",
    "            session.execute(sql)\n",
    "            session.commit()\n",
    "            print(f\"Successfully added '{column_name}' column\")\n",
    "\n",
    "        except Exception as e:\n",
    "            session.rollback()\n",
    "            print(f\"Error adding {column_name} column: {e}\")\n",
    "            # Try with fresh session for next column\n",
    "            try:\n",
    "                session.close()\n",
    "                session = get_db_session()\n",
    "            except:\n",
    "                pass\n",
    "else:\n",
    "    print(\"\\n✅ All required columns already exist in aggregates table\")"
   ]
  },
  {
   "cell_type": "code",
   "execution_count": null,
   "id": "7a2bd30a",
   "metadata": {},
   "outputs": [],
   "source": []
  },
  {
   "cell_type": "markdown",
   "id": "df45c282",
   "metadata": {},
   "source": [
    "## Generate Individual Aggregate Summaries\n",
    "\n",
    "Let's loop through each recent aggregate and generate concise summaries for them."
   ]
  },
  {
   "cell_type": "code",
   "execution_count": 5,
   "id": "59de28d0",
   "metadata": {},
   "outputs": [
    {
     "name": "stdout",
     "output_type": "stream",
     "text": [
      "\n",
      "============================================================\n",
      "Processing Aggregate 1/3: MANAGEMENT_DISCUSSION\n",
      "Aggregate ID: 06860688-8712-7c9c-8000-20c9f05dccbd\n",
      "Content length: 8618 characters\n",
      "Model: qwen3:14b\n",
      "Created: 2025-06-28 22:10:00.695195\n",
      "🔄 Generating summary for management_discussion...\n"
     ]
    },
    {
     "name": "stderr",
     "output_type": "stream",
     "text": [
      "HTTP Request: POST http://10.0.0.4:11434/api/chat \"HTTP/1.1 200 OK\"\n",
      "2025-06-28T22:42:56.074082Z [info     ] updated_aggregate              aggregate_id=06860688-8712-7c9c-8000-20c9f05dccbd\n",
      "2025-06-28T22:42:56.074471Z [info     ] Updated aggregate summary      aggregate_id=06860688-8712-7c9c-8000-20c9f05dccbd document_type=management_discussion summary_length=1670\n"
     ]
    },
    {
     "name": "stdout",
     "output_type": "stream",
     "text": [
      "✅ Summary generated (1670 characters)\n",
      "Preview: <think>\n",
      "Okay, I need to summarize the management discussion and analysis (MD&A) from the 10-K filing in 2-3 sentences. The user wants key business dev...\n",
      "💾 Summary saved to aggregate 06860688-8712-7c9c-8000-20c9f05dccbd\n",
      "\n",
      "============================================================\n",
      "Processing Aggregate 2/3: RISK_FACTORS\n",
      "Aggregate ID: 0686068b-df00-7ff5-8000-facc77dadab1\n",
      "Content length: 5106 characters\n",
      "Model: qwen3:14b\n",
      "Created: 2025-06-28 22:12:13.929911\n",
      "🔄 Generating summary for risk_factors...\n"
     ]
    },
    {
     "name": "stderr",
     "output_type": "stream",
     "text": [
      "HTTP Request: POST http://10.0.0.4:11434/api/chat \"HTTP/1.1 200 OK\"\n",
      "2025-06-28T22:43:07.604784Z [info     ] updated_aggregate              aggregate_id=0686068b-df00-7ff5-8000-facc77dadab1\n",
      "2025-06-28T22:43:07.605145Z [info     ] Updated aggregate summary      aggregate_id=0686068b-df00-7ff5-8000-facc77dadab1 document_type=risk_factors summary_length=1722\n"
     ]
    },
    {
     "name": "stdout",
     "output_type": "stream",
     "text": [
      "✅ Summary generated (1722 characters)\n",
      "Preview: <think>\n",
      "Okay, the user wants a summary of the risk factors analysis in 2-3 sentences, highlighting the most significant risks and any notable changes ...\n",
      "💾 Summary saved to aggregate 0686068b-df00-7ff5-8000-facc77dadab1\n",
      "\n",
      "============================================================\n",
      "Processing Aggregate 3/3: BUSINESS_DESCRIPTION\n",
      "Aggregate ID: 06860691-20f5-7a0a-8000-99c9accca3d2\n",
      "Content length: 8430 characters\n",
      "Model: qwen3:14b\n",
      "Created: 2025-06-28 22:13:38.052474\n",
      "🔄 Generating summary for business_description...\n"
     ]
    },
    {
     "name": "stderr",
     "output_type": "stream",
     "text": [
      "HTTP Request: POST http://10.0.0.4:11434/api/chat \"HTTP/1.1 200 OK\"\n",
      "2025-06-28T22:43:31.067033Z [info     ] updated_aggregate              aggregate_id=06860691-20f5-7a0a-8000-99c9accca3d2\n",
      "2025-06-28T22:43:31.067565Z [info     ] Updated aggregate summary      aggregate_id=06860691-20f5-7a0a-8000-99c9accca3d2 document_type=business_description summary_length=3462\n"
     ]
    },
    {
     "name": "stdout",
     "output_type": "stream",
     "text": [
      "✅ Summary generated (3462 characters)\n",
      "Preview: <think>\n",
      "Okay, let's see. The user wants a summary of the business description analysis in 2-3 sentences. The core elements to capture are the company'...\n",
      "💾 Summary saved to aggregate 06860691-20f5-7a0a-8000-99c9accca3d2\n",
      "\n",
      "============================================================\n",
      "🎉 Completed processing 3 aggregates for MSFT\n"
     ]
    }
   ],
   "source": [
    "from src.database.aggregates import update_aggregate\n",
    "\n",
    "# Loop through each recent aggregate and generate summaries\n",
    "for i, aggregate in enumerate(recent_aggregates):\n",
    "    doc_type = aggregate.document_type.value if aggregate.document_type else 'unknown'\n",
    "    print(f\"\\n{'='*60}\")\n",
    "    print(f\"Processing Aggregate {i+1}/{len(recent_aggregates)}: {doc_type.upper()}\")\n",
    "    print(f\"Aggregate ID: {aggregate.id}\")\n",
    "    print(f\"Content length: {len(aggregate.content) if aggregate.content else 0} characters\")\n",
    "    print(f\"Model: {aggregate.model}\")\n",
    "    print(f\"Created: {aggregate.created_at}\")\n",
    "\n",
    "    # Skip if aggregate already has a summary\n",
    "    if aggregate.summary:\n",
    "        print(f\"⏭️  Aggregate already has summary ({len(aggregate.summary)} chars). Skipping.\")\n",
    "        continue\n",
    "\n",
    "    # Skip if no content to summarize\n",
    "    if not aggregate.content or len(aggregate.content.strip()) < 50:\n",
    "        print(f\"⚠️  Aggregate has insufficient content. Skipping.\")\n",
    "        continue\n",
    "\n",
    "    # Create summary prompt based on document type\n",
    "    if doc_type == 'management_discussion':\n",
    "        summary_prompt = \"Summarize this management discussion and analysis in 2-3 sentences, highlighting key business developments, financial performance insights, and management's strategic outlook.\"\n",
    "    elif doc_type == 'risk_factors':\n",
    "        summary_prompt = \"Summarize this risk factors analysis in 2-3 sentences, identifying the most significant risks and any notable changes in the company's risk profile.\"\n",
    "    elif doc_type == 'business_description':\n",
    "        summary_prompt = \"Summarize this business description analysis in 2-3 sentences, capturing the company's core business model, market position, and key value propositions.\"\n",
    "    else:\n",
    "        summary_prompt = \"Summarize this analysis in 2-3 sentences, highlighting the key findings and insights.\"\n",
    "\n",
    "    # Create messages for individual aggregate summary\n",
    "    aggregate_summary_messages = [{\n",
    "        'role': PromptRole.SYSTEM.value,\n",
    "        'content': summary_prompt\n",
    "    }, {\n",
    "        'role': PromptRole.USER.value,\n",
    "        'content': aggregate.content\n",
    "    }]\n",
    "\n",
    "    print(f\"🔄 Generating summary for {doc_type}...\")\n",
    "\n",
    "    try:\n",
    "        # Generate the summary\n",
    "        aggregate_summary_response = get_chat_response(client, AGGRAGATE_MODEL, aggregate_summary_messages)\n",
    "        aggregate_summary_content = aggregate_summary_response.message.content.strip()\n",
    "\n",
    "        print(f\"✅ Summary generated ({len(aggregate_summary_content)} characters)\")\n",
    "        print(f\"Preview: {aggregate_summary_content[:150]}...\")\n",
    "\n",
    "        # Update the aggregate with the summary\n",
    "        update_data = {'summary': aggregate_summary_content}\n",
    "        updated_aggregate = update_aggregate(aggregate.id, update_data)\n",
    "\n",
    "        if updated_aggregate:\n",
    "            print(f\"💾 Summary saved to aggregate {aggregate.id}\")\n",
    "            logger.info(f\"Updated aggregate summary\",\n",
    "                       aggregate_id=str(aggregate.id),\n",
    "                       document_type=doc_type,\n",
    "                       summary_length=len(aggregate_summary_content))\n",
    "        else:\n",
    "            print(f\"❌ Failed to save summary to aggregate {aggregate.id}\")\n",
    "            logger.error(f\"Failed to update aggregate summary\", aggregate_id=str(aggregate.id))\n",
    "\n",
    "    except Exception as e:\n",
    "        print(f\"❌ Error generating summary for {doc_type}: {str(e)}\")\n",
    "        logger.error(f\"Error generating aggregate summary\",\n",
    "                    aggregate_id=str(aggregate.id),\n",
    "                    document_type=doc_type,\n",
    "                    error=str(e))\n",
    "\n",
    "print(f\"\\n{'='*60}\")\n",
    "print(f\"🎉 Completed processing {len(recent_aggregates)} aggregates for {TICKER}\")"
   ]
  },
  {
   "cell_type": "code",
   "execution_count": 6,
   "id": "bc76b859",
   "metadata": {},
   "outputs": [
    {
     "name": "stderr",
     "output_type": "stream",
     "text": [
      "2025-06-28T22:43:31.073866Z [info     ] retrieved_company_by_ticker    company_id=0685e2b2-ba5f-73a8-8000-6d5063ab6d43 ticker=MSFT\n",
      "2025-06-28T22:43:31.075822Z [info     ] retrieved_recent_aggregates_by_company company_id=0685e2b2-ba5f-73a8-8000-6d5063ab6d43 count=3 document_types=['management_discussion', 'risk_factors', 'business_description']\n"
     ]
    },
    {
     "name": "stdout",
     "output_type": "stream",
     "text": [
      "\n",
      "📋 Summary Report for MSFT:\n",
      "==================================================\n",
      "\n",
      "MANAGEMENT_DISCUSSION:\n",
      "  Status: ✅ Has Summary (1670 chars)\n",
      "  Content: 8618 characters\n",
      "  Model: qwen3:14b\n",
      "  Created: 2025-06-28 22:10:00.695195\n",
      "  Summary Preview: <think>\n",
      "Okay, I need to summarize the management discussion and analysis (MD&A) from the 10-K filing...\n",
      "\n",
      "RISK_FACTORS:\n",
      "  Status: ✅ Has Summary (1722 chars)\n",
      "  Content: 5106 characters\n",
      "  Model: qwen3:14b\n",
      "  Created: 2025-06-28 22:12:13.929911\n",
      "  Summary Preview: <think>\n",
      "Okay, the user wants a summary of the risk factors analysis in 2-3 sentences, highlighting t...\n",
      "\n",
      "BUSINESS_DESCRIPTION:\n",
      "  Status: ✅ Has Summary (3462 chars)\n",
      "  Content: 8430 characters\n",
      "  Model: qwen3:14b\n",
      "  Created: 2025-06-28 22:13:38.052474\n",
      "  Summary Preview: <think>\n",
      "Okay, let's see. The user wants a summary of the business description analysis in 2-3 senten...\n"
     ]
    }
   ],
   "source": [
    "# Verify the summaries were saved by retrieving the aggregates again\n",
    "print(f\"\\n📋 Summary Report for {TICKER}:\")\n",
    "print(\"=\" * 50)\n",
    "\n",
    "refreshed_aggregates = get_recent_aggregates_by_ticker(TICKER)\n",
    "for aggregate in refreshed_aggregates:\n",
    "    doc_type = aggregate.document_type.value if aggregate.document_type else 'unknown'\n",
    "    summary_status = \"✅ Has Summary\" if aggregate.summary else \"❌ No Summary\"\n",
    "    summary_length = len(aggregate.summary) if aggregate.summary else 0\n",
    "    content_length = len(aggregate.content) if aggregate.content else 0\n",
    "\n",
    "    print(f\"\\n{doc_type.upper()}:\")\n",
    "    print(f\"  Status: {summary_status} ({summary_length} chars)\")\n",
    "    print(f\"  Content: {content_length} characters\")\n",
    "    print(f\"  Model: {aggregate.model}\")\n",
    "    print(f\"  Created: {aggregate.created_at}\")\n",
    "\n",
    "    if aggregate.summary:\n",
    "        print(f\"  Summary Preview: {aggregate.summary[:100]}...\")"
   ]
  }
 ],
 "metadata": {
  "kernelspec": {
   "display_name": ".venv",
   "language": "python",
   "name": "python3"
  },
  "language_info": {
   "codemirror_mode": {
    "name": "ipython",
    "version": 3
   },
   "file_extension": ".py",
   "mimetype": "text/x-python",
   "name": "python",
   "nbconvert_exporter": "python",
   "pygments_lexer": "ipython3",
   "version": "3.13.2"
  }
 },
 "nbformat": 4,
 "nbformat_minor": 5
}
