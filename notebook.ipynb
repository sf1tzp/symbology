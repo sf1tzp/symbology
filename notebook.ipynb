{
 "cells": [
  {
   "cell_type": "code",
   "execution_count": 10,
   "id": "11075530",
   "metadata": {},
   "outputs": [
    {
     "name": "stderr",
     "output_type": "stream",
     "text": [
      "2025-06-28T15:41:10.779471Z [info     ] database_initialized           status=success\n"
     ]
    },
    {
     "name": "stderr",
     "output_type": "stream",
     "text": [
      "HTTP Request: GET http://10.0.0.4:11434/api/ps \"HTTP/1.1 200 OK\"\n",
      "2025-06-28T15:41:10.792919Z [info     ] ollama_initialzied             status=success\n"
     ]
    }
   ],
   "source": [
    "from ollama import Client, chat\n",
    "\n",
    "import json\n",
    "\n",
    "from src.database.base import init_db\n",
    "from src.database.companies import get_company_by_ticker\n",
    "from src.database.filings import get_filings_by_company\n",
    "from src.database.documents import get_documents_by_filing, DocumentType\n",
    "\n",
    "from src.database.prompts import get_prompt_by_name\n",
    "from src.database.completions import create_completion\n",
    "\n",
    "from src.llm.prompts import format_document_messages, format_aggregate_messages, PromptRole\n",
    "from src.llm.client import init_client, get_chat_response\n",
    "from src.llm.models import MODEL_CONFIG\n",
    "\n",
    "from src.utils.config import settings\n",
    "from src.utils.logging import configure_logging, get_logger\n",
    "\n",
    "configure_logging()\n",
    "logger = get_logger(name=\"notebook\")\n",
    "_, _ = init_db(settings.database.url)\n",
    "\n",
    "client = init_client(settings.openai_api.url)\n",
    "_ = client.ps()\n",
    "logger.info(\"ollama_initialzied\", status=\"success\")\n",
    "\n"
   ]
  },
  {
   "cell_type": "code",
   "execution_count": 13,
   "id": "86a46c8c",
   "metadata": {},
   "outputs": [],
   "source": [
    "TICKER = \"AVGO\"\n",
    "MODEL = \"qwen3\""
   ]
  },
  {
   "cell_type": "code",
   "execution_count": 14,
   "id": "d4ba511e",
   "metadata": {},
   "outputs": [
    {
     "name": "stderr",
     "output_type": "stream",
     "text": [
      "2025-06-28T15:41:45.574197Z [info     ] retrieved_company_by_ticker    company_id=0685e292-0152-7513-8000-6a7b30f86651 ticker=AVGO\n",
      "2025-06-28T15:41:45.576228Z [info     ] retrieved_filings_by_company   company_id=0685e292-0152-7513-8000-6a7b30f86651 count=4\n",
      "2025-06-28T15:41:45.582081Z [info     ] retrieved_documents_by_filing  count=3 filing_id=0685e292-5d8a-7ba8-8000-be8914f39986\n",
      "2025-06-28T15:41:45.584111Z [info     ] retrieved_documents_by_filing  count=3 filing_id=0685e292-c438-718e-8000-c675a5db1c78\n",
      "2025-06-28T15:41:45.585763Z [info     ] retrieved_documents_by_filing  count=3 filing_id=0685e293-30db-7362-8000-744846e7c1f0\n",
      "2025-06-28T15:41:45.587225Z [info     ] retrieved_documents_by_filing  count=2 filing_id=0685e293-97be-75c2-8000-1f4bb304a5e9\n"
     ]
    }
   ],
   "source": [
    "company = get_company_by_ticker(TICKER)\n",
    "filings = get_filings_by_company(company_id=company.id)\n",
    "for filing in filings:\n",
    "    documents = get_documents_by_filing(filing.id)\n",
    "    for document in documents:\n",
    "        pass\n",
    "\n"
   ]
  },
  {
   "cell_type": "code",
   "execution_count": 20,
   "id": "7807506b",
   "metadata": {},
   "outputs": [],
   "source": [
    "# def format_messages(document):\n",
    "#     messages = [{\n",
    "#         'role': PromptRole.SYSTEM.value,\n",
    "#         'content': DOCUMENT_PROMPTS[document.document_type]\n",
    "#     },\n",
    "#     {\n",
    "#         'role': PromptRole.USER.value,\n",
    "#         'content': document.content\n",
    "#     }]\n",
    "#     return messages\n",
    "\n",
    "# models = {\n",
    "#     \"gemma3\": {\n",
    "#         \"name\": \"gemma3:12b\",\n",
    "#         \"ctx\": 12288,\n",
    "#         # \"ctx\": 24567,\n",
    "#         # \"ctx\": 32768,\n",
    "#         # \"ctx\": 65536,\n",
    "#         # \"ctx\": 131072,\n",
    "#     },\n",
    "#     \"qwen3\": {\n",
    "\n",
    "#         \"name\": \"qwen3:14b\",\n",
    "#         \"ctx\": 1288,\n",
    "#         # \"ctx\": 24567,\n",
    "#         # \"ctx\": 32768,\n",
    "#         # \"ctx\": 65536,\n",
    "#         # \"ctx\": 131072,\n",
    "#     }\n",
    "# }\n",
    "\n",
    "# model = models[\"gemma3\"]\n",
    "\n",
    "# def get_chat_response(model, messages):\n",
    "#     model = models[model]\n",
    "#     response = client.chat(model=model[\"name\"],\n",
    "#         options= {\n",
    "#             \"num_ctx\": model[\"ctx\"],\n",
    "#         },\n",
    "#         messages = messages,\n",
    "#     )\n",
    "#     return response\n",
    "\n",
    "\n",
    "# def check_ctx(model, messages):\n",
    "#     model = models[model]\n",
    "#     response = client.chat(model=model[\"name\"],\n",
    "#         options= {\n",
    "#             \"num_ctx\": 1024,\n",
    "#         },\n",
    "#         messages = messages,\n",
    "#     )\n",
    "#     return response\n",
    "\n"
   ]
  },
  {
   "cell_type": "code",
   "execution_count": null,
   "id": "0d9e2d64",
   "metadata": {},
   "outputs": [
    {
     "name": "stderr",
     "output_type": "stream",
     "text": [
      "2025-06-28T15:46:49.863792Z [info     ] retrieved_documents_by_filing  count=3 filing_id=0685e292-5d8a-7ba8-8000-be8914f39986\n",
      "2025-06-28T15:46:49.864134Z [info     ] Starting Chat for AVGO 2021-12-17 business_description\n",
      "HTTP Request: POST http://10.0.0.4:11434/api/chat \"HTTP/1.1 200 OK\"\n",
      "2025-06-28T15:47:19.492554Z [info     ] Done                           time=29.625348936s\n",
      "2025-06-28T15:47:19.493780Z [info     ] retrieved_prompt_by_name       name=business_description prompt_id=06860055-5fa7-7c96-8000-8afefd533328\n",
      "2025-06-28T15:47:19.498798Z [info     ] created_completion             completion_id=068600e8-77ec-763c-8000-dc07b0a8cbae model=qwen3\n",
      "2025-06-28T15:47:19.500486Z [info     ] Starting Chat for AVGO 2021-12-17 risk_factors\n"
     ]
    },
    {
     "name": "stdout",
     "output_type": "stream",
     "text": [
      "Created completion record with ID: 068600e8-77ec-763c-8000-dc07b0a8cbae\n",
      "Associated with document: Broadcom Inc. 10-K 2021-12-17 - Business Description\n",
      "Model: qwen3, Duration: 30.00 seconds\n",
      "Content length: 2093 characters\n"
     ]
    },
    {
     "name": "stderr",
     "output_type": "stream",
     "text": [
      "HTTP Request: POST http://10.0.0.4:11434/api/chat \"HTTP/1.1 200 OK\"\n",
      "2025-06-28T15:48:24.340721Z [info     ] Done                           time=64.837606118s\n",
      "2025-06-28T15:48:24.342055Z [info     ] retrieved_prompt_by_name       name=risk_factors prompt_id=06860055-5f8d-73c6-8000-acf740a64053\n",
      "2025-06-28T15:48:24.352016Z [info     ] created_completion             completion_id=068600ec-8580-7ce3-8000-bde6708068c9 model=qwen3\n",
      "2025-06-28T15:48:24.354294Z [info     ] Starting Chat for AVGO 2021-12-17 management_discussion\n"
     ]
    },
    {
     "name": "stdout",
     "output_type": "stream",
     "text": [
      "Created completion record with ID: 068600ec-8580-7ce3-8000-bde6708068c9\n",
      "Associated with document: Broadcom Inc. 10-K 2021-12-17 - Risk Factors\n",
      "Model: qwen3, Duration: 65.00 seconds\n",
      "Content length: 5629 characters\n"
     ]
    },
    {
     "name": "stderr",
     "output_type": "stream",
     "text": [
      "HTTP Request: POST http://10.0.0.4:11434/api/chat \"HTTP/1.1 200 OK\"\n",
      "2025-06-28T15:49:52.631748Z [info     ] Done                           time=88.275014799s\n",
      "2025-06-28T15:49:52.632931Z [info     ] retrieved_prompt_by_name       name=management_discussion prompt_id=06860055-5f9e-750c-8000-e57ce7b47741\n",
      "2025-06-28T15:49:52.637386Z [info     ] created_completion             completion_id=068600f2-0a26-7955-8000-fd76b51c6270 model=qwen3\n",
      "2025-06-28T15:49:52.642406Z [info     ] retrieved_documents_by_filing  count=3 filing_id=0685e292-c438-718e-8000-c675a5db1c78\n",
      "2025-06-28T15:49:52.642893Z [info     ] Starting Chat for AVGO 2022-12-16 business_description\n"
     ]
    },
    {
     "name": "stdout",
     "output_type": "stream",
     "text": [
      "Created completion record with ID: 068600f2-0a26-7955-8000-fd76b51c6270\n",
      "Associated with document: Broadcom Inc. 10-K 2021-12-17 - Management Discussion\n",
      "Model: qwen3, Duration: 88.00 seconds\n",
      "Content length: 7917 characters\n"
     ]
    },
    {
     "name": "stderr",
     "output_type": "stream",
     "text": [
      "HTTP Request: POST http://10.0.0.4:11434/api/chat \"HTTP/1.1 200 OK\"\n",
      "2025-06-28T15:51:13.188342Z [info     ] Done                           time=80.542321794s\n",
      "2025-06-28T15:51:13.189573Z [info     ] retrieved_prompt_by_name       name=business_description prompt_id=06860055-5fa7-7c96-8000-8afefd533328\n",
      "2025-06-28T15:51:13.197963Z [info     ] created_completion             completion_id=068600f7-130d-7e52-8000-800277dcead0 model=qwen3\n",
      "2025-06-28T15:51:13.200113Z [info     ] Starting Chat for AVGO 2022-12-16 risk_factors\n"
     ]
    },
    {
     "name": "stdout",
     "output_type": "stream",
     "text": [
      "Created completion record with ID: 068600f7-130d-7e52-8000-800277dcead0\n",
      "Associated with document: Broadcom Inc. 10-K 2022-12-16 - Business Description\n",
      "Model: qwen3, Duration: 81.00 seconds\n",
      "Content length: 7392 characters\n"
     ]
    },
    {
     "name": "stderr",
     "output_type": "stream",
     "text": [
      "HTTP Request: POST http://10.0.0.4:11434/api/chat \"HTTP/1.1 200 OK\"\n",
      "2025-06-28T15:52:15.000535Z [info     ] Done                           time=61.797787829s\n",
      "2025-06-28T15:52:15.001747Z [info     ] retrieved_prompt_by_name       name=risk_factors prompt_id=06860055-5f8d-73c6-8000-acf740a64053\n",
      "2025-06-28T15:52:15.005419Z [info     ] created_completion             completion_id=068600fa-f00d-77d8-8000-f0c43d5b01b3 model=qwen3\n",
      "2025-06-28T15:52:15.007146Z [info     ] Starting Chat for AVGO 2022-12-16 management_discussion\n"
     ]
    },
    {
     "name": "stdout",
     "output_type": "stream",
     "text": [
      "Created completion record with ID: 068600fa-f00d-77d8-8000-f0c43d5b01b3\n",
      "Associated with document: Broadcom Inc. 10-K 2022-12-16 - Risk Factors\n",
      "Model: qwen3, Duration: 62.00 seconds\n",
      "Content length: 5556 characters\n"
     ]
    },
    {
     "name": "stderr",
     "output_type": "stream",
     "text": [
      "HTTP Request: POST http://10.0.0.4:11434/api/chat \"HTTP/1.1 200 OK\"\n",
      "2025-06-28T15:53:33.352357Z [info     ] Done                           time=78.341487465s\n",
      "2025-06-28T15:53:33.354621Z [info     ] retrieved_prompt_by_name       name=management_discussion prompt_id=06860055-5f9e-750c-8000-e57ce7b47741\n",
      "2025-06-28T15:53:33.359936Z [info     ] created_completion             completion_id=068600ff-d5b6-7c97-8000-0cf2fab98304 model=qwen3\n",
      "2025-06-28T15:53:33.362550Z [info     ] retrieved_documents_by_filing  count=3 filing_id=0685e293-30db-7362-8000-744846e7c1f0\n",
      "2025-06-28T15:53:33.362907Z [info     ] Starting Chat for AVGO 2023-12-14 business_description\n"
     ]
    },
    {
     "name": "stdout",
     "output_type": "stream",
     "text": [
      "Created completion record with ID: 068600ff-d5b6-7c97-8000-0cf2fab98304\n",
      "Associated with document: Broadcom Inc. 10-K 2022-12-16 - Management Discussion\n",
      "Model: qwen3, Duration: 78.00 seconds\n",
      "Content length: 6507 characters\n"
     ]
    },
    {
     "name": "stderr",
     "output_type": "stream",
     "text": [
      "HTTP Request: POST http://10.0.0.4:11434/api/chat \"HTTP/1.1 200 OK\"\n",
      "2025-06-28T15:54:49.254989Z [info     ] Done                           time=75.8892805s\n",
      "2025-06-28T15:54:49.256485Z [info     ] retrieved_prompt_by_name       name=business_description prompt_id=06860055-5fa7-7c96-8000-8afefd533328\n",
      "2025-06-28T15:54:49.265101Z [info     ] created_completion             completion_id=06860104-9420-72b0-8000-c53e950c5cac model=qwen3\n",
      "2025-06-28T15:54:49.267058Z [info     ] Starting Chat for AVGO 2023-12-14 risk_factors\n"
     ]
    },
    {
     "name": "stdout",
     "output_type": "stream",
     "text": [
      "Created completion record with ID: 06860104-9420-72b0-8000-c53e950c5cac\n",
      "Associated with document: Broadcom Inc. 10-K 2023-12-14 - Business Description\n",
      "Model: qwen3, Duration: 76.00 seconds\n",
      "Content length: 6914 characters\n"
     ]
    },
    {
     "name": "stderr",
     "output_type": "stream",
     "text": [
      "HTTP Request: POST http://10.0.0.4:11434/api/chat \"HTTP/1.1 200 OK\"\n",
      "2025-06-28T15:56:16.636787Z [info     ] Done                           time=87.367246643s\n",
      "2025-06-28T15:56:16.638773Z [info     ] retrieved_prompt_by_name       name=risk_factors prompt_id=06860055-5f8d-73c6-8000-acf740a64053\n",
      "2025-06-28T15:56:16.647709Z [info     ] created_completion             completion_id=0686010a-0a3f-741c-8000-3fef799a8055 model=qwen3\n",
      "2025-06-28T15:56:16.649688Z [info     ] Starting Chat for AVGO 2023-12-14 management_discussion\n"
     ]
    },
    {
     "name": "stdout",
     "output_type": "stream",
     "text": [
      "Created completion record with ID: 0686010a-0a3f-741c-8000-3fef799a8055\n",
      "Associated with document: Broadcom Inc. 10-K 2023-12-14 - Risk Factors\n",
      "Model: qwen3, Duration: 87.00 seconds\n",
      "Content length: 8560 characters\n"
     ]
    },
    {
     "name": "stderr",
     "output_type": "stream",
     "text": [
      "HTTP Request: POST http://10.0.0.4:11434/api/chat \"HTTP/1.1 200 OK\"\n",
      "2025-06-28T15:57:56.908250Z [info     ] Done                           time=100.256373179s\n",
      "2025-06-28T15:57:56.909589Z [info     ] retrieved_prompt_by_name       name=management_discussion prompt_id=06860055-5f9e-750c-8000-e57ce7b47741\n",
      "2025-06-28T15:57:56.918951Z [info     ] created_completion             completion_id=06860110-4e93-7e3b-8000-e65c79c5cc66 model=qwen3\n",
      "2025-06-28T15:57:56.921296Z [info     ] retrieved_documents_by_filing  count=2 filing_id=0685e293-97be-75c2-8000-1f4bb304a5e9\n",
      "2025-06-28T15:57:56.921557Z [info     ] Starting Chat for AVGO 2024-12-20 business_description\n"
     ]
    },
    {
     "name": "stdout",
     "output_type": "stream",
     "text": [
      "Created completion record with ID: 06860110-4e93-7e3b-8000-e65c79c5cc66\n",
      "Associated with document: Broadcom Inc. 10-K 2023-12-14 - Management Discussion\n",
      "Model: qwen3, Duration: 100.00 seconds\n",
      "Content length: 8229 characters\n"
     ]
    },
    {
     "name": "stderr",
     "output_type": "stream",
     "text": [
      "HTTP Request: POST http://10.0.0.4:11434/api/chat \"HTTP/1.1 200 OK\"\n",
      "2025-06-28T15:59:42.168449Z [info     ] Done                           time=105.243775445s\n",
      "2025-06-28T15:59:42.169704Z [info     ] retrieved_prompt_by_name       name=business_description prompt_id=06860055-5fa7-7c96-8000-8afefd533328\n",
      "2025-06-28T15:59:42.173892Z [info     ] created_completion             completion_id=06860116-e2bd-73da-8000-4273854575e8 model=qwen3\n",
      "2025-06-28T15:59:42.176266Z [info     ] Starting Chat for AVGO 2024-12-20 risk_factors\n"
     ]
    },
    {
     "name": "stdout",
     "output_type": "stream",
     "text": [
      "Created completion record with ID: 06860116-e2bd-73da-8000-4273854575e8\n",
      "Associated with document: Broadcom Inc. 10-K 2024-12-20 - Business Description\n",
      "Model: qwen3, Duration: 105.00 seconds\n",
      "Content length: 9951 characters\n"
     ]
    },
    {
     "name": "stderr",
     "output_type": "stream",
     "text": [
      "HTTP Request: POST http://10.0.0.4:11434/api/chat \"HTTP/1.1 200 OK\"\n",
      "2025-06-28T16:00:54.928316Z [info     ] Done                           time=72.749723765s\n",
      "2025-06-28T16:00:54.929491Z [info     ] retrieved_prompt_by_name       name=risk_factors prompt_id=06860055-5f8d-73c6-8000-acf740a64053\n",
      "2025-06-28T16:00:54.938301Z [info     ] created_completion             completion_id=0686011b-6ee5-7533-8000-2c1621dab394 model=qwen3\n"
     ]
    },
    {
     "name": "stdout",
     "output_type": "stream",
     "text": [
      "Created completion record with ID: 0686011b-6ee5-7533-8000-2c1621dab394\n",
      "Associated with document: Broadcom Inc. 10-K 2024-12-20 - Risk Factors\n",
      "Model: qwen3, Duration: 73.00 seconds\n",
      "Content length: 7075 characters\n"
     ]
    }
   ],
   "source": [
    "descriptions = {}\n",
    "risk_factors = {}\n",
    "mdas = {}\n",
    "\n",
    "for filing in filings:\n",
    "    documents = get_documents_by_filing(filing.id)\n",
    "    for document in documents:\n",
    "        messages = format_document_messages(document)\n",
    "\n",
    "        logger.info(f\"Starting Chat for {TICKER} {filing.filing_date} {document.document_type.value}\")\n",
    "        response = get_chat_response(client, MODEL, messages)\n",
    "        logger.info(f\"Done\", time=f\"{response.total_duration / 1e9}s\")\n",
    "\n",
    "        # TODO: create a completion in the database\n",
    "        # Extract necessary details from the response\n",
    "        created_at = response.created_at\n",
    "        total_duration = response.total_duration / 1e9\n",
    "        content = response.message.content\n",
    "        prompt = get_prompt_by_name(document.document_type.value)\n",
    "        completion_data = {\n",
    "            'model': MODEL,\n",
    "            'document_ids': [document.id],  # Associate with the current document\n",
    "            'system_prompt_id': prompt.id,  # Link to the prompt used\n",
    "            'total_duration': total_duration,\n",
    "            'created_at': created_at,\n",
    "            'num_ctx': MODEL_CONFIG[MODEL][\"ctx\"],\n",
    "            'content': content,  # Add the actual response content\n",
    "        }\n",
    "        completion = create_completion(completion_data)\n",
    "        print(f\"Created completion record with ID: {completion.id}\")\n",
    "        print(f\"Associated with document: {document.document_name}\")\n",
    "        print(f\"Model: {completion.model}, Duration: {completion.total_duration:.2f} seconds\")\n",
    "        print(f\"Content length: {len(completion.content) if hasattr(completion, 'content') else 'N/A'} characters\")\n",
    "\n",
    "        if document.document_type == DocumentType.DESCRIPTION:\n",
    "            descriptions[f\"{filing.filing_date}\"] = response.message.content\n",
    "        elif document.document_type == DocumentType.RISK_FACTORS:\n",
    "            risk_factors[f\"{filing.filing_date}\"] = response.message.content\n",
    "        elif document.document_type == DocumentType.MDA:\n",
    "            mdas[f\"{filing.filing_date}\"] = response.message.content\n",
    "        else:\n",
    "            logger.warning(\"wtf\")\n",
    "\n",
    "\n",
    "\n",
    "logger.info(\"done\")\n"
   ]
  },
  {
   "cell_type": "code",
   "execution_count": null,
   "id": "d944f593",
   "metadata": {},
   "outputs": [],
   "source": [
    "import os\n",
    "\n",
    "os.makedirs(f'outputs/{TICKER}', exist_ok=True)\n",
    "with open(f'outputs/{TICKER}/mdas.json', 'w') as file:\n",
    "    json.dump(mdas, file, indent=4)\n",
    "with open(f'outputs/{TICKER}/risk_factors.json', 'w') as file:\n",
    "    json.dump(risk_factors, file, indent=4)\n",
    "with open(f'outputs/{TICKER}/descriptions.json', 'w') as file:\n",
    "    json.dump(risk_factors, file, indent=4)"
   ]
  },
  {
   "cell_type": "code",
   "execution_count": null,
   "id": "73be6392",
   "metadata": {},
   "outputs": [
    {
     "name": "stderr",
     "output_type": "stream",
     "text": [
      "HTTP Request: POST http://10.0.0.4:11434/api/chat \"HTTP/1.1 200 OK\"\n",
      "2025-06-28T11:02:27.051990Z [info     ] Done                           time=81.804331533s\n",
      "HTTP Request: POST http://10.0.0.4:11434/api/chat \"HTTP/1.1 200 OK\"\n",
      "2025-06-28T11:03:32.631413Z [info     ] Done                           time=65.576536244s\n"
     ]
    },
    {
     "name": "stdout",
     "output_type": "stream",
     "text": [
      "<think>\n",
      "Okay, let's see. The user wants a summary of the historical changes in the provided documents. Each document is from a different year: 2021, 2022, 2023, and 2024. They all seem to be risk factors from a company's annual report or similar filing, likely a tech company given the context.\n",
      "\n",
      "First, I need to compare each document to identify how the risk factors have evolved over time. The user probably wants to know what's new, what's been emphasized more, or if certain risks have become more prominent.\n",
      "\n",
      "Looking at the 2021 document, the main categories are Business and Operational Risks, Financial Risks, Legal and Regulatory Risks, and Human Capital Risks. They mention customer concentration, competition, economic conditions, natural disasters, cybersecurity, regulatory uncertainty, IP, third-party vendors, supply chain, currency fluctuations, interest rates, taxation, credit risk, litigation, compliance, and key personnel.\n",
      "\n",
      "In 2022, there's a more detailed breakdown with impact levels (High, Medium). Cybersecurity is highlighted as High, regulatory uncertainty as Medium-High. Geopolitical risks like the Russia-Ukraine war are mentioned, which wasn't in 2021. Also, financial risks include stock price volatility and debt levels. Technological risks are introduced here, like dependence on innovation and rapid tech change.\n",
      "\n",
      "2023 adds more context about ESG risks, product liability, and changes in customer procurement. It also emphasizes the interconnectedness of risks and mentions terms like \"Material Adverse Effect\" and \"Forward-Looking Statements.\" The categorization is more detailed, including Global and Macroeconomic Risks.\n",
      "\n",
      "2024 seems to have even more emphasis on cybersecurity and regulatory changes. It introduces AI and emerging technologies as specific areas of concern. The summary highlights top 5 critical risks, with cybersecurity as the top. There's also a mention of supply chain risks being implied through geopolitical instability and regulatory controls.\n",
      "\n",
      "I need to note the progression: increasing focus on cybersecurity, regulatory changes, geopolitical issues, and ESG. The documents become more detailed with each year, adding new risks like AI, ESG, and more specific examples of geopolitical events. Also, the 2024 document adds a summary of top risks and actionable takeaways, which the previous ones didn't have.\n",
      "\n",
      "The user might be an investor or analyst looking to understand how the company's risk profile has changed over time. They might also want to see if the company is addressing these risks more proactively in later years. The answer should highlight these trends, the addition of new risk categories, and the increasing detail and emphasis on certain areas like cybersecurity and geopolitical factors.\n",
      "</think>\n",
      "\n",
      "### **Summary of Historical Changes in Risk Factors (2021–2024)**\n",
      "\n",
      "The documents from 2021 to 2024 reflect a **gradual evolution in the prioritization and detail of risk factors**, with a clear emphasis on **cybersecurity, geopolitical instability, regulatory complexity, and emerging technologies**. Below is a structured analysis of the changes over time:\n",
      "\n",
      "---\n",
      "\n",
      "#### **1. 2021: Foundational Risk Categories**  \n",
      "- **Focus Areas**:  \n",
      "  - **Operational Risks**: Customer concentration, competition, natural disasters, supply chain disruptions, and third-party vendor reliance.  \n",
      "  - **Financial Risks**: Currency fluctuations, interest rates, taxation, and credit risk.  \n",
      "  - **Legal/Regulatory Risks**: Data privacy, intellectual property (IP), and compliance with evolving laws.  \n",
      "  - **Human Capital Risks**: Key personnel retention, stock price volatility impacting compensation.  \n",
      "- **Notable Trends**:  \n",
      "  - Broad categorization of risks without detailed prioritization or impact levels.  \n",
      "  - Emphasis on **traditional risks** (e.g., economic downturns, supply chain vulnerabilities).  \n",
      "\n",
      "---\n",
      "\n",
      "#### **2. 2022: Increased Detail and Prioritization**  \n",
      "- **Focus Areas**:  \n",
      "  - **Cybersecurity** is explicitly labeled as a **\"High\"** risk, with mention of GDPR/CCPA compliance and customer-related incidents.  \n",
      "  - **Geopolitical Risks**: Highlighted the **Russia-Ukraine war** and its impact on supply chains.  \n",
      "  - **Financial Risks**: Stock price volatility linked to employee retention and debt levels.  \n",
      "  - **Technological Risks**: Introduced **dependence on innovation** and **rapid technological change** as implicit risks.  \n",
      "- **New Elements**:  \n",
      "  - **Impact Levels**: Risks were categorized as **High, Medium, or Low** for prioritization.  \n",
      "  - **Regulatory Uncertainty**: Expanded to include **environmental, human rights, and export control** regulations.  \n",
      "\n",
      "---\n",
      "\n",
      "#### **3. 2023: Expansion of ESG and Global Macroeconomic Risks**  \n",
      "- **Focus Areas**:  \n",
      "  - **ESG Risks**: Added emphasis on **Environmental, Social, and Governance (ESG)** goals and reputational damage from unmet targets.  \n",
      "  - **Product Liability**: Explicit mention of product defects and reliability concerns.  \n",
      "  - **Global Macroeconomic Risks**: Highlighted **economic sanctions, trade restrictions, and geopolitical instability**.  \n",
      "- **Notable Trends**:  \n",
      "  - **Interconnectedness of Risks**: Acknowledged how risks (e.g., cyberattacks) can cascade into legal, financial, and reputational issues.  \n",
      "  - **Legal Terms**: Introduced **\"Material Adverse Effect\" (MAE)** and **\"Forward-Looking Statements\"** as key concepts for investors.  \n",
      "\n",
      "---\n",
      "\n",
      "#### **4. 2024: Heightened Focus on Cybersecurity and Emerging Tech**  \n",
      "- **Focus Areas**:  \n",
      "  - **Cybersecurity** as the **top priority**, with detailed risks around third-party vulnerabilities, customer deployment lags, and reputational damage.  \n",
      "  - **AI and Emerging Technologies**: Explicit mention of **regulatory uncertainty around AI, data privacy, and encryption**.  \n",
      "  - **Supply Chain Risks**: Implied through geopolitical instability and regulatory controls.  \n",
      "- **New Elements**:  \n",
      "  - **Top 5 Critical Risks**: Cybersecurity, regulatory changes, geopolitical instability, third-party reliance, and AI/data privacy.  \n",
      "  - **Actionable Takeaways**: Added **investor-focused guidance** (e.g., due diligence, scenario planning, risk-adjusted valuation).  \n",
      "\n",
      "---\n",
      "\n",
      "### **Key Evolution Over Time**  \n",
      "| **Year** | **Key Additions/Changes**                                                                 | **Emphasis Shift**                                                                 |\n",
      "|----------|---------------------------------------------------------------------------------------------|-------------------------------------------------------------------------------------|\n",
      "| **2021** | Broad categorization of risks (e.g., operational, financial, legal).                       | Traditional risks (e.g., supply chain, competition).                               |\n",
      "| **2022** | Explicit prioritization of **cybersecurity** and **geopolitical instability**.             | Added **impact levels** and **regulatory expansion** (e.g., export controls).      |\n",
      "| **2023** | Introduction of **ESG risks** and **interconnectedness of risks**.                         | Expanded focus on **global macroeconomic factors** and **product liability**.      |\n",
      "| **2024** | **Cybersecurity as the top risk**, **AI/tech regulatory uncertainty**, and **actionable investor guidance**. | Increased detail on **emerging tech risks** and **investor-focused mitigation strategies**. |\n",
      "\n",
      "---\n",
      "\n",
      "### **Conclusion**  \n",
      "The documents show a **progressive shift from general risk categories to more specific, high-impact areas**. **Cybersecurity** and **geopolitical instability** have become central themes, while **regulatory complexity**, **ESG pressures**, and **AI-related risks** have emerged as critical concerns. The **2024 document** marks a turning point, with a focus on **investor preparedness** and **strategic risk management**. This evolution reflects the company’s growing exposure to **global volatility** and **technological disruption**.\n"
     ]
    },
    {
     "name": "stderr",
     "output_type": "stream",
     "text": [
      "HTTP Request: POST http://10.0.0.4:11434/api/chat \"HTTP/1.1 200 OK\"\n",
      "2025-06-28T11:04:41.689493Z [info     ] Done                           time=69.055010147s\n"
     ]
    },
    {
     "name": "stdout",
     "output_type": "stream",
     "text": [
      "<think>\n",
      "Okay, I need to summarize the historical changes in these documents. Let me look through each of the four filings from 2021 to 2024.\n",
      "\n",
      "Starting with the 2021 document. The key points here are Cisco's focus on digital agility, ESG principles, hybrid work, leadership changes like Maria Martinez becoming COO, and a strong emphasis on diversity and inclusion. The financial performance isn't detailed, but there's mention of ESG initiatives as a long-term commitment.\n",
      "\n",
      "In 2022, the document expands on the ESG commitment, mentioning a specific Purpose Report and the link to their ESG hub. There's more detail on the leadership team, including Charles H. Robbins, R. Scott Herren, Maria Martinez, and Deborah Stahlkopf. The company's purpose is stated as \"Power an Inclusive Future for All,\" and they emphasize conscious culture and employee well-being. The regulatory and legal considerations are also highlighted here, like IP protection and legal proceedings.\n",
      "\n",
      "Moving to 2023, there's a focus on the \"Conscious Culture\" with specific data on employee demographics, such as 29% women and 71% men. The number of employees is around 84,900, and they mention initiatives like \"A Day for Me\" and \"Cisco Check-Ins.\" The ESG reporting is detailed with a Purpose Report and ESG Hub link. Social justice and stakeholder engagement are emphasized more here.\n",
      "\n",
      "In 2024, the document becomes more detailed about Cisco's business model, including a shift towards a subscription-based model, AI integration, and the acquisition of Splunk. The core products and services are listed with more specifics, such as networking, security, collaboration, and observability. The market position is highlighted with competitors like Amazon and Google, and strategic focus on AI, cloud, and sustainability.\n",
      "\n",
      "Now, comparing the years: \n",
      "\n",
      "- 2021: Introduction of ESG, leadership changes, hybrid work.\n",
      "- 2022: Expansion on ESG reporting, detailed leadership backgrounds, purpose statement.\n",
      "- 2023: More data on employee demographics, Conscious Culture initiatives, and stakeholder engagement.\n",
      "- 2024: Emphasis on business model shifts (subscription, AI), specific acquisitions, and detailed product lines.\n",
      "\n",
      "The evolution shows increasing focus on ESG, employee well-being, and technological advancements like AI and cloud. Leadership details became more comprehensive over the years, and the company's strategic moves, such as the Splunk acquisition, were added in 2024. The documents also grew in detail regarding ESG reporting and employee metrics.\n",
      "</think>\n",
      "\n",
      "### **Historical Changes in Cisco's Documents (2021–2024)**\n",
      "\n",
      "#### **1. Strategic Focus & ESG Commitment**  \n",
      "- **2021**:  \n",
      "  - Emphasis on **digital agility**, **cloud-first technology**, and **ESG principles** (sustainability, diversity, social impact).  \n",
      "  - Introduction of **\"Conscious Culture\"** and hybrid work models.  \n",
      "  - Leadership changes (e.g., Maria Martinez as COO, Deborah Stahlkopf as CLO).  \n",
      "\n",
      "- **2022**:  \n",
      "  - Expansion of **ESG reporting** with a dedicated **Purpose Report** and **ESG Hub** link.  \n",
      "  - Reinforcement of **employee well-being** and **conscious culture** as core values.  \n",
      "  - Clarification of **company purpose**: \"Power an Inclusive Future for All.\"  \n",
      "\n",
      "- **2023**:  \n",
      "  - **Data-driven ESG metrics**: Detailed diversity statistics (e.g., 29% women, 50.9% White/Caucasian employees).  \n",
      "  - **Employee initiatives**: \"A Day for Me\" (paid personal day) and \"Cisco Check-Ins\" (2.3M participants).  \n",
      "  - **Stakeholder engagement** emphasized, including social justice and community partnerships.  \n",
      "\n",
      "- **2024**:  \n",
      "  - **AI integration** and **cloud-first strategy** as central to innovation (e.g., AI-powered observability via Splunk acquisition).  \n",
      "  - **Subscription-based revenue model** (software/services) alongside traditional hardware sales.  \n",
      "  - **Sustainability** as a strategic pillar, integrating ESG into operations.  \n",
      "\n",
      "---\n",
      "\n",
      "#### **2. Leadership & Organizational Structure**  \n",
      "- **2021–2022**:  \n",
      "  - Highlighted **leadership diversity** (e.g., Maria Martinez from Salesforce, Deborah Stahlkopf from Microsoft).  \n",
      "  - Role of **Chief Customer & Partner Officer** (Gerri Elliott, Jeff Sharritts) for customer-centric strategies.  \n",
      "\n",
      "- **2023**:  \n",
      "  - **Detailed employee demographics** and **conscious culture metrics** (e.g., 29% women, 71% men).  \n",
      "  - **Leadership stability**: Long-tenured executives (e.g., Charles Robbins, R. Scott Herren).  \n",
      "\n",
      "- **2024**:  \n",
      "  - **Acquisition of Splunk** (enhancing AI and data analytics capabilities).  \n",
      "  - **Geographic segmentation** (Americas, EMEA, APJC) and **competitive landscape** (e.g., Amazon, Google).  \n",
      "\n",
      "---\n",
      "\n",
      "#### **3. Product & Service Evolution**  \n",
      "- **2021–2022**:  \n",
      "  - Focus on **networking, security, and collaboration** (e.g., Webex).  \n",
      "  - Early mention of **cloud and AI** as growth areas.  \n",
      "\n",
      "- **2023**:  \n",
      "  - **Conscious Culture initiatives** (employee development, flexible work).  \n",
      "  - **ESG-linked services** (sustainability, social impact partnerships).  \n",
      "\n",
      "- **2024**:  \n",
      "  - **AI integration** across products (e.g., AI-powered observability via Splunk).  \n",
      "  - **Subscription-based offerings** (software/services) as a revenue driver.  \n",
      "  - **Expanded product lines**: Networking, security, collaboration, observability, and cloud services.  \n",
      "\n",
      "---\n",
      "\n",
      "#### **4. Risk & Regulatory Considerations**  \n",
      "- **2021–2022**:  \n",
      "  - Risks in **IP protection, cybersecurity, and regulatory compliance**.  \n",
      "  - Mention of **legal proceedings** (no specifics).  \n",
      "\n",
      "- **2023–2024**:  \n",
      "  - **Enhanced focus on cybersecurity** (threat intelligence, AI-driven security).  \n",
      "  - **Regulatory alignment** with global standards (privacy, trade).  \n",
      "  - **ESG-related risks** (e.g., sustainability goals, diversity metrics).  \n",
      "\n",
      "---\n",
      "\n",
      "#### **5. Employee & Stakeholder Engagement**  \n",
      "- **2021–2022**:  \n",
      "  - Hybrid work and **employee well-being** as priorities.  \n",
      "  - **Diversity, equity, and inclusion (DEI)** initiatives.  \n",
      "\n",
      "- **2023**:  \n",
      "  - **Data-driven DEI metrics** and **employee engagement tools** (e.g., \"Cisco Check-Ins\").  \n",
      "  - **Conscious Culture** as a strategic pillar.  \n",
      "\n",
      "- **2024**:  \n",
      "  - **Career development** and **employee-owned pathways** emphasized.  \n",
      "  - **Stakeholder engagement** (customers, partners, communities) as a core value.  \n",
      "\n",
      "---\n",
      "\n",
      "### **Key Trends Over Time**  \n",
      "- **ESG**: From foundational commitment (2021) to detailed reporting (2022–2023) and integration into operations (2024).  \n",
      "- **AI/Cloud**: From strategic mention (2021–2022) to AI-powered products (2024) and cloud-first focus.  \n",
      "- **Employee Focus**: Evolved from hybrid work (2021) to data-driven DEI (2023) and career development (2024).  \n",
      "- **Leadership**: Stability in executive roles (e.g., Charles Robbins, Maria Martinez) with expanded backgrounds (2024).  \n",
      "- **Business Model**: Shift from hardware-centric to **subscription-based** (2024) and AI-enhanced services.  \n",
      "\n",
      "This progression reflects Cisco's evolution toward **technology-driven innovation**, **sustainability**, and **employee-centric culture**.\n"
     ]
    }
   ],
   "source": [
    "messages = format_aggregate_messages(mdas)\n",
    "response = get_chat_response(client, MODEL, messages)\n",
    "logger.info(f\"Done\", time=f\"{response.total_duration / 1e9}s\")\n",
    "with open(f'outputs/{TICKER}/mda.md', 'w') as file:\n",
    "    file.write(response.message.content)\n",
    "\n",
    "created_at = response.created_at\n",
    "total_duration = response.total_duration / 1e9\n",
    "content = response.message.content\n",
    "prompt = get_prompt_by_name(\"aggregate_prompt\")\n",
    "\n",
    "completion_data = {\n",
    "    'model': MODEL,\n",
    "    'system_prompt_id': prompt.id,  # Link to the prompt used\n",
    "    'total_duration': total_duration,\n",
    "    'created_at': created_at,\n",
    "    'num_ctx': MODEL_CONFIG[MODEL][\"ctx\"],\n",
    "    'content': content,  # Add the actual response content\n",
    "}\n",
    "completion = create_completion(completion_data)\n",
    "print(f\"Created completion record with ID: {completion.id}\")\n",
    "print(f\"Associated with document: {document.document_name}\")\n",
    "print(f\"Model: {completion.model}, Duration: {completion.total_duration:.2f} seconds\")\n",
    "print(f\"Content length: {len(completion.content) if hasattr(completion, 'content') else 'N/A'} characters\")\n",
    "\n",
    "messages = format_aggregate_messages(risk_factors)\n",
    "response = get_chat_response(client, MODEL, messages)\n",
    "logger.info(f\"Done\", time=f\"{response.total_duration / 1e9}s\")\n",
    "print(response.message.content)\n",
    "with open(f'outputs/{TICKER}/risk_factors.md', 'w') as file:\n",
    "    file.write(response.message.content)\n",
    "\n",
    "messages = format_aggregate_messages(descriptions)\n",
    "response = get_chat_response(client, MODEL, messages)\n",
    "logger.info(f\"Done\", time=f\"{response.total_duration / 1e9}s\")\n",
    "print(response.message.content)\n",
    "with open(f'outputs/{TICKER}/descriptions.md', 'w') as file:\n",
    "    file.write(response.message.content)"
   ]
  },
  {
   "cell_type": "code",
   "execution_count": null,
   "id": "6aea39ae",
   "metadata": {},
   "outputs": [],
   "source": []
  },
  {
   "cell_type": "code",
   "execution_count": 12,
   "id": "546f4a94",
   "metadata": {},
   "outputs": [
    {
     "data": {
      "text/plain": [
       "str"
      ]
     },
     "execution_count": 12,
     "metadata": {},
     "output_type": "execute_result"
    }
   ],
   "source": [
    "type(response.message.content)"
   ]
  },
  {
   "cell_type": "code",
   "execution_count": null,
   "id": "47820f5f",
   "metadata": {},
   "outputs": [],
   "source": [
    "messages = format_aggregate_messages(descriptions)"
   ]
  },
  {
   "cell_type": "code",
   "execution_count": null,
   "id": "9fef0164",
   "metadata": {},
   "outputs": [
    {
     "name": "stderr",
     "output_type": "stream",
     "text": [
      "HTTP Request: POST http://10.0.0.4:11434/api/chat \"HTTP/1.1 200 OK\"\n",
      "2025-06-28T09:45:46.268790Z [info     ] Done                           time=51.980350933s\n"
     ]
    }
   ],
   "source": [
    "models = {\n",
    "    \"gemma3\": {\n",
    "        \"name\": \"gemma3:12b\",\n",
    "        \"ctx\": 12288,\n",
    "        # \"ctx\": 24567,\n",
    "        # \"ctx\": 32768,\n",
    "        # \"ctx\": 65536,\n",
    "        # \"ctx\": 131072,\n",
    "    },\n",
    "    \"qwen3\": {\n",
    "\n",
    "        \"name\": \"qwen3:14b\",\n",
    "        \"ctx\": 8000,\n",
    "        # \"ctx\": 24567,\n",
    "        # \"ctx\": 32768,\n",
    "        # \"ctx\": 65536,\n",
    "        # \"ctx\": 131072,\n",
    "    }\n",
    "}\n"
   ]
  },
  {
   "cell_type": "code",
   "execution_count": null,
   "id": "9254ae13",
   "metadata": {},
   "outputs": [
    {
     "name": "stdout",
     "output_type": "stream",
     "text": [
      "<think>\n",
      "Okay, I need to summarize the historical changes in the provided documents from 2021 to 2025. Let me look through each of the years and note the key points.\n",
      "\n",
      "Starting with the 2021 document. The summary mentions Alphabet's core business model, revenue streams like advertising, Google Services, Google Cloud, and Other Bets. Competitive landscape includes companies like Microsoft, Amazon, etc. Growth strategies focus on AI, cloud expansion, and sustainability. The segments are Google Services, Google Cloud, and Other Bets.\n",
      "\n",
      "In 2022, the structure is similar, but there's more emphasis on AI initiatives like MUM. The \"Other Bets\" are still mentioned as early-stage with potential but uncertainty. Hardware sales include Fitbit and Nest. The competitive landscape lists more companies, like ByteDance and TikTok.\n",
      "\n",
      "2023 adds more details on AI integration and mentions specific products like Gemini. The growth strategy emphasizes AI across all products. The segments are the same, but there's a mention of Pixel devices and sustainability practices.\n",
      "\n",
      "2024 introduces Performance Max as an AI example and Gemini as a model. The competitive landscape now includes AI technology companies. The segments are still Google Services, Google Cloud, and Other Bets, with more focus on AI in cloud services.\n",
      "\n",
      "2025 highlights Gemini as central to AI efforts, mentions sustainability and data privacy. The growth strategy includes \"helpful\" AI applications and mentions Waymo and quantum computing. The segments are the same, but Other Bets now include Waymo specifically.\n",
      "\n",
      "Looking for changes over time: AI becomes more prominent, especially with Gemini and MUM mentioned in later years. The mention of specific AI models and their integration into products. The competitive landscape expands, including more companies in AI. Sustainability and data privacy become more emphasized. The \"Other Bets\" segment evolves, with Waymo being highlighted. Hardware sales include Pixel devices and Fitbit/Nest in earlier years. Cloud services are increasingly tied to AI and sustainability. The growth strategies become more focused on AI and sustainability across all years, but with more detail in later years.\n",
      "\n",
      "I need to structure this into a coherent summary, noting the evolution in each area: AI integration, competitive landscape, key products, growth strategies, segments, and sustainability. Also, the expansion of \"Other Bets\" and the specific mention of Waymo and Gemini in later years.\n",
      "</think>\n",
      "\n",
      "### **Historical Changes in Alphabet Inc. (2021–2025)**\n",
      "\n",
      "#### **1. AI Integration & Innovation**\n",
      "- **2021–2022**: Early emphasis on AI and machine learning (e.g., MUM) as growth drivers, with applications in search and cloud services.  \n",
      "- **2023–2025**: **Gemini**, a multimodal AI model, becomes central to Alphabet’s strategy, powering products like Google Search, YouTube, and cloud services. Focus shifts to \"helpful\" AI applications, with AI integration across all segments (e.g., AI-optimized infrastructure in Google Cloud).\n",
      "\n",
      "#### **2. Competitive Landscape**\n",
      "- **2021–2022**: Mention of competitors like Microsoft, Amazon, and Meta in search, advertising, and cloud markets.  \n",
      "- **2023–2025**: Expanded competition in AI (e.g., AI technology companies) and social media (e.g., TikTok, ByteDance). Regulatory scrutiny on AI, data privacy, and antitrust issues becomes a key challenge.\n",
      "\n",
      "#### **3. Key Products & Services**\n",
      "- **2021–2022**: Core products include Google Search, Android, YouTube, and Google Cloud. Hardware sales (Pixel, Fitbit, Nest) and Google Play are highlighted.  \n",
      "- **2023–2025**: **Gemini** and **Performance Max** (AI-driven ad campaign tool) are introduced. Pixel devices and AI-enhanced tools (e.g., BERT) gain prominence. Sustainability initiatives and climate action are emphasized.\n",
      "\n",
      "#### **4. Growth Strategy**\n",
      "- **2021–2022**: Focus on cloud expansion (Google Cloud), AI research, and \"Other Bets\" (e.g., Waymo, Verily).  \n",
      "- **2023–2025**: **AI-centric growth** becomes central, with investments in quantum computing, autonomous vehicles (Waymo), and sustainability. Emphasis on reducing reliance on advertising revenue through subscriptions (YouTube Premium, Google One) and cloud services.\n",
      "\n",
      "#### **5. Business Segments & Performance**\n",
      "- **2021–2022**: Segments: **Google Services** (advertising, Google Play), **Google Cloud**, and **Other Bets** (early-stage ventures).  \n",
      "- **2023–2025**: **Google Services** remains dominant, driven by advertising and AI-enhanced search/video platforms. **Google Cloud** grows with AI-optimized infrastructure. **Other Bets** includes **Waymo** (autonomous vehicles) and quantum computing projects, representing long-term, high-risk investments.\n",
      "\n",
      "#### **6. Sustainability & Corporate Responsibility**\n",
      "- **2021–2022**: Mentioned as a strategic goal.  \n",
      "- **2023–2025**: Deepened focus on **net-zero emissions**, circular economy practices, and **data privacy** as core priorities, aligning with global climate and regulatory trends.\n",
      "\n",
      "### **Summary of Evolution**\n",
      "- **AI** transitions from a supporting technology to a **core driver** of innovation and competitive advantage.  \n",
      "- **Google Cloud** evolves from a growth area to a **strategic pillar**, integrated with AI and sustainability.  \n",
      "- **Other Bets** expands to include **Waymo** and quantum computing, reflecting long-term bets on transformative technologies.  \n",
      "- **Sustainability** becomes a **central theme**, influencing product development and corporate strategy.  \n",
      "- **Competitive landscape** broadens to include AI-focused rivals and regulatory challenges, necessitating a more holistic approach to innovation and compliance.\n"
     ]
    }
   ],
   "source": []
  },
  {
   "cell_type": "code",
   "execution_count": null,
   "id": "b06cf453",
   "metadata": {},
   "outputs": [
    {
     "name": "stderr",
     "output_type": "stream",
     "text": [
      "HTTP Request: POST http://10.0.0.4:11434/api/chat \"HTTP/1.1 200 OK\"\n",
      "2025-06-28T09:51:00.215778Z [info     ] Done                           time=51.980350933s\n"
     ]
    },
    {
     "name": "stdout",
     "output_type": "stream",
     "text": [
      "<think>\n",
      "Okay, so the user has provided a series of documents from Alphabet Inc. spanning from 2021 to 2025, each detailing different aspects of the company's financial performance, accounting policies, legal issues, and strategic initiatives. My task is to summarize the historical changes in these documents. Let me start by going through each document one by one to identify the key points and track how they've evolved over time.\n",
      "\n",
      "Starting with the 2021 document. The main points here are the company's substantial cash reserves, share repurchases, and the impact of the pandemic. They also mention the issuance of Sustainability Bonds. The key areas covered are financial strength, capital allocation, and the effect of the pandemic on operations.\n",
      "\n",
      "Moving to 2022, the focus shifts to the leadership team's assessment. The MD&A section discusses transparency, strategic thinking, execution capabilities, and risk awareness. They acknowledge challenges like the pandemic's impact on ad revenue and legal issues, but there's a note about needing more detailed explanations on strategic responses and AI-related risks.\n",
      "\n",
      "In 2023, the financial performance shows slowing revenue growth and a decrease in operating income, which is attributed to macroeconomic factors and a tough ad market. The accounting areas highlight the change in depreciation life of servers to six years, which affects depreciation expense. Legal issues with the European Commission and antitrust scrutiny are ongoing, and there's an emphasis on AI and cloud computing as future directions.\n",
      "\n",
      "The 2024 document mentions strong financial performance with increased segment operating income, especially in Google Cloud which turned profitable. They also talk about AI investment, sustainability goals linked to interest rates, and the introduction of a dividend program. Legal challenges with the European Commission continue, with some fines upheld and others overturned.\n",
      "\n",
      "Finally, the 2025 document shows continued strong financials, with even more aggressive share repurchases and a new dividend program. Google Cloud is thriving, and there's a commitment to AI and renewable energy. Legal battles with the EU are ongoing, but some fines have been reduced or overturned. The document also details significant cash reserves, capital expenditures, and the expiration of credit facilities.\n",
      "\n",
      "Now, to summarize the historical changes. From 2021 to 2025, Alphabet's financial position has remained strong, with consistent cash reserves and share repurchases. However, revenue growth slowed post-2021, possibly due to macroeconomic factors. The company's focus on AI and cloud computing became more pronounced over the years. Legal issues with the European Commission were a recurring theme, with some fines being upheld, reduced, or overturned. Accounting policies, particularly depreciation estimates, evolved, especially in 2023 with the change to a six-year useful life for servers. The introduction of a dividend program in 2024 and 2025 marks a new strategy in capital allocation. Sustainability efforts and renewable energy commitments also became more explicit over time. Legal and regulatory risks remained a consistent concern, with ongoing antitrust issues and potential financial exposures from lawsuits.\n",
      "\n",
      "I need to make sure I capture these changes accurately, highlighting the trends and specific milestones each year. Also, note the shift from a focus on share repurchases to including dividends as a capital allocation strategy. The evolution of Google Cloud from a loss-making segment to profitability is another key point. The handling of legal challenges with the EU and the impact on financial statements should be emphasized. Finally, the increasing emphasis on AI as a strategic priority and sustainability initiatives ties into the company's long-term goals.\n",
      "</think>\n",
      "\n",
      "### **Summary of Historical Changes in Alphabet Inc. Documents (2021–2025)**\n",
      "\n",
      "#### **1. Financial Performance & Capital Allocation**\n",
      "- **2021–2023:**  \n",
      "  - **Cash Reserves:** Alphabet maintained robust liquidity, with cash reserves of **$136.7B (2021)**, **$95.7B (2025)**, and significant short-term marketable securities.  \n",
      "  - **Share Repurchases:** Aggressive repurchase programs were a key strategy, with **$31.1B (2020)**, **$59.3B (2022)**, and **$62B (2024)** executed.  \n",
      "  - **Dividend Program:** Introduced in **2024**, marking a shift toward returning capital to shareholders beyond repurchases.  \n",
      "\n",
      "- **2024–2025:**  \n",
      "  - **Dividend Program:** Formalized as a new capital allocation strategy, signaling long-term confidence in profitability.  \n",
      "  - **Google Cloud:** Transitioned from losses to **profitability (2023–2024)**, becoming a strategic growth driver.  \n",
      "  - **AI Investments:** Steady increase in capital expenditures for AI infrastructure and cloud services.  \n",
      "\n",
      "---\n",
      "\n",
      "#### **2. Revenue Trends & Market Challenges**\n",
      "- **2021–2022:**  \n",
      "  - **Pandemic Impact:** Initial decline in advertising revenue (2020) was followed by recovery, but **2022** noted **slowing growth** due to macroeconomic headwinds and a challenging ad market.  \n",
      "\n",
      "- **2023–2025:**  \n",
      "  - **Slowing Revenue Growth:** Continued weakening in the advertising market, though core services (e.g., Google Ads) remained resilient.  \n",
      "  - **Google Cloud:** Emerged as a **profitable segment (2023–2024)**, reflecting maturation of the business.  \n",
      "  - **\"Other Bets\" (Moonshot Projects):** Continued losses, but Alphabet emphasized long-term potential.  \n",
      "\n",
      "---\n",
      "\n",
      "#### **3. Accounting Policies & Estimates**\n",
      "- **2021–2023:**  \n",
      "  - **Depreciation Life Adjustment:** In **2021**, useful lives of servers/network equipment were revised to **6 years**, reducing depreciation expense by **$3.4B (2023)**.  \n",
      "  - **Uncertain Tax Positions:** Ongoing challenges with global tax liabilities, including a **$2.7B one-time transition tax (TCJA, 2017)**.  \n",
      "  - **Fair Value Measurements:** Subjectivity in valuing non-marketable equity investments.  \n",
      "\n",
      "- **2024–2025:**  \n",
      "  - **Depreciation Life:** The 6-year estimate remained in place, impacting financial statements.  \n",
      "  - **Tax Liabilities:** **$8.8B in long-term taxes payable (2025)**, reflecting unresolved tax disputes (e.g., EU fines, OECD reforms).  \n",
      "\n",
      "---\n",
      "\n",
      "#### **4. Legal & Regulatory Risks**\n",
      "- **2021–2022:**  \n",
      "  - **European Commission Fines:** Ongoing antitrust litigation, with **€2.4B (2017)**, **€4.1B (2018)**, and **€1.5B (2019)** fines. Some appeals were successful (e.g., **2019 fine overturned**).  \n",
      "  - **Privacy & Content Liability:** Ongoing lawsuits related to data security, user-generated content, and antitrust scrutiny.  \n",
      "\n",
      "- **2023–2025:**  \n",
      "  - **EU Fine Appeals:** **2019 fine overturned**, but **2017 fine upheld**. Alphabet continued to appeal, with potential for further legal battles.  \n",
      "  - **Antitrust Scrutiny:** Increased global focus on competition issues, with potential for **material financial exposure**.  \n",
      "\n",
      "---\n",
      "\n",
      "#### **5. Strategic Priorities & Long-Term Initiatives**\n",
      "- **2021–2023:**  \n",
      "  - **AI Focus:** Emerged as a strategic priority, with investments in cloud infrastructure and R&D.  \n",
      "  - **Sustainability Bonds:** **$10B issued (2021)** to fund environmentally and socially responsible projects.  \n",
      "\n",
      "- **2024–2025:**  \n",
      "  - **AI Expansion:** Central to growth, with **significant capital expenditures** for AI-driven products and services.  \n",
      "  - **Renewable Energy Commitments:** Tied to **credit facility interest rates (2025)**, incentivizing sustainability goals.  \n",
      "  - **Cloud Computing:** Continued emphasis on **Google Cloud's profitability** and market expansion.  \n",
      "\n",
      "---\n",
      "\n",
      "#### **6. Key Milestones & Shifts**\n",
      "- **2021:**  \n",
      "  - Introduction of **Sustainability Bonds**.  \n",
      "  - Recognition of **6-year depreciation life** for servers/network equipment.  \n",
      "\n",
      "- **2022:**  \n",
      "  - **Leadership transparency** acknowledged challenges (e.g., legal risks, pandemic impact).  \n",
      "  - **Call for more detailed strategic responses** to emerging risks (e.g., AI ethics).  \n",
      "\n",
      "- **2023:**  \n",
      "  - **Google Cloud profitability** achieved.  \n",
      "  - **Slowing revenue growth** and **increased legal exposure** highlighted.  \n",
      "\n",
      "- **2024:**  \n",
      "  - **Dividend program introduced**, signaling a new capital allocation strategy.  \n",
      "  - **AI and cloud as strategic pillars** reinforced.  \n",
      "\n",
      "- **2025:**  \n",
      "  - **$62B share repurchases** and **dividend payouts**.  \n",
      "  - **EU fines partially resolved**, but **long-term tax liabilities** remain.  \n",
      "  - **Sustainability-linked financing** formalized.  \n",
      "\n",
      "---\n",
      "\n",
      "### **Key Themes Over Time**\n",
      "1. **Financial Resilience:** Consistent cash reserves and aggressive capital returns (repurchases + dividends).  \n",
      "2. **Strategic Shifts:** From \"Other Bets\" to **AI/cloud** as core growth drivers.  \n",
      "3. **Legal Challenges:** Persistent antitrust and tax disputes with the EU, though some fines were overturned.  \n",
      "4. **Accounting Transparency:** Ongoing emphasis on **judgment in estimates** (depreciation, tax, fair value).  \n",
      "5. **Sustainability:** Increasing alignment of **business strategy with ESG goals** (e.g., renewable energy, sustainability bonds).  \n",
      "\n",
      "This evolution reflects Alphabet's adaptation to macroeconomic pressures, legal risks, and the strategic pivot toward AI and cloud computing as long-term growth engines.\n"
     ]
    }
   ],
   "source": [
    "messages = format_aggregate_messages(mdas)\n",
    "response = get_chat_response(\"qwen3\", messages)\n",
    "logger.info(f\"Done\", time=f\"{response.total_duration / 1e9}s\")\n",
    "print(response.message.content)"
   ]
  },
  {
   "cell_type": "code",
   "execution_count": null,
   "id": "27bf13b7",
   "metadata": {},
   "outputs": [
    {
     "name": "stderr",
     "output_type": "stream",
     "text": [
      "HTTP Request: POST http://10.0.0.4:11434/api/chat \"HTTP/1.1 200 OK\"\n",
      "2025-06-28T09:53:21.852202Z [info     ] Done                           time=51.980350933s\n"
     ]
    },
    {
     "name": "stdout",
     "output_type": "stream",
     "text": [
      "<think>\n",
      "Okay, let's see. The user provided several documents from different years (2021 to 2025) that outline the risk factors for Alphabet (Google). They want a summary of the historical changes in these documents.\n",
      "\n",
      "First, I need to compare the different years to identify trends and changes in the risk factors mentioned. Let me go through each document one by one.\n",
      "\n",
      "Starting with 2021: The main categories are Macroeconomic & Regulatory Risks, Business & Operational Risks, Financial Risks, and Company-Specific Risks. Key points include the impact of COVID-19, tax changes, regulatory scrutiny, reliance on key personnel, and dependence on advertising revenue.\n",
      "\n",
      "In 2022, the structure is similar but more detailed. They mention antitrust investigations, data privacy regulations, and the implications of these risks. The emphasis on legal challenges and the complexity of Alphabet's operations is more pronounced. Also, the mention of \"Safe Harbor\" dependencies and content liability on YouTube is new here.\n",
      "\n",
      "2023's document adds more specific risks like the \"Safe Harbor\" under Section 230, AI and emerging technologies, and more emphasis on cybersecurity. The regulatory scrutiny is still a major point, but now with specific examples like GDPR and CCPA. Also, the mention of \"concentrated voting power\" and lack of key-person insurance is highlighted.\n",
      "\n",
      "2024's document expands on financial risks, including volatility in stock price, debt, and tax risks. Legal and regulatory risks are still top, but with more details on ESG (Environmental, Social, Governance) risks. The impact of economic downturns and geopolitical instability is mentioned again, along with the reliance on advertising revenue.\n",
      "\n",
      "2025's document has similar categories but adds more about hybrid work models, immigration policy changes, and corporate governance provisions. The antitrust scrutiny is still a major point, but with ongoing litigation mentioned. Also, there's a focus on indemnification obligations and debt levels.\n",
      "\n",
      "Now, looking for changes over time. The most significant trend is the increasing emphasis on regulatory and legal risks, especially antitrust and data privacy. From 2021 to 2025, these risks are not only mentioned more but also expanded with specific examples and implications. For example, in 2021, it was general regulatory scrutiny; by 2023, it's specific to antitrust and data privacy laws. By 2025, the ongoing litigation and potential penalties are highlighted.\n",
      "\n",
      "Another change is the inclusion of new risks like AI and emerging technologies in 2023, which weren't as prominent before. Also, ESG risks become more prominent in 2024, showing the growing importance of sustainability and governance issues.\n",
      "\n",
      "The mention of \"Safe Harbor\" under Section 230 appears in 2022 and 2023, indicating a growing concern about legal protections for platforms. In 2025, there's a focus on immigration policy affecting talent, which wasn't present in earlier years.\n",
      "\n",
      "Financial risks also evolve from general volatility to more specific points like debt levels and indemnification obligations in later years. The 2025 document also mentions corporate governance provisions that hinder takeovers, which was a new point.\n",
      "\n",
      "I need to structure the summary to show these changes over time, highlighting the expansion of regulatory risks, new areas like AI and ESG, and the increasing specificity in legal challenges. Also, note the growing emphasis on operational risks related to hybrid work and talent retention.\n",
      "</think>\n",
      "\n",
      "### **Historical Evolution of Risk Factors in Alphabet's Documents (2021–2025)**\n",
      "\n",
      "#### **1. Regulatory & Legal Risks: Escalating Complexity and Scrutiny**\n",
      "- **2021–2022:** General mention of **antitrust investigations** and **data privacy regulations** (e.g., GDPR, CCPA), with a focus on potential fines, operational restrictions, and compliance costs.  \n",
      "- **2023–2025:** **Deepened emphasis** on antitrust litigation (e.g., DOJ, state-level cases), **Section 230 \"safe harbor\"** protections (critical to YouTube’s liability shield), and **AI/ML ethical risks**. By 2025, **ongoing litigation** and **potential divestitures** are explicitly highlighted.  \n",
      "  - **Key shift:** From general regulatory pressure to **specific legal battles** (e.g., antitrust, content liability, IP disputes) and **increasingly strict compliance mandates**.\n",
      "\n",
      "---\n",
      "\n",
      "#### **2. Technological & Innovation Risks: Emergence of AI and Cybersecurity**\n",
      "- **2021–2022:** Broad focus on **technology innovation**, **cybersecurity**, and **data breaches**.  \n",
      "- **2023–2025:**  \n",
      "  - **AI/ML risks** become a standalone category, emphasizing **ethical concerns**, **regulatory hurdles**, and **technological obsolescence**.  \n",
      "  - **Cybersecurity** is reiterated as a critical risk due to the scale of user data handled.  \n",
      "  - **Content moderation** (e.g., YouTube) and **Section 230** risks dominate, reflecting growing legal exposure from user-generated content.\n",
      "\n",
      "---\n",
      "\n",
      "#### **3. Macroeconomic & Geopolitical Risks: From Pandemic to ESG**\n",
      "- **2021:** Primary focus on **post-pandemic uncertainty**, **economic cycles**, and **geopolitical instability** (trade tensions, wars).  \n",
      "- **2024–2025:**  \n",
      "  - **ESG (Environmental, Social, Governance) risks** emerge as a major concern, including **carbon footprint**, **diversity initiatives**, and **investor expectations**.  \n",
      "  - **Immigration policy changes** (e.g., H-1B visa restrictions) are added as a risk to **global talent acquisition**.  \n",
      "  - **Economic downturns** and **advertising revenue volatility** remain persistent themes.\n",
      "\n",
      "---\n",
      "\n",
      "#### **4. Operational & Business Model Risks: Expansion of Hybrid Work and Integration Challenges**\n",
      "- **2021–2022:** Risks related to **key personnel dependency**, **acquisition integration**, and **competition** in advertising/cloud services.  \n",
      "- **2023–2025:**  \n",
      "  - **Hybrid work models** are explicitly flagged as a risk due to **costs**, **culture erosion**, and **productivity challenges**.  \n",
      "  - **Acquisition/strategic partnership risks** are expanded to include **management distraction**, **cultural clashes**, and **indemnification obligations**.  \n",
      "  - **Reliance on advertising revenue** remains a core vulnerability, compounded by **advertiser spending shifts** and **digital ad saturation**.\n",
      "\n",
      "---\n",
      "\n",
      "#### **5. Corporate Governance & Ownership Risks: Concentration of Power and Shareholder Influence**\n",
      "- **2021–2022:** Mention of **concentrated voting power** (Page/Brin) and **lack of key-person insurance**.  \n",
      "- **2025:**  \n",
      "  - **Corporate governance provisions** (e.g., anti-takeover clauses) are highlighted as barriers to **shareholder influence**.  \n",
      "  - **Share repurchase/dividend programs** are noted as potential risks to **cash reserves** and **stock volatility**.\n",
      "\n",
      "---\n",
      "\n",
      "### **Key Trends Over Time**\n",
      "1. **Regulatory Scrutiny Escalates:** From broad \"antitrust and data privacy\" mentions (2021) to **specific litigation** and **Section 230 erosion** (2023–2025).  \n",
      "2. **AI/ML Risks Emerge:** A new category in 2023, reflecting Alphabet’s growing focus on **AI innovation** and associated **ethical/legal challenges**.  \n",
      "3. **ESG Risks Become Central:** By 2024, **sustainability** and **governance** are explicitly tied to **investor sentiment** and **reputational damage**.  \n",
      "4. **Hybrid Work & Talent Risks:** A 2023 addition, emphasizing the **long-term impact** of remote/hybrid models on **culture** and **retention**.  \n",
      "5. **Integration Complexity:** Acquisitions are framed as **double-edged swords**, with **increasingly detailed risks** (e.g., cultural clashes, indemnification).\n",
      "\n",
      "---\n",
      "\n",
      "### **Conclusion: Alphabet’s Risk Landscape Evolves with Time**\n",
      "- **From 2021 to 2025**, risks have shifted from **macroeconomic and operational** concerns to **legal/ethical challenges** (antitrust, AI, ESG) and **complexity in scaling operations** (hybrid work, integration).  \n",
      "- **Regulatory and governance risks** have become **more specific and systemic**, reflecting **heightened global scrutiny** and **increasingly stringent compliance expectations**.  \n",
      "- **Technology-driven risks** (AI, cybersecurity) and **ESG pressures** are now **core to Alphabet’s strategic planning**, alongside traditional operational and financial concerns.\n"
     ]
    }
   ],
   "source": [
    "messages = format_aggregate_messages(risk_factors)\n",
    "response = get_chat_response(\"qwen3\", messages)\n",
    "logger.info(f\"Done\", time=f\"{response.total_duration / 1e9}s\")\n",
    "print(response.message.content)"
   ]
  },
  {
   "cell_type": "code",
   "execution_count": null,
   "id": "42f43465",
   "metadata": {},
   "outputs": [],
   "source": [
    "response"
   ]
  },
  {
   "cell_type": "code",
   "execution_count": null,
   "id": "a6662f01",
   "metadata": {},
   "outputs": [],
   "source": []
  }
 ],
 "metadata": {
  "kernelspec": {
   "display_name": ".venv",
   "language": "python",
   "name": "python3"
  },
  "language_info": {
   "codemirror_mode": {
    "name": "ipython",
    "version": 3
   },
   "file_extension": ".py",
   "mimetype": "text/x-python",
   "name": "python",
   "nbconvert_exporter": "python",
   "pygments_lexer": "ipython3",
   "version": "3.13.2"
  }
 },
 "nbformat": 4,
 "nbformat_minor": 5
}
