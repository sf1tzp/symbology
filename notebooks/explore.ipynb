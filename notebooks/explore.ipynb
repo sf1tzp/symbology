{
 "cells": [
  {
   "cell_type": "code",
   "execution_count": 4,
   "id": "76235431",
   "metadata": {},
   "outputs": [
    {
     "name": "stdout",
     "output_type": "stream",
     "text": [
      "\u001b[2m2025-07-16 22:35:28\u001b[0m [\u001b[32m\u001b[1minfo     \u001b[0m] \u001b[1mdatabase_initialized          \u001b[0m \u001b[36mstatus\u001b[0m=\u001b[35msuccess\u001b[0m\n"
     ]
    }
   ],
   "source": [
    "from src.database.base import init_db, get_db_session\n",
    "from src.utils.config import settings\n",
    "\n",
    "\n",
    "import matplotlib.pyplot as plt\n",
    "\n",
    "from src.database.financial_concepts import FinancialConcept\n",
    "import pandas as pd\n",
    "from src.database.filings import get_filings_by_company\n",
    "from src.database.companies import get_company_by_ticker\n",
    "from src.database.financial_values import FinancialValue\n",
    "init_db(settings.database.url)\n",
    "session = get_db_session()\n"
   ]
  },
  {
   "cell_type": "code",
   "execution_count": 5,
   "id": "ac4e9cd4",
   "metadata": {},
   "outputs": [],
   "source": [
    "\n",
    "\n",
    "# Query all financial concepts and convert to DataFrame\n",
    "financial_concepts = session.query(FinancialConcept).all()\n",
    "\n",
    "# Convert to list of dictionaries\n",
    "concepts_data = []\n",
    "for concept in financial_concepts:\n",
    "    concept_dict = {column.name: getattr(concept, column.name) for column in concept.__table__.columns}\n",
    "    concepts_data.append(concept_dict)\n",
    "\n",
    "# Create DataFrame\n",
    "df = pd.DataFrame(concepts_data)"
   ]
  },
  {
   "cell_type": "code",
   "execution_count": 3,
   "id": "2fa6a317",
   "metadata": {},
   "outputs": [
    {
     "name": "stdout",
     "output_type": "stream",
     "text": [
      "\u001b[2m2025-07-16 22:24:45\u001b[0m [\u001b[32m\u001b[1minfo     \u001b[0m] \u001b[1mretrieved_company_by_ticker   \u001b[0m \u001b[36mcompany_id\u001b[0m=\u001b[35m0685e2b2-ba5f-73a8-8000-6d5063ab6d43\u001b[0m \u001b[36mticker\u001b[0m=\u001b[35mMSFT\u001b[0m\n",
      "Found Microsoft: <Company(id=0685e2b2-ba5f-73a8-8000-6d5063ab6d43, name='MICROSOFT CORP', cik='789019')>\n",
      "\u001b[2m2025-07-16 22:24:45\u001b[0m [\u001b[32m\u001b[1minfo     \u001b[0m] \u001b[1mretrieved_filings_by_company  \u001b[0m \u001b[36mcompany_id\u001b[0m=\u001b[35m0685e2b2-ba5f-73a8-8000-6d5063ab6d43\u001b[0m \u001b[36mcount\u001b[0m=\u001b[35m4\u001b[0m\n",
      "Found 2024 10-K filing: <Filing(id=0685e2b5-ff23-739b-8000-30f51ca878b7, company_id=0685e2b2-ba5f-73a8-8000-6d5063ab6d43, accession_number='0000950170-24-087843')>\n",
      "Filing Date: 2024-07-30\n",
      "Accession Number: 0000950170-24-087843\n",
      "Period of Report: 2024-06-30\n"
     ]
    }
   ],
   "source": [
    "\n",
    "\n",
    "# Get Microsoft company\n",
    "msft_company = get_company_by_ticker('MSFT')\n",
    "if msft_company:\n",
    "    print(f\"Found Microsoft: {msft_company}\")\n",
    "\n",
    "    # Get all filings for Microsoft\n",
    "    msft_filings = get_filings_by_company(msft_company.id)\n",
    "\n",
    "    # Filter for 2024 10-K filings\n",
    "    msft_2024_10k = [filing for filing in msft_filings\n",
    "                     if filing.filing_type == '10-K' and filing.filing_date.year == 2024]\n",
    "\n",
    "    if msft_2024_10k:\n",
    "        filing = msft_2024_10k[0]  # Get the first (likely only) 2024 10-K\n",
    "        print(f\"Found 2024 10-K filing: {filing}\")\n",
    "        print(f\"Filing Date: {filing.filing_date}\")\n",
    "        print(f\"Accession Number: {filing.accession_number}\")\n",
    "        print(f\"Period of Report: {filing.period_of_report}\")\n",
    "    else:\n",
    "        print(\"No 2024 10-K filing found for Microsoft\")\n",
    "        # Show available filings for context\n",
    "        print(f\"Available filings: {len(msft_filings)}\")\n",
    "        for filing in msft_filings[:5]:  # Show first 5 filings\n",
    "            print(f\"  {filing.filing_type} - {filing.filing_date}\")\n",
    "else:\n",
    "    print(\"Microsoft (MSFT) not found in database\")"
   ]
  },
  {
   "cell_type": "code",
   "execution_count": null,
   "id": "cc9bc048",
   "metadata": {},
   "outputs": [],
   "source": [
    "\n",
    "\n",
    "# Query all financial values for the Microsoft 2024 10-K filing\n",
    "financial_values = session.query(FinancialValue).filter(\n",
    "    FinancialValue.filing_id == filing.id\n",
    ").join(FinancialConcept).all()\n",
    "\n",
    "# Convert to list of dictionaries with concept name, description, and value\n",
    "values_data = []\n",
    "for fv in financial_values:\n",
    "    values_data.append({\n",
    "        'concept_name': fv.concept.name,\n",
    "        'description': fv.concept.description,\n",
    "        'value': fv.value\n",
    "    })\n",
    "\n",
    "# Create DataFrame\n",
    "values_df = pd.DataFrame(values_data)\n",
    "print(f\"Found {len(values_df)} financial values for Microsoft 2024 10-K filing\")\n",
    "values_df.head(10)"
   ]
  },
  {
   "cell_type": "code",
   "execution_count": null,
   "id": "e6ad6e6c",
   "metadata": {},
   "outputs": [],
   "source": [
    "\n",
    "\n",
    "company = get_company_by_ticker(\"GOOGL\")\n",
    "all_filings = get_filings_by_company(company.id)\n",
    "\n",
    "\n",
    "# Get all financial values with their concepts and filing dates\n",
    "time_series_data = []\n",
    "for filing in all_filings:\n",
    "    filing_year = filing.filing_date.year\n",
    "    financial_values = session.query(FinancialValue).filter(\n",
    "        FinancialValue.filing_id == filing.id\n",
    "    ).join(FinancialConcept).all()\n",
    "\n",
    "    for fv in financial_values:\n",
    "        time_series_data.append({\n",
    "            'concept_name': fv.concept.name,\n",
    "            'description': fv.concept.description,\n",
    "            'value': fv.value,\n",
    "            'filing_year': filing_year,\n",
    "            'filing_date': filing.filing_date\n",
    "        })\n",
    "\n",
    "# Create DataFrame\n",
    "time_series_df = pd.DataFrame(time_series_data)\n",
    "\n",
    "# Pivot to get years as columns\n",
    "if not time_series_df.empty:\n",
    "    pivot_df = time_series_df.pivot_table(\n",
    "        index=['concept_name', 'description'],\n",
    "        columns='filing_year',\n",
    "        values='value',\n",
    "        aggfunc='first'\n",
    "    ).reset_index()\n",
    "\n",
    "    # Clean up column names\n",
    "    pivot_df.columns.name = None\n",
    "    year_columns = [col for col in pivot_df.columns if isinstance(col, int)]\n",
    "    other_columns = [col for col in pivot_df.columns if not isinstance(col, int)]\n",
    "\n",
    "    print(f\"Found financial data across {len(year_columns)} years: {sorted(year_columns)}\")\n",
    "    print(f\"Total concepts: {len(pivot_df)}\")\n",
    "    pivot_df.head()\n"
   ]
  },
  {
   "cell_type": "code",
   "execution_count": null,
   "id": "f53ed38f",
   "metadata": {},
   "outputs": [],
   "source": [
    "pivot_df"
   ]
  },
  {
   "cell_type": "code",
   "execution_count": null,
   "id": "89d99f77",
   "metadata": {},
   "outputs": [],
   "source": [
    "\n",
    "# Get the first 3 concepts from pivot_df\n",
    "first_3_concepts = pivot_df[pivot_df['concept_name'].str.startswith('us-gaap')].head(3)\n",
    "\n",
    "# Set up the plot\n",
    "fig, axes = plt.subplots(1, 3, figsize=(15, 5))\n",
    "\n",
    "# Plot each concept\n",
    "for i, (idx, row) in enumerate(first_3_concepts.iterrows()):\n",
    "    concept_name = row['concept_name']\n",
    "    description = row['description']\n",
    "\n",
    "    # Get year columns and their values\n",
    "    years = [2021, 2022, 2023, 2024]\n",
    "    values = [float(row[year]) if pd.notna(row[year]) else 0 for year in years]\n",
    "\n",
    "    # Create the plot\n",
    "    axes[i].plot(years, values, marker='o', linewidth=2, markersize=6)\n",
    "    axes[i].set_title(f\"{description}\\n({concept_name})\", fontsize=10)\n",
    "    axes[i].set_xlabel('Year')\n",
    "    axes[i].set_ylabel('Value')\n",
    "    axes[i].grid(True, alpha=0.3)\n",
    "\n",
    "    # Format y-axis to show values in billions\n",
    "    axes[i].yaxis.set_major_formatter(plt.FuncFormatter(lambda x, p: f'${x/1e9:.1f}B'))\n",
    "\n",
    "plt.tight_layout()\n",
    "plt.show()"
   ]
  },
  {
   "cell_type": "code",
   "execution_count": null,
   "id": "b61bcfe7",
   "metadata": {},
   "outputs": [],
   "source": []
  }
 ],
 "metadata": {
  "kernelspec": {
   "display_name": "symbology",
   "language": "python",
   "name": "python3"
  },
  "language_info": {
   "codemirror_mode": {
    "name": "ipython",
    "version": 3
   },
   "file_extension": ".py",
   "mimetype": "text/x-python",
   "name": "python",
   "nbconvert_exporter": "python",
   "pygments_lexer": "ipython3",
   "version": "3.13.2"
  }
 },
 "nbformat": 4,
 "nbformat_minor": 5
}
