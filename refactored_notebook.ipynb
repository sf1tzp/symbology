{
 "cells": [
  {
   "cell_type": "markdown",
   "id": "21aa2475",
   "metadata": {},
   "source": [
    "# Refactored Analysis Pipeline\n",
    "\n",
    "This notebook demonstrates the simplified API for processing company documents using the refactored functions.\n",
    "It processes all companies in the database automatically."
   ]
  },
  {
   "cell_type": "code",
   "execution_count": 1,
   "id": "3d3e62fb",
   "metadata": {},
   "outputs": [
    {
     "name": "stderr",
     "output_type": "stream",
     "text": [
      "2025-06-29T20:07:22.317393Z [info     ] database_initialized           status=success\n",
      "HTTP Request: GET http://10.0.0.4:11434/api/ps \"HTTP/1.1 200 OK\"\n",
      "2025-06-29T20:07:22.332373Z [info     ] System initialized successfully\n"
     ]
    }
   ],
   "source": [
    "# Import the refactored modules\n",
    "from src.database.base import init_db\n",
    "from src.database.companies import get_all_company_tickers\n",
    "from src.llm.client import init_client\n",
    "from src.llm.completions import (\n",
    "    process_company_document_completions,\n",
    "    get_completion_results_by_type\n",
    ")\n",
    "from src.llm.aggregations import (\n",
    "    process_all_aggregates,\n",
    "    generate_company_summary,\n",
    "    generate_aggregate_summaries,\n",
    "    verify_company_summary,\n",
    "    get_aggregates_summary_report\n",
    ")\n",
    "from src.database.documents import DocumentType\n",
    "from src.utils.config import settings\n",
    "from src.utils.logging import configure_logging, get_logger\n",
    "\n",
    "# Initialize components\n",
    "configure_logging()\n",
    "logger = get_logger(name=\"refactored_notebook\")\n",
    "_, _ = init_db(settings.database.url)\n",
    "client = init_client(settings.openai_api.url)\n",
    "_ = client.ps()\n",
    "logger.info(\"System initialized successfully\")"
   ]
  },
  {
   "cell_type": "code",
   "execution_count": 2,
   "id": "cbff59b9",
   "metadata": {},
   "outputs": [
    {
     "name": "stderr",
     "output_type": "stream",
     "text": [
      "2025-06-29T20:07:22.352027Z [info     ] retrieved_all_company_tickers  count=121\n"
     ]
    },
    {
     "name": "stdout",
     "output_type": "stream",
     "text": [
      "Found 121 tickers in database: ['AAL', 'AAPL', 'ACHR', 'ACHR-WT', 'AES', 'AGNC', 'AGNCL', 'AGNCM', 'AGNCN', 'AGNCO']...\n"
     ]
    }
   ],
   "source": [
    "# Configuration\n",
    "DOC_MODEL = \"qwen3:4b\"  # smaller model w/ larger context\n",
    "AGGREGATE_MODEL = \"qwen3:14b\"\n",
    "\n",
    "# Get all tickers from the database\n",
    "ALL_TICKERS = get_all_company_tickers()\n",
    "print(f\"Found {len(ALL_TICKERS)} tickers in database: {ALL_TICKERS[:10]}{'...' if len(ALL_TICKERS) > 10 else ''}\")\n",
    "\n",
    "if not ALL_TICKERS:\n",
    "    print(\"No tickers found in database. Please ingest some companies first.\")\n",
    "    raise SystemExit(\"No companies to process\")"
   ]
  },
  {
   "cell_type": "markdown",
   "id": "e3ce85fc",
   "metadata": {},
   "source": [
    "## Processing All Companies\n",
    "\n",
    "The following cells will process each company in the database through the complete pipeline:\n",
    "1. Process document completions\n",
    "2. Create aggregates\n",
    "3. Generate company summary\n",
    "4. Generate individual aggregate summaries\n",
    "5. Display summary report"
   ]
  },
  {
   "cell_type": "code",
   "execution_count": null,
   "id": "64eb62a5",
   "metadata": {},
   "outputs": [
    {
     "name": "stderr",
     "output_type": "stream",
     "text": [
      "2025-06-29T20:07:22.358811Z [info     ] Starting document completion processing for AAL\n",
      "2025-06-29T20:07:22.360522Z [info     ] retrieved_company_by_ticker    company_id=0685e254-6216-7004-8000-4640e4671663 ticker=AAL\n",
      "2025-06-29T20:07:22.362100Z [info     ] retrieved_filings_by_company   company_id=0685e254-6216-7004-8000-4640e4671663 count=5\n",
      "2025-06-29T20:07:22.364886Z [info     ] retrieved_documents_by_filing  count=3 filing_id=0685e254-bb4f-72cd-8000-6533e481df8d\n",
      "2025-06-29T20:07:22.365247Z [info     ] Starting Chat for AAL 2021-02-17 business_description\n"
     ]
    },
    {
     "name": "stdout",
     "output_type": "stream",
     "text": [
      "\n",
      "============================================================\n",
      "Processing 1/121: AAL\n",
      "============================================================\n",
      "\n",
      "📄 Step 1: Processing document completions for AAL...\n"
     ]
    },
    {
     "name": "stderr",
     "output_type": "stream",
     "text": [
      "HTTP Request: POST http://10.0.0.4:11434/api/chat \"HTTP/1.1 200 OK\"\n",
      "2025-06-29T20:09:00.698532Z [info     ] retrieved_prompt_by_name       name=business_description prompt_id=06860055-5fa7-7c96-8000-8afefd533328\n",
      "2025-06-29T20:09:00.705584Z [info     ] created_completion             completion_id=068619d5-cb38-7882-8000-eeee09bb9a7a model=qwen3:4b\n",
      "2025-06-29T20:09:00.707460Z [info     ] created_completion             document=American Airlines Group Inc. 10-K 2021-02-17 - Business Description id=UUID('068619d5-cb38-7882-8000-eeee09bb9a7a') length=8448 time=98.0\n",
      "2025-06-29T20:09:00.712271Z [info     ] Starting Chat for AAL 2021-02-17 risk_factors\n",
      "HTTP Request: POST http://10.0.0.4:11434/api/chat \"HTTP/1.1 200 OK\"\n",
      "2025-06-29T20:10:54.512079Z [info     ] retrieved_prompt_by_name       name=risk_factors prompt_id=06860055-5f8d-73c6-8000-acf740a64053\n",
      "2025-06-29T20:10:54.521535Z [info     ] created_completion             completion_id=068619dc-e83a-7106-8000-a20fe7ce3245 model=qwen3:4b\n",
      "2025-06-29T20:10:54.522963Z [info     ] created_completion             document=American Airlines Group Inc. 10-K 2021-02-17 - Risk Factors id=UUID('068619dc-e83a-7106-8000-a20fe7ce3245') length=7072 time=114.0\n",
      "2025-06-29T20:10:54.524402Z [info     ] Starting Chat for AAL 2021-02-17 management_discussion\n"
     ]
    }
   ],
   "source": [
    "# Process all companies\n",
    "results_summary = {}\n",
    "failed_tickers = []\n",
    "\n",
    "for i, ticker in enumerate(ALL_TICKERS, 1):\n",
    "    print(f\"\\n{'='*60}\")\n",
    "    print(f\"Processing {i}/{len(ALL_TICKERS)}: {ticker}\")\n",
    "    print(f\"{'='*60}\")\n",
    "\n",
    "    try:\n",
    "        OUTPUT_DIR = f\"outputs/{ticker}\"\n",
    "\n",
    "        # Step 1: Process Document Completions\n",
    "        print(f\"\\n📄 Step 1: Processing document completions for {ticker}...\")\n",
    "        completion_ids_by_type = process_company_document_completions(\n",
    "            client=client,\n",
    "            ticker=ticker,\n",
    "            model=DOC_MODEL,\n",
    "            output_dir=OUTPUT_DIR\n",
    "        )\n",
    "        print(f\"✅ Completion IDs by type: {completion_ids_by_type}\")\n",
    "\n",
    "        # Step 2: Load Completion Data and Process Aggregates\n",
    "        print(f\"\\n🔄 Step 2: Loading completion data and processing aggregates for {ticker}...\")\n",
    "        completion_data_by_type = {\n",
    "            \"mda\": get_completion_results_by_type(ticker, DocumentType.MDA),\n",
    "            \"risk_factors\": get_completion_results_by_type(ticker, DocumentType.RISK_FACTORS),\n",
    "            \"description\": get_completion_results_by_type(ticker, DocumentType.DESCRIPTION)\n",
    "        }\n",
    "\n",
    "        aggregates = process_all_aggregates(\n",
    "            client=client,\n",
    "            ticker=ticker,\n",
    "            completion_ids_by_type=completion_ids_by_type,\n",
    "            completion_data_by_type=completion_data_by_type,\n",
    "            model=AGGREGATE_MODEL,\n",
    "            output_dir=OUTPUT_DIR\n",
    "        )\n",
    "        print(f\"✅ Created aggregates: {list(aggregates.keys())}\")\n",
    "\n",
    "        # Step 3: Generate Company Summary\n",
    "        print(f\"\\n📋 Step 3: Generating company summary for {ticker}...\")\n",
    "        company_summary = generate_company_summary(\n",
    "            client=client,\n",
    "            ticker=ticker,\n",
    "            model=AGGREGATE_MODEL\n",
    "        )\n",
    "\n",
    "        if company_summary:\n",
    "            print(f\"✅ Company summary generated ({len(company_summary)} characters)\")\n",
    "            success, preview = verify_company_summary(ticker)\n",
    "            if success:\n",
    "                print(f\"✅ Summary verification successful\")\n",
    "            else:\n",
    "                print(f\"❌ Summary verification failed\")\n",
    "        else:\n",
    "            print(f\"❌ Failed to generate company summary\")\n",
    "\n",
    "        # Step 4: Generate Individual Aggregate Summaries\n",
    "        print(f\"\\n📊 Step 4: Generating aggregate summaries for {ticker}...\")\n",
    "        summary_results = generate_aggregate_summaries(\n",
    "            client=client,\n",
    "            ticker=ticker,\n",
    "            model=AGGREGATE_MODEL\n",
    "        )\n",
    "\n",
    "        successful_summaries = sum(summary_results.values())\n",
    "        total_aggregates = len(summary_results)\n",
    "        print(f\"✅ Generated summaries for {successful_summaries}/{total_aggregates} aggregates\")\n",
    "\n",
    "        # Step 5: Generate Summary Report\n",
    "        print(f\"\\n📋 Step 5: Generating summary report for {ticker}...\")\n",
    "        report = get_aggregates_summary_report(ticker)\n",
    "\n",
    "        # Store results\n",
    "        results_summary[ticker] = {\n",
    "            'completion_ids': completion_ids_by_type,\n",
    "            'aggregates': list(aggregates.keys()),\n",
    "            'has_company_summary': bool(company_summary),\n",
    "            'aggregate_summaries': f\"{successful_summaries}/{total_aggregates}\",\n",
    "            'report': report\n",
    "        }\n",
    "\n",
    "        print(f\"\\n🎉 Successfully completed processing for {ticker}!\")\n",
    "\n",
    "    except Exception as e:\n",
    "        print(f\"\\n❌ Error processing {ticker}: {str(e)}\")\n",
    "        logger.error(f\"Failed to process ticker {ticker}\", error=str(e), exc_info=True)\n",
    "        failed_tickers.append(ticker)\n",
    "        continue\n",
    "\n",
    "print(f\"\\n\\n🏁 PROCESSING COMPLETE\")\n",
    "print(f\"{'='*60}\")\n",
    "print(f\"Successfully processed: {len(results_summary)} companies\")\n",
    "print(f\"Failed: {len(failed_tickers)} companies\")\n",
    "if failed_tickers:\n",
    "    print(f\"Failed tickers: {failed_tickers}\")"
   ]
  },
  {
   "cell_type": "code",
   "execution_count": null,
   "id": "53543261",
   "metadata": {},
   "outputs": [],
   "source": [
    "# Display detailed results summary\n",
    "print(f\"\\n📊 DETAILED RESULTS SUMMARY\")\n",
    "print(f\"{'='*80}\")\n",
    "\n",
    "for ticker, results in results_summary.items():\n",
    "    print(f\"\\n🏢 {ticker}:\")\n",
    "    print(f\"  Completions: {results['completion_ids']}\")\n",
    "    print(f\"  Aggregates: {results['aggregates']}\")\n",
    "    print(f\"  Company Summary: {'✅' if results['has_company_summary'] else '❌'}\")\n",
    "    print(f\"  Aggregate Summaries: {results['aggregate_summaries']}\")\n",
    "\n",
    "    # Show report details\n",
    "    if results['report']:\n",
    "        for doc_type, info in results['report'].items():\n",
    "            print(f\"    {doc_type.upper()}: {info['content_length']} chars, Summary: {'✅' if info['has_summary'] else '❌'}\")\n",
    "\n",
    "if failed_tickers:\n",
    "    print(f\"\\n❌ FAILED TICKERS: {failed_tickers}\")"
   ]
  },
  {
   "cell_type": "code",
   "execution_count": null,
   "id": "c5b52e86",
   "metadata": {},
   "outputs": [],
   "source": []
  }
 ],
 "metadata": {
  "kernelspec": {
   "display_name": ".venv",
   "language": "python",
   "name": "python3"
  },
  "language_info": {
   "codemirror_mode": {
    "name": "ipython",
    "version": 3
   },
   "file_extension": ".py",
   "mimetype": "text/x-python",
   "name": "python",
   "nbconvert_exporter": "python",
   "pygments_lexer": "ipython3",
   "version": "3.13.2"
  }
 },
 "nbformat": 4,
 "nbformat_minor": 5
}
