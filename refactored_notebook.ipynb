{
 "cells": [
  {
   "cell_type": "markdown",
   "id": "21aa2475",
   "metadata": {},
   "source": [
    "# Refactored Analysis Pipeline\n",
    "\n",
    "This notebook demonstrates the simplified API for processing company documents using the refactored functions."
   ]
  },
  {
   "cell_type": "code",
   "execution_count": 1,
   "id": "3d3e62fb",
   "metadata": {},
   "outputs": [
    {
     "name": "stderr",
     "output_type": "stream",
     "text": [
      "2025-06-28T23:18:01.164712Z [info     ] database_initialized           status=success\n",
      "HTTP Request: GET http://10.0.0.4:11434/api/ps \"HTTP/1.1 200 OK\"\n",
      "2025-06-28T23:18:01.178382Z [info     ] System initialized successfully\n",
      "HTTP Request: GET http://10.0.0.4:11434/api/ps \"HTTP/1.1 200 OK\"\n",
      "2025-06-28T23:18:01.178382Z [info     ] System initialized successfully\n"
     ]
    }
   ],
   "source": [
    "# Import the refactored modules\n",
    "from src.database.base import init_db\n",
    "from src.llm.client import init_client\n",
    "from src.llm.completions import (\n",
    "    process_company_document_completions,\n",
    "    get_completion_results_by_type\n",
    ")\n",
    "from src.llm.aggregations import (\n",
    "    process_all_aggregates,\n",
    "    generate_company_summary,\n",
    "    generate_aggregate_summaries,\n",
    "    verify_company_summary,\n",
    "    get_aggregates_summary_report\n",
    ")\n",
    "from src.database.documents import DocumentType\n",
    "from src.utils.config import settings\n",
    "from src.utils.logging import configure_logging, get_logger\n",
    "\n",
    "# Initialize components\n",
    "configure_logging()\n",
    "logger = get_logger(name=\"refactored_notebook\")\n",
    "_, _ = init_db(settings.database.url)\n",
    "client = init_client(settings.openai_api.url)\n",
    "_ = client.ps()\n",
    "logger.info(\"System initialized successfully\")"
   ]
  },
  {
   "cell_type": "code",
   "execution_count": 2,
   "id": "cbff59b9",
   "metadata": {},
   "outputs": [],
   "source": [
    "# Configuration\n",
    "TICKER = \"ACHR\"\n",
    "DOC_MODEL = \"qwen3:4b\"  # smaller model w/ larger context\n",
    "AGGREGATE_MODEL = \"qwen3:14b\"\n",
    "OUTPUT_DIR = f\"outputs/{TICKER}\""
   ]
  },
  {
   "cell_type": "markdown",
   "id": "e3ce85fc",
   "metadata": {},
   "source": [
    "## Step 1: Process Document Completions\n",
    "\n",
    "Generate completions for all documents using the simplified API."
   ]
  },
  {
   "cell_type": "code",
   "execution_count": 3,
   "id": "cef489ce",
   "metadata": {},
   "outputs": [
    {
     "name": "stderr",
     "output_type": "stream",
     "text": [
      "2025-06-28T23:18:01.187040Z [info     ] Starting document completion processing for ACHR\n",
      "2025-06-28T23:18:01.201056Z [info     ] retrieved_company_by_ticker    company_id=0685e3e7-c4c5-7522-8000-7417d23b7385 ticker=ACHR\n",
      "2025-06-28T23:18:01.201056Z [info     ] retrieved_company_by_ticker    company_id=0685e3e7-c4c5-7522-8000-7417d23b7385 ticker=ACHR\n",
      "2025-06-28T23:18:01.202631Z [info     ] retrieved_filings_by_company   company_id=0685e3e7-c4c5-7522-8000-7417d23b7385 count=5\n",
      "2025-06-28T23:18:01.205318Z [info     ] retrieved_documents_by_filing  count=2 filing_id=0685e3e8-1f56-74e4-8000-f041f0dee00e\n",
      "2025-06-28T23:18:01.205560Z [info     ] Starting Chat for ACHR 2021-05-24 risk_factors\n",
      "2025-06-28T23:18:01.202631Z [info     ] retrieved_filings_by_company   company_id=0685e3e7-c4c5-7522-8000-7417d23b7385 count=5\n",
      "2025-06-28T23:18:01.205318Z [info     ] retrieved_documents_by_filing  count=2 filing_id=0685e3e8-1f56-74e4-8000-f041f0dee00e\n",
      "2025-06-28T23:18:01.205560Z [info     ] Starting Chat for ACHR 2021-05-24 risk_factors\n",
      "HTTP Request: POST http://10.0.0.4:11434/api/chat \"HTTP/1.1 200 OK\"\n",
      "2025-06-28T23:20:04.826189Z [info     ] retrieved_prompt_by_name       name=risk_factors prompt_id=06860055-5f8d-73c6-8000-acf740a64053\n",
      "HTTP Request: POST http://10.0.0.4:11434/api/chat \"HTTP/1.1 200 OK\"\n",
      "2025-06-28T23:20:04.826189Z [info     ] retrieved_prompt_by_name       name=risk_factors prompt_id=06860055-5f8d-73c6-8000-acf740a64053\n",
      "2025-06-28T23:20:04.838785Z [info     ] created_completion             completion_id=0686078a-4d46-783f-8000-4862921e4109 model=qwen3:4b\n",
      "2025-06-28T23:20:04.840859Z [info     ] created_completion             document=Archer Aviation Inc. 10-K/A 2021-05-24 - Risk Factors id=UUID('0686078a-4d46-783f-8000-4862921e4109') length=7933 time=124.0\n",
      "2025-06-28T23:20:04.842253Z [info     ] Starting Chat for ACHR 2021-05-24 management_discussion\n",
      "2025-06-28T23:20:04.838785Z [info     ] created_completion             completion_id=0686078a-4d46-783f-8000-4862921e4109 model=qwen3:4b\n",
      "2025-06-28T23:20:04.840859Z [info     ] created_completion             document=Archer Aviation Inc. 10-K/A 2021-05-24 - Risk Factors id=UUID('0686078a-4d46-783f-8000-4862921e4109') length=7933 time=124.0\n",
      "2025-06-28T23:20:04.842253Z [info     ] Starting Chat for ACHR 2021-05-24 management_discussion\n",
      "HTTP Request: POST http://10.0.0.4:11434/api/chat \"HTTP/1.1 200 OK\"\n",
      "2025-06-28T23:20:43.635141Z [info     ] retrieved_prompt_by_name       name=management_discussion prompt_id=06860055-5f9e-750c-8000-e57ce7b47741\n",
      "2025-06-28T23:20:43.643766Z [info     ] created_completion             completion_id=0686078c-ba2f-7042-8000-c55993e9f258 model=qwen3:4b\n",
      "2025-06-28T23:20:43.644419Z [info     ] created_completion             document=Archer Aviation Inc. 10-K/A 2021-05-24 - Management Discussion id=UUID('0686078c-ba2f-7042-8000-c55993e9f258') length=10410 time=39.0\n",
      "HTTP Request: POST http://10.0.0.4:11434/api/chat \"HTTP/1.1 200 OK\"\n",
      "2025-06-28T23:20:43.635141Z [info     ] retrieved_prompt_by_name       name=management_discussion prompt_id=06860055-5f9e-750c-8000-e57ce7b47741\n",
      "2025-06-28T23:20:43.643766Z [info     ] created_completion             completion_id=0686078c-ba2f-7042-8000-c55993e9f258 model=qwen3:4b\n",
      "2025-06-28T23:20:43.644419Z [info     ] created_completion             document=Archer Aviation Inc. 10-K/A 2021-05-24 - Management Discussion id=UUID('0686078c-ba2f-7042-8000-c55993e9f258') length=10410 time=39.0\n",
      "2025-06-28T23:20:43.646321Z [info     ] retrieved_documents_by_filing  count=3 filing_id=0685e3e8-898a-702a-8000-dc02dacf7deb\n",
      "2025-06-28T23:20:43.646552Z [info     ] Starting Chat for ACHR 2022-03-14 business_description\n",
      "2025-06-28T23:20:43.646321Z [info     ] retrieved_documents_by_filing  count=3 filing_id=0685e3e8-898a-702a-8000-dc02dacf7deb\n",
      "2025-06-28T23:20:43.646552Z [info     ] Starting Chat for ACHR 2022-03-14 business_description\n",
      "HTTP Request: POST http://10.0.0.4:11434/api/chat \"HTTP/1.1 200 OK\"\n",
      "2025-06-28T23:21:15.045472Z [info     ] retrieved_prompt_by_name       name=business_description prompt_id=06860055-5fa7-7c96-8000-8afefd533328\n",
      "2025-06-28T23:21:15.049190Z [info     ] created_completion             completion_id=0686078e-b0bf-79f5-8000-93b392ff8f51 model=qwen3:4b\n",
      "2025-06-28T23:21:15.049918Z [info     ] created_completion             document=Archer Aviation Inc. 10-K 2022-03-14 - Business Description id=UUID('0686078e-b0bf-79f5-8000-93b392ff8f51') length=8714 time=31.0\n",
      "2025-06-28T23:21:15.051247Z [info     ] Starting Chat for ACHR 2022-03-14 risk_factors\n",
      "HTTP Request: POST http://10.0.0.4:11434/api/chat \"HTTP/1.1 200 OK\"\n",
      "2025-06-28T23:21:15.045472Z [info     ] retrieved_prompt_by_name       name=business_description prompt_id=06860055-5fa7-7c96-8000-8afefd533328\n",
      "2025-06-28T23:21:15.049190Z [info     ] created_completion             completion_id=0686078e-b0bf-79f5-8000-93b392ff8f51 model=qwen3:4b\n",
      "2025-06-28T23:21:15.049918Z [info     ] created_completion             document=Archer Aviation Inc. 10-K 2022-03-14 - Business Description id=UUID('0686078e-b0bf-79f5-8000-93b392ff8f51') length=8714 time=31.0\n",
      "2025-06-28T23:21:15.051247Z [info     ] Starting Chat for ACHR 2022-03-14 risk_factors\n",
      "HTTP Request: POST http://10.0.0.4:11434/api/chat \"HTTP/1.1 200 OK\"\n",
      "2025-06-28T23:22:55.494183Z [info     ] retrieved_prompt_by_name       name=risk_factors prompt_id=06860055-5f8d-73c6-8000-acf740a64053\n",
      "2025-06-28T23:22:55.498627Z [info     ] created_completion             completion_id=06860794-f7ef-711f-8000-966d0c2feeef model=qwen3:4b\n",
      "2025-06-28T23:22:55.499667Z [info     ] created_completion             document=Archer Aviation Inc. 10-K 2022-03-14 - Risk Factors id=UUID('06860794-f7ef-711f-8000-966d0c2feeef') length=6490 time=100.0\n",
      "2025-06-28T23:22:55.502011Z [info     ] Starting Chat for ACHR 2022-03-14 management_discussion\n",
      "HTTP Request: POST http://10.0.0.4:11434/api/chat \"HTTP/1.1 200 OK\"\n",
      "2025-06-28T23:23:38.201979Z [info     ] retrieved_prompt_by_name       name=management_discussion prompt_id=06860055-5f9e-750c-8000-e57ce7b47741\n",
      "2025-06-28T23:23:38.210684Z [info     ] created_completion             completion_id=06860797-a341-70fa-8000-dd83fb10c12c model=qwen3:4b\n",
      "2025-06-28T23:23:38.211401Z [info     ] created_completion             document=Archer Aviation Inc. 10-K 2022-03-14 - Management Discussion id=UUID('06860797-a341-70fa-8000-dd83fb10c12c') length=9180 time=43.0\n",
      "2025-06-28T23:23:38.213260Z [info     ] retrieved_documents_by_filing  count=3 filing_id=0685e3e8-ef7e-7d1b-8000-b17e50f690ca\n",
      "2025-06-28T23:23:38.213598Z [info     ] Starting Chat for ACHR 2023-03-15 business_description\n",
      "HTTP Request: POST http://10.0.0.4:11434/api/chat \"HTTP/1.1 200 OK\"\n",
      "2025-06-28T23:24:12.381498Z [info     ] retrieved_prompt_by_name       name=business_description prompt_id=06860055-5fa7-7c96-8000-8afefd533328\n",
      "2025-06-28T23:24:12.385362Z [info     ] created_completion             completion_id=06860799-c620-759f-8000-05e8bf4a4e9a model=qwen3:4b\n",
      "2025-06-28T23:24:12.386162Z [info     ] created_completion             document=Archer Aviation Inc. 10-K 2023-03-15 - Business Description id=UUID('06860799-c620-759f-8000-05e8bf4a4e9a') length=7670 time=34.0\n",
      "2025-06-28T23:24:12.387518Z [info     ] Starting Chat for ACHR 2023-03-15 risk_factors\n",
      "HTTP Request: POST http://10.0.0.4:11434/api/chat \"HTTP/1.1 200 OK\"\n",
      "2025-06-28T23:25:45.384981Z [info     ] retrieved_prompt_by_name       name=risk_factors prompt_id=06860055-5f8d-73c6-8000-acf740a64053\n",
      "2025-06-28T23:25:45.388628Z [info     ] created_completion             completion_id=0686079f-962e-7cee-8000-e3f9c363480d model=qwen3:4b\n",
      "2025-06-28T23:25:45.389524Z [info     ] created_completion             document=Archer Aviation Inc. 10-K 2023-03-15 - Risk Factors id=UUID('0686079f-962e-7cee-8000-e3f9c363480d') length=6314 time=93.0\n",
      "2025-06-28T23:25:45.390668Z [info     ] Starting Chat for ACHR 2023-03-15 management_discussion\n",
      "HTTP Request: POST http://10.0.0.4:11434/api/chat \"HTTP/1.1 200 OK\"\n",
      "2025-06-28T23:26:31.254255Z [info     ] retrieved_prompt_by_name       name=management_discussion prompt_id=06860055-5f9e-750c-8000-e57ce7b47741\n",
      "2025-06-28T23:26:31.263359Z [info     ] created_completion             completion_id=068607a2-7417-7cef-8000-3a3e2409d8f5 model=qwen3:4b\n",
      "2025-06-28T23:26:31.264476Z [info     ] created_completion             document=Archer Aviation Inc. 10-K 2023-03-15 - Management Discussion id=UUID('068607a2-7417-7cef-8000-3a3e2409d8f5') length=9617 time=46.0\n",
      "2025-06-28T23:26:31.266670Z [info     ] retrieved_documents_by_filing  count=3 filing_id=0685e3e9-6686-7c53-8000-bd8442530694\n",
      "2025-06-28T23:26:31.267038Z [info     ] Starting Chat for ACHR 2024-02-29 business_description\n",
      "HTTP Request: POST http://10.0.0.4:11434/api/chat \"HTTP/1.1 200 OK\"\n",
      "2025-06-28T23:26:58.746570Z [info     ] retrieved_prompt_by_name       name=business_description prompt_id=06860055-5fa7-7c96-8000-8afefd533328\n",
      "2025-06-28T23:26:58.755326Z [info     ] created_completion             completion_id=068607a4-2bf7-7ce2-8000-0f7230d8ae79 model=qwen3:4b\n",
      "2025-06-28T23:26:58.756180Z [info     ] created_completion             document=Archer Aviation Inc. 10-K 2024-02-29 - Business Description id=UUID('068607a4-2bf7-7ce2-8000-0f7230d8ae79') length=6055 time=27.0\n",
      "2025-06-28T23:26:58.757512Z [info     ] Starting Chat for ACHR 2024-02-29 risk_factors\n",
      "HTTP Request: POST http://10.0.0.4:11434/api/chat \"HTTP/1.1 200 OK\"\n",
      "2025-06-28T23:28:48.558558Z [info     ] retrieved_prompt_by_name       name=risk_factors prompt_id=06860055-5f8d-73c6-8000-acf740a64053\n",
      "2025-06-28T23:28:48.562826Z [info     ] created_completion             completion_id=068607ab-08f6-7c04-8000-5c131ba0150f model=qwen3:4b\n",
      "2025-06-28T23:28:48.563824Z [info     ] created_completion             document=Archer Aviation Inc. 10-K 2024-02-29 - Risk Factors id=UUID('068607ab-08f6-7c04-8000-5c131ba0150f') length=8285 time=110.0\n",
      "2025-06-28T23:28:48.565100Z [info     ] Starting Chat for ACHR 2024-02-29 management_discussion\n",
      "HTTP Request: POST http://10.0.0.4:11434/api/chat \"HTTP/1.1 200 OK\"\n",
      "2025-06-28T23:29:38.035704Z [info     ] retrieved_prompt_by_name       name=management_discussion prompt_id=06860055-5f9e-750c-8000-e57ce7b47741\n",
      "2025-06-28T23:29:38.044668Z [info     ] created_completion             completion_id=068607ae-2098-73a8-8000-dcb9db7a0182 model=qwen3:4b\n",
      "2025-06-28T23:29:38.045468Z [info     ] created_completion             document=Archer Aviation Inc. 10-K 2024-02-29 - Management Discussion id=UUID('068607ae-2098-73a8-8000-dcb9db7a0182') length=10606 time=49.0\n",
      "2025-06-28T23:29:38.047254Z [info     ] retrieved_documents_by_filing  count=3 filing_id=0685e3e9-b4ac-72db-8000-956082b0c2a6\n",
      "2025-06-28T23:29:38.047566Z [info     ] Starting Chat for ACHR 2025-02-28 business_description\n",
      "HTTP Request: POST http://10.0.0.4:11434/api/chat \"HTTP/1.1 200 OK\"\n",
      "2025-06-28T23:30:07.124293Z [info     ] retrieved_prompt_by_name       name=business_description prompt_id=06860055-5fa7-7c96-8000-8afefd533328\n",
      "2025-06-28T23:30:07.132453Z [info     ] created_completion             completion_id=068607af-f202-7446-8000-46758f250133 model=qwen3:4b\n",
      "2025-06-28T23:30:07.133231Z [info     ] created_completion             document=Archer Aviation Inc. 10-K 2025-02-28 - Business Description id=UUID('068607af-f202-7446-8000-46758f250133') length=7397 time=29.0\n",
      "2025-06-28T23:30:07.134472Z [info     ] Starting Chat for ACHR 2025-02-28 risk_factors\n",
      "HTTP Request: POST http://10.0.0.4:11434/api/chat \"HTTP/1.1 200 OK\"\n",
      "2025-06-28T23:31:46.036696Z [info     ] retrieved_prompt_by_name       name=risk_factors prompt_id=06860055-5f8d-73c6-8000-acf740a64053\n",
      "2025-06-28T23:31:46.040577Z [info     ] created_completion             completion_id=068607b6-209c-78e4-8000-dad6d31f6038 model=qwen3:4b\n",
      "2025-06-28T23:31:46.041739Z [info     ] created_completion             document=Archer Aviation Inc. 10-K 2025-02-28 - Risk Factors id=UUID('068607b6-209c-78e4-8000-dad6d31f6038') length=7232 time=99.0\n",
      "2025-06-28T23:31:46.045890Z [info     ] Starting Chat for ACHR 2025-02-28 management_discussion\n",
      "HTTP Request: POST http://10.0.0.4:11434/api/chat \"HTTP/1.1 200 OK\"\n",
      "2025-06-28T23:32:37.096150Z [info     ] retrieved_prompt_by_name       name=management_discussion prompt_id=06860055-5f9e-750c-8000-e57ce7b47741\n",
      "2025-06-28T23:32:37.099925Z [info     ] created_completion             completion_id=068607b9-518f-78c8-8000-d6c1ebbb1178 model=qwen3:4b\n",
      "2025-06-28T23:32:37.100699Z [info     ] created_completion             document=Archer Aviation Inc. 10-K 2025-02-28 - Management Discussion id=UUID('068607b9-518f-78c8-8000-d6c1ebbb1178') length=10557 time=51.0\n",
      "2025-06-28T23:32:37.101345Z [info     ] Document completions generated for ACHR total_processed=14\n",
      "2025-06-28T23:32:37.102028Z [info     ] Saved completion results to outputs/ACHR/mdas.json\n",
      "2025-06-28T23:32:37.102467Z [info     ] Saved completion results to outputs/ACHR/risk_factors.json\n",
      "2025-06-28T23:32:37.102993Z [info     ] Saved completion results to outputs/ACHR/descriptions.json\n",
      "2025-06-28T23:32:37.103499Z [info     ] Document completions processing completed\n"
     ]
    },
    {
     "name": "stdout",
     "output_type": "stream",
     "text": [
      "Completion IDs by type: {'description': [UUID('0686078e-b0bf-79f5-8000-93b392ff8f51'), UUID('06860799-c620-759f-8000-05e8bf4a4e9a'), UUID('068607a4-2bf7-7ce2-8000-0f7230d8ae79'), UUID('068607af-f202-7446-8000-46758f250133')], 'risk_factors': [UUID('0686078a-4d46-783f-8000-4862921e4109'), UUID('06860794-f7ef-711f-8000-966d0c2feeef'), UUID('0686079f-962e-7cee-8000-e3f9c363480d'), UUID('068607ab-08f6-7c04-8000-5c131ba0150f'), UUID('068607b6-209c-78e4-8000-dad6d31f6038')], 'mda': [UUID('0686078c-ba2f-7042-8000-c55993e9f258'), UUID('06860797-a341-70fa-8000-dd83fb10c12c'), UUID('068607a2-7417-7cef-8000-3a3e2409d8f5'), UUID('068607ae-2098-73a8-8000-dcb9db7a0182'), UUID('068607b9-518f-78c8-8000-d6c1ebbb1178')]}\n"
     ]
    }
   ],
   "source": [
    "# Process all document completions for the company\n",
    "completion_ids_by_type = process_company_document_completions(\n",
    "    client=client,\n",
    "    ticker=TICKER,\n",
    "    model=DOC_MODEL,\n",
    "    output_dir=OUTPUT_DIR\n",
    ")\n",
    "\n",
    "print(f\"Completion IDs by type: {completion_ids_by_type}\")\n",
    "logger.info(\"Document completions processing completed\")"
   ]
  },
  {
   "cell_type": "markdown",
   "id": "d05e8eb8",
   "metadata": {},
   "source": [
    "## Step 2: Load Completion Data and Process Aggregates\n",
    "\n",
    "Load the completion results and create aggregates for each document type."
   ]
  },
  {
   "cell_type": "code",
   "execution_count": 4,
   "id": "0c9b8752",
   "metadata": {},
   "outputs": [
    {
     "name": "stderr",
     "output_type": "stream",
     "text": [
      "2025-06-28T23:32:37.109219Z [info     ] Starting aggregate processing for ACHR\n",
      "2025-06-28T23:32:37.110194Z [info     ] retrieved_company_by_ticker    company_id=0685e3e7-c4c5-7522-8000-7417d23b7385 ticker=ACHR\n"
     ]
    },
    {
     "name": "stdout",
     "output_type": "stream",
     "text": [
      "Loaded completion data for: ['mda', 'risk_factors', 'description']\n"
     ]
    },
    {
     "name": "stderr",
     "output_type": "stream",
     "text": [
      "HTTP Request: POST http://10.0.0.4:11434/api/chat \"HTTP/1.1 200 OK\"\n",
      "2025-06-28T23:34:12.960193Z [info     ] management_discussion Aggregate Done time=95.847081227s\n",
      "2025-06-28T23:34:12.960727Z [info     ] Saved management_discussion aggregate to outputs/ACHR/mda.md\n",
      "2025-06-28T23:34:12.961835Z [info     ] retrieved_prompt_by_name       name=aggregate_prompt prompt_id=0686004a-ce9f-7159-8000-2e2abd3dbaa8\n",
      "2025-06-28T23:34:12.972563Z [info     ] created_aggregate              aggregate_id=068607bf-4f6c-7a80-8000-0f27dd2af339 model=qwen3:14b\n",
      "2025-06-28T23:34:12.972898Z [info     ] Created management_discussion aggregate aggregate_id=UUID('068607bf-4f6c-7a80-8000-0f27dd2af339') completion_count=5 content_length=9817 duration=95.85s model=qwen3:14b\n",
      "2025-06-28T23:34:12.973823Z [info     ] retrieved_company_by_ticker    company_id=0685e3e7-c4c5-7522-8000-7417d23b7385 ticker=ACHR\n",
      "HTTP Request: POST http://10.0.0.4:11434/api/chat \"HTTP/1.1 200 OK\"\n",
      "2025-06-28T23:35:06.360728Z [info     ] risk_factors Aggregate Done    time=53.384443904s\n",
      "2025-06-28T23:35:06.361197Z [info     ] Saved risk_factors aggregate to outputs/ACHR/risk_factors.md\n",
      "2025-06-28T23:35:06.362648Z [info     ] retrieved_prompt_by_name       name=aggregate_prompt prompt_id=0686004a-ce9f-7159-8000-2e2abd3dbaa8\n",
      "2025-06-28T23:35:06.366529Z [info     ] created_aggregate              aggregate_id=068607c2-a5d3-7809-8000-b7a7848a76c3 model=qwen3:14b\n",
      "2025-06-28T23:35:06.366838Z [info     ] Created risk_factors aggregate aggregate_id=UUID('068607c2-a5d3-7809-8000-b7a7848a76c3') completion_count=5 content_length=5028 duration=53.38s model=qwen3:14b\n",
      "2025-06-28T23:35:06.367593Z [info     ] retrieved_company_by_ticker    company_id=0685e3e7-c4c5-7522-8000-7417d23b7385 ticker=ACHR\n",
      "HTTP Request: POST http://10.0.0.4:11434/api/chat \"HTTP/1.1 200 OK\"\n",
      "2025-06-28T23:36:05.446455Z [info     ] business_description Aggregate Done time=59.076475987s\n",
      "2025-06-28T23:36:05.447021Z [info     ] Saved business_description aggregate to outputs/ACHR/descriptions.md\n",
      "2025-06-28T23:36:05.448431Z [info     ] retrieved_prompt_by_name       name=aggregate_prompt prompt_id=0686004a-ce9f-7159-8000-2e2abd3dbaa8\n",
      "2025-06-28T23:36:05.452648Z [info     ] created_aggregate              aggregate_id=068607c6-5732-786e-8000-2d6a4b1ce63e model=qwen3:14b\n",
      "2025-06-28T23:36:05.452924Z [info     ] Created business_description aggregate aggregate_id=UUID('068607c6-5732-786e-8000-2d6a4b1ce63e') completion_count=4 content_length=5702 duration=59.08s model=qwen3:14b\n",
      "2025-06-28T23:36:05.453153Z [info     ] Completed aggregate processing for ACHR aggregates_created=3\n",
      "2025-06-28T23:36:05.453503Z [info     ] Aggregate processing completed\n"
     ]
    },
    {
     "name": "stdout",
     "output_type": "stream",
     "text": [
      "Created aggregates: ['mda', 'risk_factors', 'description']\n"
     ]
    }
   ],
   "source": [
    "# Load completion data for aggregation\n",
    "completion_data_by_type = {\n",
    "    \"mda\": get_completion_results_by_type(TICKER, DocumentType.MDA),\n",
    "    \"risk_factors\": get_completion_results_by_type(TICKER, DocumentType.RISK_FACTORS),\n",
    "    \"description\": get_completion_results_by_type(TICKER, DocumentType.DESCRIPTION)\n",
    "}\n",
    "\n",
    "print(f\"Loaded completion data for: {list(completion_data_by_type.keys())}\")\n",
    "\n",
    "# Process all aggregates\n",
    "aggregates = process_all_aggregates(\n",
    "    client=client,\n",
    "    ticker=TICKER,\n",
    "    completion_ids_by_type=completion_ids_by_type,\n",
    "    completion_data_by_type=completion_data_by_type,\n",
    "    model=AGGREGATE_MODEL,\n",
    "    output_dir=OUTPUT_DIR\n",
    ")\n",
    "\n",
    "print(f\"Created aggregates: {list(aggregates.keys())}\")\n",
    "logger.info(\"Aggregate processing completed\")"
   ]
  },
  {
   "cell_type": "markdown",
   "id": "85c49226",
   "metadata": {},
   "source": [
    "## Step 3: Generate Company Summary\n",
    "\n",
    "Create a comprehensive company summary from the aggregates."
   ]
  },
  {
   "cell_type": "code",
   "execution_count": 5,
   "id": "e6800789",
   "metadata": {},
   "outputs": [
    {
     "name": "stderr",
     "output_type": "stream",
     "text": [
      "2025-06-28T23:36:05.458746Z [info     ] retrieved_company_by_ticker    company_id=0685e3e7-c4c5-7522-8000-7417d23b7385 ticker=ACHR\n",
      "2025-06-28T23:36:05.460674Z [info     ] retrieved_company_by_ticker    company_id=0685e3e7-c4c5-7522-8000-7417d23b7385 ticker=ACHR\n",
      "2025-06-28T23:36:05.463744Z [info     ] retrieved_recent_aggregates_by_company company_id=0685e3e7-c4c5-7522-8000-7417d23b7385 count=3 document_types=['management_discussion', 'risk_factors', 'business_description']\n",
      "2025-06-28T23:36:05.464061Z [info     ] Found 3 recent aggregates for ACHR\n",
      "2025-06-28T23:36:05.464416Z [info     ] Aggregate types available: ['management_discussion', 'risk_factors', 'business_description']\n",
      "2025-06-28T23:36:05.464699Z [info     ] Generating summary for ACHR using 3 aggregate reports\n",
      "HTTP Request: POST http://10.0.0.4:11434/api/chat \"HTTP/1.1 200 OK\"\n",
      "2025-06-28T23:36:28.069172Z [info     ] Summary generation completed in 22.60 seconds\n",
      "2025-06-28T23:36:28.069577Z [info     ] Generated summary length: 2237 characters\n",
      "2025-06-28T23:36:28.119182Z [info     ] updated_company                company_id=0685e3e7-c4c5-7522-8000-7417d23b7385 name=Archer Aviation Inc.\n",
      "2025-06-28T23:36:28.119774Z [info     ] Successfully updated company summary for ACHR company_id=0685e3e7-c4c5-7522-8000-7417d23b7385 summary_length=2237\n",
      "2025-06-28T23:36:28.120975Z [info     ] retrieved_company_by_ticker    company_id=0685e3e7-c4c5-7522-8000-7417d23b7385 ticker=ACHR\n",
      "2025-06-28T23:36:28.121831Z [info     ] retrieved_company              company_id=0685e3e7-c4c5-7522-8000-7417d23b7385\n",
      "2025-06-28T23:36:28.122115Z [info     ] Company summary verification successful for ACHR\n"
     ]
    },
    {
     "name": "stdout",
     "output_type": "stream",
     "text": [
      "Company summary generated (2237 characters)\n",
      "Preview: <think>\n",
      "Okay, the user has provided a detailed analysis of Archer Aviation's historical filings, including the evolution of their business from 2022 to 2025. Now, they want a 100-word overview of the company based on these reports. Let me start by identifying the key points from each year.\n",
      "\n",
      "In 2022,...\n",
      "✅ Summary verification successful\n"
     ]
    }
   ],
   "source": [
    "# Generate comprehensive company summary\n",
    "company_summary = generate_company_summary(\n",
    "    client=client,\n",
    "    ticker=TICKER,\n",
    "    model=AGGREGATE_MODEL\n",
    ")\n",
    "\n",
    "if company_summary:\n",
    "    print(f\"Company summary generated ({len(company_summary)} characters)\")\n",
    "    print(f\"Preview: {company_summary[:300]}...\")\n",
    "\n",
    "    # Verify the summary was saved\n",
    "    success, preview = verify_company_summary(TICKER)\n",
    "    if success:\n",
    "        print(f\"✅ Summary verification successful\")\n",
    "    else:\n",
    "        print(f\"❌ Summary verification failed\")\n",
    "else:\n",
    "    print(\"Failed to generate company summary\")"
   ]
  },
  {
   "cell_type": "markdown",
   "id": "3f725bff",
   "metadata": {},
   "source": [
    "## Step 4: Generate Individual Aggregate Summaries\n",
    "\n",
    "Create concise summaries for each aggregate."
   ]
  },
  {
   "cell_type": "code",
   "execution_count": 6,
   "id": "0288bd4b",
   "metadata": {},
   "outputs": [
    {
     "name": "stderr",
     "output_type": "stream",
     "text": [
      "2025-06-28T23:36:28.126911Z [info     ] Starting individual aggregate summary generation for ACHR\n",
      "2025-06-28T23:36:28.128523Z [info     ] retrieved_company_by_ticker    company_id=0685e3e7-c4c5-7522-8000-7417d23b7385 ticker=ACHR\n",
      "2025-06-28T23:36:28.130045Z [info     ] retrieved_recent_aggregates_by_company company_id=0685e3e7-c4c5-7522-8000-7417d23b7385 count=3 document_types=['management_discussion', 'risk_factors', 'business_description']\n",
      "2025-06-28T23:36:28.130439Z [info     ] Processing Aggregate 1/3: MANAGEMENT_DISCUSSION aggregate_id=UUID('068607bf-4f6c-7a80-8000-0f27dd2af339') content_length=9817\n",
      "2025-06-28T23:36:28.130713Z [info     ] Generating summary for management_discussion aggregate 068607bf-4f6c-7a80-8000-0f27dd2af339\n",
      "HTTP Request: POST http://10.0.0.4:11434/api/chat \"HTTP/1.1 200 OK\"\n",
      "2025-06-28T23:37:01.147857Z [info     ] Summary generated for aggregate 068607bf-4f6c-7a80-8000-0f27dd2af339 summary_length=4629\n",
      "2025-06-28T23:37:01.151951Z [info     ] updated_aggregate              aggregate_id=068607bf-4f6c-7a80-8000-0f27dd2af339\n",
      "2025-06-28T23:37:01.152503Z [info     ] Summary saved to aggregate 068607bf-4f6c-7a80-8000-0f27dd2af339\n",
      "2025-06-28T23:37:01.153427Z [info     ] Processing Aggregate 2/3: RISK_FACTORS aggregate_id=UUID('068607c2-a5d3-7809-8000-b7a7848a76c3') content_length=5028\n",
      "2025-06-28T23:37:01.153736Z [info     ] Generating summary for risk_factors aggregate 068607c2-a5d3-7809-8000-b7a7848a76c3\n",
      "HTTP Request: POST http://10.0.0.4:11434/api/chat \"HTTP/1.1 200 OK\"\n",
      "2025-06-28T23:37:11.890967Z [info     ] Summary generated for aggregate 068607c2-a5d3-7809-8000-b7a7848a76c3 summary_length=1620\n",
      "2025-06-28T23:37:11.894326Z [info     ] updated_aggregate              aggregate_id=068607c2-a5d3-7809-8000-b7a7848a76c3\n",
      "2025-06-28T23:37:11.894611Z [info     ] Summary saved to aggregate 068607c2-a5d3-7809-8000-b7a7848a76c3\n",
      "2025-06-28T23:37:11.895272Z [info     ] Processing Aggregate 3/3: BUSINESS_DESCRIPTION aggregate_id=UUID('068607c6-5732-786e-8000-2d6a4b1ce63e') content_length=5702\n",
      "2025-06-28T23:37:11.895503Z [info     ] Generating summary for business_description aggregate 068607c6-5732-786e-8000-2d6a4b1ce63e\n",
      "HTTP Request: POST http://10.0.0.4:11434/api/chat \"HTTP/1.1 200 OK\"\n",
      "2025-06-28T23:37:29.353305Z [info     ] Summary generated for aggregate 068607c6-5732-786e-8000-2d6a4b1ce63e summary_length=2744\n",
      "2025-06-28T23:37:29.358692Z [info     ] updated_aggregate              aggregate_id=068607c6-5732-786e-8000-2d6a4b1ce63e\n",
      "2025-06-28T23:37:29.358974Z [info     ] Summary saved to aggregate 068607c6-5732-786e-8000-2d6a4b1ce63e\n",
      "2025-06-28T23:37:29.359187Z [info     ] Completed individual aggregate summaries for ACHR successful=3 total_processed=3\n",
      "2025-06-28T23:37:29.359565Z [info     ] Individual aggregate summaries completed\n"
     ]
    },
    {
     "name": "stdout",
     "output_type": "stream",
     "text": [
      "Generated summaries for 3/3 aggregates\n"
     ]
    }
   ],
   "source": [
    "# Generate summaries for individual aggregates\n",
    "summary_results = generate_aggregate_summaries(\n",
    "    client=client,\n",
    "    ticker=TICKER,\n",
    "    model=AGGREGATE_MODEL\n",
    ")\n",
    "\n",
    "successful_summaries = sum(summary_results.values())\n",
    "total_aggregates = len(summary_results)\n",
    "\n",
    "print(f\"Generated summaries for {successful_summaries}/{total_aggregates} aggregates\")\n",
    "logger.info(\"Individual aggregate summaries completed\")"
   ]
  },
  {
   "cell_type": "markdown",
   "id": "cf91dc0b",
   "metadata": {},
   "source": [
    "## Step 5: View Summary Report\n",
    "\n",
    "Display a comprehensive report of all aggregates and summaries."
   ]
  },
  {
   "cell_type": "code",
   "execution_count": 7,
   "id": "ecb6fe4d",
   "metadata": {},
   "outputs": [
    {
     "name": "stderr",
     "output_type": "stream",
     "text": [
      "2025-06-28T23:37:29.365014Z [info     ] retrieved_company_by_ticker    company_id=0685e3e7-c4c5-7522-8000-7417d23b7385 ticker=ACHR\n",
      "2025-06-28T23:37:29.366225Z [info     ] retrieved_recent_aggregates_by_company company_id=0685e3e7-c4c5-7522-8000-7417d23b7385 count=3 document_types=['management_discussion', 'risk_factors', 'business_description']\n",
      "2025-06-28T23:37:29.366631Z [info     ] Generated summary report for ACHR aggregates_count=3\n"
     ]
    },
    {
     "name": "stdout",
     "output_type": "stream",
     "text": [
      "\n",
      "📋 Summary Report for ACHR:\n",
      "============================================================\n",
      "\n",
      "MANAGEMENT_DISCUSSION:\n",
      "  ID: 068607bf-4f6c-7a80-8000-0f27dd2af339\n",
      "  Has Summary: ✅ (4629 chars)\n",
      "  Content: 9817 characters\n",
      "  Model: qwen3:14b\n",
      "  Created: 2025-06-28 23:34:12.958275\n",
      "  Summary Preview: <think>\n",
      "Okay, let's tackle this. The user wants a summary of the Management Discussion and Analysis ...\n",
      "\n",
      "RISK_FACTORS:\n",
      "  ID: 068607c2-a5d3-7809-8000-b7a7848a76c3\n",
      "  Has Summary: ✅ (1620 chars)\n",
      "  Content: 5028 characters\n",
      "  Model: qwen3:14b\n",
      "  Created: 2025-06-28 23:35:06.358852\n",
      "  Summary Preview: <think>\n",
      "Okay, I need to summarize this risk factors analysis in 2-3 sentences, identifying the most ...\n",
      "\n",
      "BUSINESS_DESCRIPTION:\n",
      "  ID: 068607c6-5732-786e-8000-2d6a4b1ce63e\n",
      "  Has Summary: ✅ (2744 chars)\n",
      "  Content: 5702 characters\n",
      "  Model: qwen3:14b\n",
      "  Created: 2025-06-28 23:36:05.444492\n",
      "  Summary Preview: <think>\n",
      "Okay, I need to summarize the business description analysis in 2-3 sentences. Let me start b...\n",
      "\n",
      "🎉 Processing complete for ACHR!\n"
     ]
    }
   ],
   "source": [
    "# Generate and display summary report\n",
    "report = get_aggregates_summary_report(TICKER)\n",
    "\n",
    "print(f\"\\n📋 Summary Report for {TICKER}:\")\n",
    "print(\"=\" * 60)\n",
    "\n",
    "for doc_type, info in report.items():\n",
    "    print(f\"\\n{doc_type.upper()}:\")\n",
    "    print(f\"  ID: {info['id']}\")\n",
    "    print(f\"  Has Summary: {'✅' if info['has_summary'] else '❌'} ({info['summary_length']} chars)\")\n",
    "    print(f\"  Content: {info['content_length']} characters\")\n",
    "    print(f\"  Model: {info['model']}\")\n",
    "    print(f\"  Created: {info['created_at']}\")\n",
    "\n",
    "    if info['summary_preview']:\n",
    "        print(f\"  Summary Preview: {info['summary_preview']}\")\n",
    "\n",
    "print(f\"\\n🎉 Processing complete for {TICKER}!\")"
   ]
  }
 ],
 "metadata": {
  "kernelspec": {
   "display_name": ".venv",
   "language": "python",
   "name": "python3"
  },
  "language_info": {
   "codemirror_mode": {
    "name": "ipython",
    "version": 3
   },
   "file_extension": ".py",
   "mimetype": "text/x-python",
   "name": "python",
   "nbconvert_exporter": "python",
   "pygments_lexer": "ipython3",
   "version": "3.13.2"
  }
 },
 "nbformat": 4,
 "nbformat_minor": 5
}
