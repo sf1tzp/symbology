{
 "cells": [
  {
   "cell_type": "code",
   "execution_count": 7,
   "id": "c743e848",
   "metadata": {},
   "outputs": [],
   "source": [
    "from edgar import *\n",
    "from edgar_db.accessors import *\n",
    "from edgar.xbrl2.xbrl import XBRL\n",
    "\n",
    "set_identity(\"dude@stev.lol\")\n",
    "ticker = \"MSFT\"\n",
    "company = get_company(ticker)\n",
    "# filing = get_10k_filing(company, 2024)\n",
    "#\n",
    "# f = filing.obj()\n",
    "# x = XBRL.from_filing(filing)\n",
    "# # df = get_balance_sheet_values(filing)\n",
    "# # df = get_income_statement_values(filing)\n",
    "# # df = get_cash_flow_statement_values(filing)\n",
    "#\n",
    "# # df = x.statements.cash_flow_statement().to_dataframe()\n",
    "# get_balance_sheet_values(filing)\n",
    "# get_cover_page_values(filing)\n"
   ]
  },
  {
   "cell_type": "code",
   "execution_count": 8,
   "id": "4df38f12",
   "metadata": {},
   "outputs": [],
   "source": [
    "d = company.to_dict()"
   ]
  },
  {
   "cell_type": "code",
   "execution_count": 11,
   "id": "105c988d",
   "metadata": {},
   "outputs": [
    {
     "data": {
      "text/plain": [
       "{'cik': 789019,\n",
       " 'name': 'MICROSOFT CORP',\n",
       " 'display_name': 'MICROSOFT CORP',\n",
       " 'is_company': True,\n",
       " 'tickers': ['MSFT'],\n",
       " 'exchanges': ['Nasdaq'],\n",
       " 'sic': '7372',\n",
       " 'industry': 'Services-Prepackaged Software',\n",
       " 'fiscal_year_end': '0630',\n",
       " 'entity_type': 'operating',\n",
       " 'ein': '911144442',\n",
       " 'former_names': []}"
      ]
     },
     "execution_count": 11,
     "metadata": {},
     "output_type": "execute_result"
    }
   ],
   "source": [
    "# filter d to just contain these keys:\n",
    "# cik, name, display_name, is_company, tickers, exchanges, sic, industry, fiscal_year_end, entity_type, ein, former_names\n",
    "filtered_keys = ['cik', 'name', 'display_name', 'is_company', 'tickers', 'exchanges', 'sic', 'industry', 'fiscal_year_end', 'entity_type', 'ein', 'former_names']\n",
    "d = {key: d[key] for key in filtered_keys if key in d}\n",
    "d"
   ]
  },
  {
   "cell_type": "code",
   "execution_count": null,
   "id": "2bcb5c72",
   "metadata": {},
   "outputs": [],
   "source": []
  }
 ],
 "metadata": {
  "kernelspec": {
   "display_name": ".venv",
   "language": "python",
   "name": "python3"
  },
  "language_info": {
   "codemirror_mode": {
    "name": "ipython",
    "version": 3
   },
   "file_extension": ".py",
   "mimetype": "text/x-python",
   "name": "python",
   "nbconvert_exporter": "python",
   "pygments_lexer": "ipython3",
   "version": "3.13.2"
  }
 },
 "nbformat": 4,
 "nbformat_minor": 5
}
