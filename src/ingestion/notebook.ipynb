{
 "cells": [
  {
   "cell_type": "code",
   "execution_count": null,
   "id": "c743e848",
   "metadata": {},
   "outputs": [],
   "source": [
    "from edgar import *\n",
    "from edgar.edgar import *\n",
    "from edgar.xbrl2.xbrl import XBRL\n",
    "\n",
    "set_identity(\"dude@stev.lol\")\n",
    "ticker = \"MSFT\"\n",
    "company = get_company(ticker)\n",
    "filing = get_10k_filing(company, 2024)\n",
    "\n",
    "f = filing.obj()\n",
    "x = XBRL.from_filing(filing)\n",
    "# df = get_balance_sheet_values(filing)\n",
    "# df = get_income_statement_values(filing)\n",
    "# df = get_cash_flow_statement_values(filing)\n",
    "\n",
    "# df = x.statements.cash_flow_statement().to_dataframe()\n",
    "get_balance_sheet_values(filing)\n",
    "get_cover_page_values(filing)\n"
   ]
  },
  {
   "cell_type": "code",
   "execution_count": null,
   "id": "9d2b4316",
   "metadata": {},
   "outputs": [],
   "source": [
    "get_balance_sheet_values(filing)"
   ]
  },
  {
   "cell_type": "code",
   "execution_count": null,
   "id": "4421be31",
   "metadata": {},
   "outputs": [],
   "source": [
    "get_income_statement_values(filing)"
   ]
  },
  {
   "cell_type": "code",
   "execution_count": null,
   "id": "2f0addb1",
   "metadata": {},
   "outputs": [],
   "source": [
    "f.business"
   ]
  },
  {
   "cell_type": "code",
   "execution_count": null,
   "id": "4d5fc0cb",
   "metadata": {},
   "outputs": [],
   "source": [
    "f.management_discussion"
   ]
  },
  {
   "cell_type": "code",
   "execution_count": null,
   "id": "d0886b8c",
   "metadata": {},
   "outputs": [],
   "source": [
    "f.risk_factors"
   ]
  },
  {
   "cell_type": "code",
   "execution_count": null,
   "id": "fae89547",
   "metadata": {},
   "outputs": [],
   "source": [
    "f.company"
   ]
  },
  {
   "cell_type": "code",
   "execution_count": null,
   "id": "588d6e08",
   "metadata": {},
   "outputs": [],
   "source": [
    "f.form"
   ]
  },
  {
   "cell_type": "code",
   "execution_count": null,
   "id": "04f07aa9",
   "metadata": {},
   "outputs": [],
   "source": [
    "f.items"
   ]
  },
  {
   "cell_type": "code",
   "execution_count": null,
   "id": "c194a1c3",
   "metadata": {},
   "outputs": [],
   "source": [
    "f"
   ]
  },
  {
   "cell_type": "code",
   "execution_count": null,
   "id": "589ff52f",
   "metadata": {},
   "outputs": [],
   "source": [
    "f[\"Item 7A\"]"
   ]
  },
  {
   "cell_type": "code",
   "execution_count": null,
   "id": "1a983553",
   "metadata": {},
   "outputs": [],
   "source": [
    "f[\"Item 10\"]"
   ]
  },
  {
   "cell_type": "code",
   "execution_count": null,
   "id": "3a0724d9",
   "metadata": {},
   "outputs": [],
   "source": [
    "f[\"Item 15\"]"
   ]
  }
 ],
 "metadata": {
  "kernelspec": {
   "display_name": ".venv",
   "language": "python",
   "name": "python3"
  },
  "language_info": {
   "codemirror_mode": {
    "name": "ipython",
    "version": 3
   },
   "file_extension": ".py",
   "mimetype": "text/x-python",
   "name": "python",
   "nbconvert_exporter": "python",
   "pygments_lexer": "ipython3",
   "version": "3.13.2"
  }
 },
 "nbformat": 4,
 "nbformat_minor": 5
}
